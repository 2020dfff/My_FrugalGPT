{
 "cells": [
  {
   "cell_type": "code",
   "execution_count": 1,
   "metadata": {},
   "outputs": [
    {
     "data": {
      "text/plain": [
       "'5.22.0'"
      ]
     },
     "execution_count": 1,
     "metadata": {},
     "output_type": "execute_result"
    }
   ],
   "source": [
    "import plotly, logging, pandas\n",
    "import plotly.express as px\n",
    "logger = logging.getLogger()\n",
    "# Setting the threshold of logger to DEBUG\n",
    "#logger.setLevel(logging.INFO)\n",
    "logger.setLevel(logging.DEBUG)\n",
    "\n",
    "import plotly.graph_objects as go\n",
    "\n",
    "from plotly.graph_objects import Layout\n",
    "plotly.__version__\n"
   ]
  },
  {
   "cell_type": "code",
   "execution_count": 2,
   "metadata": {},
   "outputs": [],
   "source": [
    "# helper functions\n",
    "def improve_text_position(x):\n",
    "    \"\"\" it is more efficient if the x values are sorted \"\"\"\n",
    "    # fix indentation \n",
    "    #positions = ['top right', 'bottom right']  # you can add more: left center ...\n",
    "    positions = ['top right','middle right','bottom right']  # you can add more: left center ...\n",
    "    positions = ['bottom center']  # you can add more: left center ...\n",
    "    positions = ['middle right']  # you can add more: left center ...\n",
    "    positions = ['top center']  # you can add more: left center ...\n",
    "\n",
    "    positions = ['middle right',\n",
    "                 'middle right',\n",
    "                 'middle right',\n",
    "                'middle right',\n",
    "                 'middle left',\n",
    "                ]  # you can add more: left center ...\n",
    "\n",
    "    positions = ['bottom center']  # you can add more: left center ...\n",
    "    \n",
    "    return [positions[i % len(positions)] for i in range(len(x))]\n",
    "\n",
    "def show_scatters(data,No_text=False):\n",
    "    if(No_text==True):\n",
    "        text=None\n",
    "    else:\n",
    "        text=\"Method\"\n",
    "    fig = px.scatter(data, x=\"Test_cost\", y=\"Test_acc\", text=text, color=\"Provider\",\n",
    "                     size_max=60,width=600, height=500,\n",
    "                    symbol_sequence= ['circle', 'square', 'diamond','star','bowtie'],\n",
    "                     symbol=\"Marker\",\n",
    "                     color_discrete_sequence = px.colors.qualitative.T10,\n",
    ")\n",
    "\n",
    "    fig.update_traces(textposition=improve_text_position(data['Test_cost']))\n",
    "\n",
    "    fig.update_layout(\n",
    "        margin=dict(l=0,r=0,b=0,t=0),\n",
    "        xaxis_title=\"Cost\",\n",
    "    yaxis_title=\"Accuracy\",\n",
    "        font=dict(\n",
    "        family=\"Arial Black\",\n",
    "        size=18,\n",
    "\n",
    "#        color=\"RebeccaPurple\"\n",
    "    )\n",
    "#        font_family=\"Times New Roman\"\n",
    "\n",
    "    )\n",
    "    \n",
    "    fig.update_traces(marker=dict(size=10,\n",
    "                              ),\n",
    "                     )\n",
    "                      \n",
    "    return fig\n",
    "\n",
    "def add_lines(fig,data,name=\"FrugalGPT\",marker_color=\"orange\",line_color=\"red\"):        \n",
    "    fig.add_trace(\n",
    "        go.Scatter(\n",
    "            name=name,\n",
    "            x=data[\"Test_budget\"],\n",
    "            y=data['Test_acc'],\n",
    "        mode=\"lines+markers\",\n",
    "             marker=dict(size=15\n",
    "                         ,color=marker_color),\n",
    "            \n",
    "        line=go.scatter.Line(color=line_color,width=5),\n",
    "        showlegend=True),\n",
    "        \n",
    ")\n",
    "    return fig\n",
    "   \n",
    "\n",
    "def add_scatters(fig,data,name=\"Test\"):\n",
    "    trace2= px.scatter(x=data[\"Test_cost\"],\n",
    "            y=data['Test_acc'],\n",
    "            text=data[\"Method\"],\n",
    "            title=\"first trace\",\n",
    "            marker=dict(color='red'),           \n",
    "                      )\n",
    "\n",
    "    fig.add_trace(trace2.data[0])\n",
    "    return fig\n",
    "\n",
    "def show_legend(fig,names=[]):\n",
    "    labels_to_show_in_legend = names\n",
    "\n",
    "    for trace in fig['data']: \n",
    "        logging.debug(\"trace is {}\".format(trace))\n",
    "        if (not trace['name'] in labels_to_show_in_legend):\n",
    "            trace['showlegend'] = False\n",
    "        \n",
    "    fig.update_layout(legend=dict(\n",
    "    yanchor=\"top\",\n",
    "    y=0.15,\n",
    "    xanchor=\"center\",\n",
    "    x=0.7\n",
    "),\n",
    "    legend_title=\"\",\n",
    "                     )\n",
    "    fig.update_layout(legend_traceorder=\"reversed\")\n",
    "    return fig\n",
    "\n",
    "def update_format(fig,xrange=None,yrange=None):\n",
    "    layout = Layout(plot_bgcolor='rgba(0,0,0,0)')\n",
    "\n",
    "    \n",
    "    fig.update_layout(\n",
    "        margin=dict(l=0,r=0,b=0,t=0),\n",
    "        xaxis_title=\"Cost ($)\",\n",
    "    yaxis_title=\"Accuracy\",\n",
    "        font=dict(\n",
    "        family=\"Arial\",\n",
    "        size=25,\n",
    "        #color='rgba(0,0,0,0)',\n",
    "\n",
    "#        color=\"RebeccaPurple\"\n",
    "    )\n",
    "#        font_family=\"Times New Roman\"\n",
    "\n",
    "    )\n",
    "    fig.update_layout(plot_bgcolor = \"white\")\n",
    "    fig.update_xaxes(showline=True, linewidth=2, linecolor='black', gridcolor='lightgrey')\n",
    "    fig.update_yaxes(showline=True, linewidth=2, linecolor='black', gridcolor='lightgrey')\n",
    "    fig.update_traces(marker={'size': 15,'opacity':0.7,})\n",
    "    #fig.update_layout(xaxis_type = \"log\")\n",
    "    if(xrange!=None):\n",
    "        fig.update_xaxes(range=xrange)\n",
    "    if(yrange!=None):\n",
    "        fig.update_yaxes(range=yrange)\n",
    "    return fig\n",
    "\n",
    "def data_format(datapath=\"../../summary/headlines_perf_seed_9.csv\",\n",
    "                datapath_FT=\"../../summary/headlines_perf_seed_9_FT.csv\", \n",
    "               ):\n",
    "    d1 = pandas.read_csv(datapath)\n",
    "    d1['Group'] = 'Plain'\n",
    "    d2 = pandas.read_csv(datapath_FT)\n",
    "    d2['Group'] = 'FT'\n",
    "    frames = [d1, d2]\n",
    "\n",
    "    result = pandas.concat(frames)\n",
    "    return result"
   ]
  },
  {
   "cell_type": "code",
   "execution_count": 3,
   "metadata": {},
   "outputs": [],
   "source": [
    "def show_tradeoffs(datapath=\"../../summary/headlines_perf_seed_9.csv\",\n",
    "                   datapath_FT=\"../../summary/headlines_perf_seed_9_FT.csv\",                   \n",
    "                   savepath=\"../../figures/tradeoffs/OVERRULING.pdf\",\n",
    "                   our_method = \"FrugalGPT\",\n",
    "                   SingleLLM = [\"CHATGPT\",\"GPT-C\",\"GPT-3\",\"GPT-4\",\"GPT-Neo\",\"GPT-J\",\"GPT-FSQ\",\"CoHere\",\"CoHere-M\",\"J1\",\"J1-G\",\"FT-GPT-C\"],\n",
    "                   FT_LLM=[\"FT-GPT-C\"],\n",
    "                   LLM_Name_MAP=None,\n",
    "                   legend=False,\n",
    "                   yrange=None,\n",
    "                   xrange=None,\n",
    "                   No_text=False,\n",
    "                   width=600,\n",
    "                   height=600,\n",
    "                  ):\n",
    "    # extract data\n",
    "    data = data_format(datapath=datapath,datapath_FT=datapath_FT) \n",
    "    data['Test_budget'] = data['Budget']*data[\"Test_size\"]\n",
    "    logging.debug(\"data is {}\".format(data))\n",
    "    \n",
    "    # show base method\n",
    "    LLMs = data.loc[data['Method'].isin(SingleLLM)]\n",
    "    if(LLM_Name_MAP!=None):\n",
    "        LLMs = LLMs.replace(LLM_Name_MAP)\n",
    "    #LLMs = LLMs.loc[LLMs['Group']=='FT']\n",
    "    logging.debug(\"base API is {}\".format(LLMs))\n",
    "    fig = show_scatters(LLMs,No_text=No_text)\n",
    "\n",
    "\n",
    "\n",
    "    # show FrugalGPT\n",
    "    FrugalGPT = data.loc[data['Method']==our_method]\n",
    "    FrugalGPT_Plain = FrugalGPT.loc[FrugalGPT['Group']==\"Plain\"]\n",
    "    FrugalGPT_FT = FrugalGPT.loc[FrugalGPT['Group']==\"FT\"]\n",
    "    fig = add_lines(fig,FrugalGPT_Plain,name=\"FrugalGPT\",marker_color=\"red\",line_color=\"red\")\n",
    "    #fig = add_lines(fig,FrugalGPT_FT,name=\"FrugalGPT\",marker_color=\"red\",line_color=\"red\")\n",
    "     \n",
    "    if(legend):    \n",
    "        fig=show_legend(fig,names=['FrugalGPT'])\n",
    "    else:  \n",
    "        fig=show_legend(fig,names=[])\n",
    "        \n",
    "    fig = update_format(fig,yrange=yrange,xrange=xrange)\n",
    "    fig.update_layout(legend=dict(x=0.5,y=1.1),\n",
    "                     width=width,\n",
    "                     height=height)\n",
    "\n",
    "    fig.show()\n",
    "    fig.write_image(savepath)\n",
    "    return fig\n"
   ]
  },
  {
   "cell_type": "code",
   "execution_count": 5,
   "metadata": {},
   "outputs": [
    {
     "name": "stderr",
     "output_type": "stream",
     "text": [
      "DEBUG:root:data is     Test_acc  Test_cost  Test_size  Train_acc  Train_cost  Train_size  \\\n",
      "0      0.100   1.948636       5000     0.8182    1.946876        5000   \n",
      "1      0.100   0.804475       5000     0.7248    0.804312        5000   \n",
      "2      0.100   0.277354       5000     0.7786    0.276954        5000   \n",
      "3      0.100   2.500000       5000     0.8176   27.501500        5000   \n",
      "4      0.100   4.800160       5000     0.7804    4.800000        5000   \n",
      "..       ...        ...        ...        ...         ...         ...   \n",
      "37     0.878   0.000365       5000     0.8908    0.000372        5000   \n",
      "38     0.878   0.000365       5000     0.8908    0.000372        5000   \n",
      "39     0.878   0.000365       5000     0.8908    0.000372        5000   \n",
      "40     0.878   0.000365       5000     0.8908    0.000372        5000   \n",
      "41     0.878   0.000365       5000     0.8908    0.000372        5000   \n",
      "\n",
      "       Budget     Method   Provider  Marker  Group  Test_budget  \n",
      "0   10.000000    GPT-Neo  Textsynth       3  Plain    50000.000  \n",
      "1   10.000000    GPT-FSQ  Textsynth       2  Plain    50000.000  \n",
      "2   10.000000      GPT-J  Textsynth       1  Plain    50000.000  \n",
      "3   10.000000         J1       AI21       3  Plain    50000.000  \n",
      "4   10.000000       J1-G       AI21       2  Plain    50000.000  \n",
      "..        ...        ...        ...     ...    ...          ...  \n",
      "37   0.002849  FrugalGPT  FrugalGPT       1     FT       14.245  \n",
      "38   0.003037  FrugalGPT  FrugalGPT       1     FT       15.185  \n",
      "39   0.003225  FrugalGPT  FrugalGPT       1     FT       16.125  \n",
      "40   0.003412  FrugalGPT  FrugalGPT       1     FT       17.060  \n",
      "41   0.003600  FrugalGPT  FrugalGPT       1     FT       18.000  \n",
      "\n",
      "[84 rows x 12 columns]\n",
      "DEBUG:root:base API is     Test_acc  Test_cost  Test_size  Train_acc  Train_cost  Train_size  Budget  \\\n",
      "0     0.1000   1.948636       5000     0.8182    1.946876        5000    10.0   \n",
      "1     0.1000   0.804475       5000     0.7248    0.804312        5000    10.0   \n",
      "2     0.1000   0.277354       5000     0.7786    0.276954        5000    10.0   \n",
      "3     0.1000   2.500000       5000     0.8176   27.501500        5000    10.0   \n",
      "4     0.1000   4.800160       5000     0.7804    4.800000        5000    10.0   \n",
      "5     0.1000   1.800420       5000     0.7472    1.800000        5000    10.0   \n",
      "7     0.1000   8.958607       5000     0.7822    8.957645        5000    10.0   \n",
      "9     0.1000   6.672471       5000     0.7266    6.668683        5000    10.0   \n",
      "11    0.1000   2.280752       5000     0.6972    2.279510        5000    10.0   \n",
      "12    0.1000   2.221348       5000     0.8118    2.219794        5000    10.0   \n",
      "13    0.1000  20.100000       5000     0.8638   33.292320        5000    10.0   \n",
      "14    0.1000   2.100000       5000     0.8360   22.793240        5000    10.0   \n",
      "17    0.8264   1.003510       5000     0.8290    0.000201        5000    10.0   \n",
      "18    0.8478   0.165673       5000     0.8506    0.000033        5000    10.0   \n",
      "19    0.8324   5.499465       5000     0.8328    0.001100        5000    10.0   \n",
      "20    0.8558  16.652775       5000     0.8616    0.003331        5000    10.0   \n",
      "21    0.8320   0.352027       5000     0.8336    0.000070        5000    10.0   \n",
      "0     0.1000   1.948636       5000     0.8182    1.946876        5000    10.0   \n",
      "1     0.1000   0.804475       5000     0.7248    0.804312        5000    10.0   \n",
      "2     0.1000   0.277354       5000     0.7786    0.276954        5000    10.0   \n",
      "3     0.1000   2.500000       5000     0.8176   27.501500        5000    10.0   \n",
      "4     0.1000   4.800160       5000     0.7804    4.800000        5000    10.0   \n",
      "5     0.1000   1.800420       5000     0.7472    1.800000        5000    10.0   \n",
      "7     0.1000   8.958607       5000     0.7822    8.957645        5000    10.0   \n",
      "9     0.1000   6.672471       5000     0.7266    6.668683        5000    10.0   \n",
      "11    0.1000   2.280752       5000     0.6972    2.279510        5000    10.0   \n",
      "12    0.1000   2.221348       5000     0.8118    2.219794        5000    10.0   \n",
      "13    0.1000  20.100000       5000     0.8638   33.292320        5000    10.0   \n",
      "14    0.1000   2.100000       5000     0.8360   22.793240        5000    10.0   \n",
      "17    0.8264   1.003510       5000     0.8290    0.000201        5000    10.0   \n",
      "18    0.8478   0.165673       5000     0.8506    0.000033        5000    10.0   \n",
      "19    0.8324   5.499465       5000     0.8328    0.001100        5000    10.0   \n",
      "20    0.8558  16.652775       5000     0.8616    0.003331        5000    10.0   \n",
      "21    0.8320   0.352027       5000     0.8336    0.000070        5000    10.0   \n",
      "\n",
      "                         Method    Provider  Marker  Group  Test_budget  \n",
      "0                       GPT-Neo   Textsynth       3  Plain      50000.0  \n",
      "1                           FSQ   Textsynth       2  Plain      50000.0  \n",
      "2                         GPT-J   Textsynth       1  Plain      50000.0  \n",
      "3                            J1        AI21       3  Plain      50000.0  \n",
      "4                          J1-G        AI21       2  Plain      50000.0  \n",
      "5                          J1-L        AI21       1  Plain      50000.0  \n",
      "7                        CoHere      CoHere       2  Plain      50000.0  \n",
      "9                            FQ          FA       1  Plain      50000.0  \n",
      "11                        GPT-C      OpenAI       1  Plain      50000.0  \n",
      "12                      ChatGPT      OpenAI       2  Plain      50000.0  \n",
      "13                        GPT-4      OpenAI       4  Plain      50000.0  \n",
      "14                        GPT-3      OpenAI       3  Plain      50000.0  \n",
      "17                Llama 3 (70B)  togetherai       1  Plain      50000.0  \n",
      "18                  GPT-4o-mini      OpenAI       1  Plain      50000.0  \n",
      "19                       GPT-4o      OpenAI       2  Plain      50000.0  \n",
      "20                   GPT-4Turbo      OpenAI       3  Plain      50000.0  \n",
      "21                     GM2 (9B)  togetherai       2  Plain      50000.0  \n",
      "0                       GPT-Neo   Textsynth       3     FT      50000.0  \n",
      "1                           FSQ   Textsynth       2     FT      50000.0  \n",
      "2                         GPT-J   Textsynth       1     FT      50000.0  \n",
      "3                            J1        AI21       3     FT      50000.0  \n",
      "4                          J1-G        AI21       2     FT      50000.0  \n",
      "5                          J1-L        AI21       1     FT      50000.0  \n",
      "7                        CoHere      CoHere       2     FT      50000.0  \n",
      "9                            FQ          FA       1     FT      50000.0  \n",
      "11                        GPT-C      OpenAI       1     FT      50000.0  \n",
      "12                      ChatGPT      OpenAI       2     FT      50000.0  \n",
      "13                        GPT-4      OpenAI       4     FT      50000.0  \n",
      "14                        GPT-3      OpenAI       3     FT      50000.0  \n",
      "17                Llama 3 (70B)  togetherai       1     FT      50000.0  \n",
      "18                  GPT-4o-mini      OpenAI       1     FT      50000.0  \n",
      "19                       GPT-4o      OpenAI       2     FT      50000.0  \n",
      "20                   GPT-4Turbo      OpenAI       3     FT      50000.0  \n",
      "21                     GM2 (9B)  togetherai       2     FT      50000.0  \n",
      "DEBUG:root:trace is Scatter({\n",
      "    'hovertemplate': ('Provider=Textsynth<br>Marker=3' ... '>Method=%{text}<extra></extra>'),\n",
      "    'legendgroup': 'Textsynth, 3',\n",
      "    'marker': {'color': '#4C78A8', 'size': 10, 'symbol': 'circle'},\n",
      "    'mode': 'markers+text',\n",
      "    'name': 'Textsynth, 3',\n",
      "    'orientation': 'v',\n",
      "    'showlegend': True,\n",
      "    'text': array(['GPT-Neo', 'GPT-Neo'], dtype=object),\n",
      "    'textposition': [bottom center, bottom center, bottom center, bottom center,\n",
      "                     bottom center, bottom center, bottom center, bottom center,\n",
      "                     bottom center, bottom center, bottom center, bottom center,\n",
      "                     bottom center, bottom center, bottom center, bottom center,\n",
      "                     bottom center, bottom center, bottom center, bottom center,\n",
      "                     bottom center, bottom center, bottom center, bottom center,\n",
      "                     bottom center, bottom center, bottom center, bottom center,\n",
      "                     bottom center, bottom center, bottom center, bottom center,\n",
      "                     bottom center, bottom center],\n",
      "    'x': array([1.9486362, 1.9486362]),\n",
      "    'xaxis': 'x',\n",
      "    'y': array([0.1, 0.1]),\n",
      "    'yaxis': 'y'\n",
      "})\n",
      "DEBUG:root:trace is Scatter({\n",
      "    'hovertemplate': ('Provider=Textsynth<br>Marker=2' ... '>Method=%{text}<extra></extra>'),\n",
      "    'legendgroup': 'Textsynth, 2',\n",
      "    'marker': {'color': '#4C78A8', 'size': 10, 'symbol': 'square'},\n",
      "    'mode': 'markers+text',\n",
      "    'name': 'Textsynth, 2',\n",
      "    'orientation': 'v',\n",
      "    'showlegend': True,\n",
      "    'text': array(['FSQ', 'FSQ'], dtype=object),\n",
      "    'textposition': [bottom center, bottom center, bottom center, bottom center,\n",
      "                     bottom center, bottom center, bottom center, bottom center,\n",
      "                     bottom center, bottom center, bottom center, bottom center,\n",
      "                     bottom center, bottom center, bottom center, bottom center,\n",
      "                     bottom center, bottom center, bottom center, bottom center,\n",
      "                     bottom center, bottom center, bottom center, bottom center,\n",
      "                     bottom center, bottom center, bottom center, bottom center,\n",
      "                     bottom center, bottom center, bottom center, bottom center,\n",
      "                     bottom center, bottom center],\n",
      "    'x': array([0.8044752, 0.8044752]),\n",
      "    'xaxis': 'x',\n",
      "    'y': array([0.1, 0.1]),\n",
      "    'yaxis': 'y'\n",
      "})\n",
      "DEBUG:root:trace is Scatter({\n",
      "    'hovertemplate': ('Provider=Textsynth<br>Marker=1' ... '>Method=%{text}<extra></extra>'),\n",
      "    'legendgroup': 'Textsynth, 1',\n",
      "    'marker': {'color': '#4C78A8', 'size': 10, 'symbol': 'diamond'},\n",
      "    'mode': 'markers+text',\n",
      "    'name': 'Textsynth, 1',\n",
      "    'orientation': 'v',\n",
      "    'showlegend': True,\n",
      "    'text': array(['GPT-J', 'GPT-J'], dtype=object),\n",
      "    'textposition': [bottom center, bottom center, bottom center, bottom center,\n",
      "                     bottom center, bottom center, bottom center, bottom center,\n",
      "                     bottom center, bottom center, bottom center, bottom center,\n",
      "                     bottom center, bottom center, bottom center, bottom center,\n",
      "                     bottom center, bottom center, bottom center, bottom center,\n",
      "                     bottom center, bottom center, bottom center, bottom center,\n",
      "                     bottom center, bottom center, bottom center, bottom center,\n",
      "                     bottom center, bottom center, bottom center, bottom center,\n",
      "                     bottom center, bottom center],\n",
      "    'x': array([0.2773536, 0.2773536]),\n",
      "    'xaxis': 'x',\n",
      "    'y': array([0.1, 0.1]),\n",
      "    'yaxis': 'y'\n",
      "})\n",
      "DEBUG:root:trace is Scatter({\n",
      "    'hovertemplate': ('Provider=AI21<br>Marker=3<br>T' ... '>Method=%{text}<extra></extra>'),\n",
      "    'legendgroup': 'AI21, 3',\n",
      "    'marker': {'color': '#F58518', 'size': 10, 'symbol': 'circle'},\n",
      "    'mode': 'markers+text',\n",
      "    'name': 'AI21, 3',\n",
      "    'orientation': 'v',\n",
      "    'showlegend': True,\n",
      "    'text': array(['   J1', '   J1'], dtype=object),\n",
      "    'textposition': [bottom center, bottom center, bottom center, bottom center,\n",
      "                     bottom center, bottom center, bottom center, bottom center,\n",
      "                     bottom center, bottom center, bottom center, bottom center,\n",
      "                     bottom center, bottom center, bottom center, bottom center,\n",
      "                     bottom center, bottom center, bottom center, bottom center,\n",
      "                     bottom center, bottom center, bottom center, bottom center,\n",
      "                     bottom center, bottom center, bottom center, bottom center,\n",
      "                     bottom center, bottom center, bottom center, bottom center,\n",
      "                     bottom center, bottom center],\n",
      "    'x': array([2.5, 2.5]),\n",
      "    'xaxis': 'x',\n",
      "    'y': array([0.1, 0.1]),\n",
      "    'yaxis': 'y'\n",
      "})\n",
      "DEBUG:root:trace is Scatter({\n",
      "    'hovertemplate': ('Provider=AI21<br>Marker=2<br>T' ... '>Method=%{text}<extra></extra>'),\n",
      "    'legendgroup': 'AI21, 2',\n",
      "    'marker': {'color': '#F58518', 'size': 10, 'symbol': 'square'},\n",
      "    'mode': 'markers+text',\n",
      "    'name': 'AI21, 2',\n",
      "    'orientation': 'v',\n",
      "    'showlegend': True,\n",
      "    'text': array(['J1-G', 'J1-G'], dtype=object),\n",
      "    'textposition': [bottom center, bottom center, bottom center, bottom center,\n",
      "                     bottom center, bottom center, bottom center, bottom center,\n",
      "                     bottom center, bottom center, bottom center, bottom center,\n",
      "                     bottom center, bottom center, bottom center, bottom center,\n",
      "                     bottom center, bottom center, bottom center, bottom center,\n",
      "                     bottom center, bottom center, bottom center, bottom center,\n",
      "                     bottom center, bottom center, bottom center, bottom center,\n",
      "                     bottom center, bottom center, bottom center, bottom center,\n",
      "                     bottom center, bottom center],\n",
      "    'x': array([4.80016, 4.80016]),\n",
      "    'xaxis': 'x',\n",
      "    'y': array([0.1, 0.1]),\n",
      "    'yaxis': 'y'\n",
      "})\n",
      "DEBUG:root:trace is Scatter({\n",
      "    'hovertemplate': ('Provider=AI21<br>Marker=1<br>T' ... '>Method=%{text}<extra></extra>'),\n",
      "    'legendgroup': 'AI21, 1',\n",
      "    'marker': {'color': '#F58518', 'size': 10, 'symbol': 'diamond'},\n",
      "    'mode': 'markers+text',\n",
      "    'name': 'AI21, 1',\n",
      "    'orientation': 'v',\n",
      "    'showlegend': True,\n",
      "    'text': array(['J1-L', 'J1-L'], dtype=object),\n",
      "    'textposition': [bottom center, bottom center, bottom center, bottom center,\n",
      "                     bottom center, bottom center, bottom center, bottom center,\n",
      "                     bottom center, bottom center, bottom center, bottom center,\n",
      "                     bottom center, bottom center, bottom center, bottom center,\n",
      "                     bottom center, bottom center, bottom center, bottom center,\n",
      "                     bottom center, bottom center, bottom center, bottom center,\n",
      "                     bottom center, bottom center, bottom center, bottom center,\n",
      "                     bottom center, bottom center, bottom center, bottom center,\n",
      "                     bottom center, bottom center],\n",
      "    'x': array([1.80042, 1.80042]),\n",
      "    'xaxis': 'x',\n",
      "    'y': array([0.1, 0.1]),\n",
      "    'yaxis': 'y'\n",
      "})\n",
      "DEBUG:root:trace is Scatter({\n",
      "    'hovertemplate': ('Provider= CoHere<br>Marker=2<b' ... '>Method=%{text}<extra></extra>'),\n",
      "    'legendgroup': ' CoHere, 2',\n",
      "    'marker': {'color': '#E45756', 'size': 10, 'symbol': 'square'},\n",
      "    'mode': 'markers+text',\n",
      "    'name': ' CoHere, 2',\n",
      "    'orientation': 'v',\n",
      "    'showlegend': True,\n",
      "    'text': array([' CoHere', ' CoHere'], dtype=object),\n",
      "    'textposition': [bottom center, bottom center, bottom center, bottom center,\n",
      "                     bottom center, bottom center, bottom center, bottom center,\n",
      "                     bottom center, bottom center, bottom center, bottom center,\n",
      "                     bottom center, bottom center, bottom center, bottom center,\n",
      "                     bottom center, bottom center, bottom center, bottom center,\n",
      "                     bottom center, bottom center, bottom center, bottom center,\n",
      "                     bottom center, bottom center, bottom center, bottom center,\n",
      "                     bottom center, bottom center, bottom center, bottom center,\n",
      "                     bottom center, bottom center],\n",
      "    'x': array([8.9586075, 8.9586075]),\n",
      "    'xaxis': 'x',\n",
      "    'y': array([0.1, 0.1]),\n",
      "    'yaxis': 'y'\n",
      "})\n",
      "DEBUG:root:trace is Scatter({\n",
      "    'hovertemplate': ('Provider=FA<br>Marker=1<br>Tes' ... '>Method=%{text}<extra></extra>'),\n",
      "    'legendgroup': 'FA, 1',\n",
      "    'marker': {'color': '#72B7B2', 'size': 10, 'symbol': 'diamond'},\n",
      "    'mode': 'markers+text',\n",
      "    'name': 'FA, 1',\n",
      "    'orientation': 'v',\n",
      "    'showlegend': True,\n",
      "    'text': array(['FQ', 'FQ'], dtype=object),\n",
      "    'textposition': [bottom center, bottom center, bottom center, bottom center,\n",
      "                     bottom center, bottom center, bottom center, bottom center,\n",
      "                     bottom center, bottom center, bottom center, bottom center,\n",
      "                     bottom center, bottom center, bottom center, bottom center,\n",
      "                     bottom center, bottom center, bottom center, bottom center,\n",
      "                     bottom center, bottom center, bottom center, bottom center,\n",
      "                     bottom center, bottom center, bottom center, bottom center,\n",
      "                     bottom center, bottom center, bottom center, bottom center,\n",
      "                     bottom center, bottom center],\n",
      "    'x': array([6.6724708, 6.6724708]),\n",
      "    'xaxis': 'x',\n",
      "    'y': array([0.1, 0.1]),\n",
      "    'yaxis': 'y'\n",
      "})\n",
      "DEBUG:root:trace is Scatter({\n",
      "    'hovertemplate': ('Provider=OpenAI<br>Marker=3<br' ... '>Method=%{text}<extra></extra>'),\n",
      "    'legendgroup': 'OpenAI, 3',\n",
      "    'marker': {'color': '#54A24B', 'size': 10, 'symbol': 'circle'},\n",
      "    'mode': 'markers+text',\n",
      "    'name': 'OpenAI, 3',\n",
      "    'orientation': 'v',\n",
      "    'showlegend': True,\n",
      "    'text': array(['GPT-3', 'GPT-4Turbo', 'GPT-3', 'GPT-4Turbo'], dtype=object),\n",
      "    'textposition': [bottom center, bottom center, bottom center, bottom center,\n",
      "                     bottom center, bottom center, bottom center, bottom center,\n",
      "                     bottom center, bottom center, bottom center, bottom center,\n",
      "                     bottom center, bottom center, bottom center, bottom center,\n",
      "                     bottom center, bottom center, bottom center, bottom center,\n",
      "                     bottom center, bottom center, bottom center, bottom center,\n",
      "                     bottom center, bottom center, bottom center, bottom center,\n",
      "                     bottom center, bottom center, bottom center, bottom center,\n",
      "                     bottom center, bottom center],\n",
      "    'x': array([ 2.1     , 16.652775,  2.1     , 16.652775]),\n",
      "    'xaxis': 'x',\n",
      "    'y': array([0.1   , 0.8558, 0.1   , 0.8558]),\n",
      "    'yaxis': 'y'\n",
      "})\n",
      "DEBUG:root:trace is Scatter({\n",
      "    'hovertemplate': ('Provider=OpenAI<br>Marker=2<br' ... '>Method=%{text}<extra></extra>'),\n",
      "    'legendgroup': 'OpenAI, 2',\n",
      "    'marker': {'color': '#54A24B', 'size': 10, 'symbol': 'square'},\n",
      "    'mode': 'markers+text',\n",
      "    'name': 'OpenAI, 2',\n",
      "    'orientation': 'v',\n",
      "    'showlegend': True,\n",
      "    'text': array(['ChatGPT', '             GPT-4o', 'ChatGPT', '             GPT-4o'],\n",
      "                  dtype=object),\n",
      "    'textposition': [bottom center, bottom center, bottom center, bottom center,\n",
      "                     bottom center, bottom center, bottom center, bottom center,\n",
      "                     bottom center, bottom center, bottom center, bottom center,\n",
      "                     bottom center, bottom center, bottom center, bottom center,\n",
      "                     bottom center, bottom center, bottom center, bottom center,\n",
      "                     bottom center, bottom center, bottom center, bottom center,\n",
      "                     bottom center, bottom center, bottom center, bottom center,\n",
      "                     bottom center, bottom center, bottom center, bottom center,\n",
      "                     bottom center, bottom center],\n",
      "    'x': array([2.221348, 5.499465, 2.221348, 5.499465]),\n",
      "    'xaxis': 'x',\n",
      "    'y': array([0.1   , 0.8324, 0.1   , 0.8324]),\n",
      "    'yaxis': 'y'\n",
      "})\n",
      "DEBUG:root:trace is Scatter({\n",
      "    'hovertemplate': ('Provider=OpenAI<br>Marker=1<br' ... '>Method=%{text}<extra></extra>'),\n",
      "    'legendgroup': 'OpenAI, 1',\n",
      "    'marker': {'color': '#54A24B', 'size': 10, 'symbol': 'diamond'},\n",
      "    'mode': 'markers+text',\n",
      "    'name': 'OpenAI, 1',\n",
      "    'orientation': 'v',\n",
      "    'showlegend': True,\n",
      "    'text': array(['GPT-C', '            GPT-4o-mini', 'GPT-C', '            GPT-4o-mini'],\n",
      "                  dtype=object),\n",
      "    'textposition': [bottom center, bottom center, bottom center, bottom center,\n",
      "                     bottom center, bottom center, bottom center, bottom center,\n",
      "                     bottom center, bottom center, bottom center, bottom center,\n",
      "                     bottom center, bottom center, bottom center, bottom center,\n",
      "                     bottom center, bottom center, bottom center, bottom center,\n",
      "                     bottom center, bottom center, bottom center, bottom center,\n",
      "                     bottom center, bottom center, bottom center, bottom center,\n",
      "                     bottom center, bottom center, bottom center, bottom center,\n",
      "                     bottom center, bottom center],\n",
      "    'x': array([2.280752  , 0.16567335, 2.280752  , 0.16567335]),\n",
      "    'xaxis': 'x',\n",
      "    'y': array([0.1   , 0.8478, 0.1   , 0.8478]),\n",
      "    'yaxis': 'y'\n",
      "})\n",
      "DEBUG:root:trace is Scatter({\n",
      "    'hovertemplate': ('Provider=OpenAI<br>Marker=4<br' ... '>Method=%{text}<extra></extra>'),\n",
      "    'legendgroup': 'OpenAI, 4',\n",
      "    'marker': {'color': '#54A24B', 'size': 10, 'symbol': 'star'},\n",
      "    'mode': 'markers+text',\n",
      "    'name': 'OpenAI, 4',\n",
      "    'orientation': 'v',\n",
      "    'showlegend': True,\n",
      "    'text': array(['GPT-4', 'GPT-4'], dtype=object),\n",
      "    'textposition': [bottom center, bottom center, bottom center, bottom center,\n",
      "                     bottom center, bottom center, bottom center, bottom center,\n",
      "                     bottom center, bottom center, bottom center, bottom center,\n",
      "                     bottom center, bottom center, bottom center, bottom center,\n",
      "                     bottom center, bottom center, bottom center, bottom center,\n",
      "                     bottom center, bottom center, bottom center, bottom center,\n",
      "                     bottom center, bottom center, bottom center, bottom center,\n",
      "                     bottom center, bottom center, bottom center, bottom center,\n",
      "                     bottom center, bottom center],\n",
      "    'x': array([20.1, 20.1]),\n",
      "    'xaxis': 'x',\n",
      "    'y': array([0.1, 0.1]),\n",
      "    'yaxis': 'y'\n",
      "})\n",
      "DEBUG:root:trace is Scatter({\n",
      "    'hovertemplate': ('Provider=togetherai<br>Marker=' ... '>Method=%{text}<extra></extra>'),\n",
      "    'legendgroup': 'togetherai, 2',\n",
      "    'marker': {'color': '#EECA3B', 'size': 10, 'symbol': 'square'},\n",
      "    'mode': 'markers+text',\n",
      "    'name': 'togetherai, 2',\n",
      "    'orientation': 'v',\n",
      "    'showlegend': True,\n",
      "    'text': array(['      GM2 (9B)', '      GM2 (9B)'], dtype=object),\n",
      "    'textposition': [bottom center, bottom center, bottom center, bottom center,\n",
      "                     bottom center, bottom center, bottom center, bottom center,\n",
      "                     bottom center, bottom center, bottom center, bottom center,\n",
      "                     bottom center, bottom center, bottom center, bottom center,\n",
      "                     bottom center, bottom center, bottom center, bottom center,\n",
      "                     bottom center, bottom center, bottom center, bottom center,\n",
      "                     bottom center, bottom center, bottom center, bottom center,\n",
      "                     bottom center, bottom center, bottom center, bottom center,\n",
      "                     bottom center, bottom center],\n",
      "    'x': array([0.3520269, 0.3520269]),\n",
      "    'xaxis': 'x',\n",
      "    'y': array([0.832, 0.832]),\n",
      "    'yaxis': 'y'\n",
      "})\n",
      "DEBUG:root:trace is Scatter({\n",
      "    'hovertemplate': ('Provider=togetherai<br>Marker=' ... '>Method=%{text}<extra></extra>'),\n",
      "    'legendgroup': 'togetherai, 1',\n",
      "    'marker': {'color': '#EECA3B', 'size': 10, 'symbol': 'diamond'},\n",
      "    'mode': 'markers+text',\n",
      "    'name': 'togetherai, 1',\n",
      "    'orientation': 'v',\n",
      "    'showlegend': True,\n",
      "    'text': array(['              Llama 3 (70B)', '              Llama 3 (70B)'],\n",
      "                  dtype=object),\n",
      "    'textposition': [bottom center, bottom center, bottom center, bottom center,\n",
      "                     bottom center, bottom center, bottom center, bottom center,\n",
      "                     bottom center, bottom center, bottom center, bottom center,\n",
      "                     bottom center, bottom center, bottom center, bottom center,\n",
      "                     bottom center, bottom center, bottom center, bottom center,\n",
      "                     bottom center, bottom center, bottom center, bottom center,\n",
      "                     bottom center, bottom center, bottom center, bottom center,\n",
      "                     bottom center, bottom center, bottom center, bottom center,\n",
      "                     bottom center, bottom center],\n",
      "    'x': array([1.00351, 1.00351]),\n",
      "    'xaxis': 'x',\n",
      "    'y': array([0.8264, 0.8264]),\n",
      "    'yaxis': 'y'\n",
      "})\n",
      "DEBUG:root:trace is Scatter({\n",
      "    'line': {'color': 'red', 'width': 5},\n",
      "    'marker': {'color': 'red', 'size': 15},\n",
      "    'mode': 'lines+markers',\n",
      "    'name': 'FrugalGPT',\n",
      "    'showlegend': True,\n",
      "    'x': array([ 0.175,  1.115,  2.05 ,  2.99 ,  3.93 ,  4.865,  5.805,  6.74 ,  7.68 ,\n",
      "                 8.62 ,  9.555, 10.495, 11.435, 12.37 , 13.31 , 14.245, 15.185, 16.125,\n",
      "                17.06 , 18.   ]),\n",
      "    'y': array([0.8478, 0.8726, 0.878 , 0.878 , 0.878 , 0.878 , 0.878 , 0.878 , 0.878 ,\n",
      "                0.878 , 0.878 , 0.878 , 0.878 , 0.878 , 0.878 , 0.878 , 0.878 , 0.878 ,\n",
      "                0.878 , 0.878 ])\n",
      "})\n"
     ]
    },
    {
     "data": {
      "application/vnd.plotly.v1+json": {
       "config": {
        "plotlyServerURL": "https://plot.ly"
       },
       "data": [
        {
         "hovertemplate": "Provider=Textsynth<br>Marker=3<br>Test_cost=%{x}<br>Test_acc=%{y}<br>Method=%{text}<extra></extra>",
         "legendgroup": "Textsynth, 3",
         "marker": {
          "color": "#4C78A8",
          "opacity": 0.7,
          "size": 15,
          "symbol": "circle"
         },
         "mode": "markers+text",
         "name": "Textsynth, 3",
         "orientation": "v",
         "showlegend": false,
         "text": [
          "GPT-Neo",
          "GPT-Neo"
         ],
         "textposition": [
          "bottom center",
          "bottom center",
          "bottom center",
          "bottom center",
          "bottom center",
          "bottom center",
          "bottom center",
          "bottom center",
          "bottom center",
          "bottom center",
          "bottom center",
          "bottom center",
          "bottom center",
          "bottom center",
          "bottom center",
          "bottom center",
          "bottom center",
          "bottom center",
          "bottom center",
          "bottom center",
          "bottom center",
          "bottom center",
          "bottom center",
          "bottom center",
          "bottom center",
          "bottom center",
          "bottom center",
          "bottom center",
          "bottom center",
          "bottom center",
          "bottom center",
          "bottom center",
          "bottom center",
          "bottom center"
         ],
         "type": "scatter",
         "x": [
          1.9486362,
          1.9486362
         ],
         "xaxis": "x",
         "y": [
          0.1,
          0.1
         ],
         "yaxis": "y"
        },
        {
         "hovertemplate": "Provider=Textsynth<br>Marker=2<br>Test_cost=%{x}<br>Test_acc=%{y}<br>Method=%{text}<extra></extra>",
         "legendgroup": "Textsynth, 2",
         "marker": {
          "color": "#4C78A8",
          "opacity": 0.7,
          "size": 15,
          "symbol": "square"
         },
         "mode": "markers+text",
         "name": "Textsynth, 2",
         "orientation": "v",
         "showlegend": false,
         "text": [
          "FSQ",
          "FSQ"
         ],
         "textposition": [
          "bottom center",
          "bottom center",
          "bottom center",
          "bottom center",
          "bottom center",
          "bottom center",
          "bottom center",
          "bottom center",
          "bottom center",
          "bottom center",
          "bottom center",
          "bottom center",
          "bottom center",
          "bottom center",
          "bottom center",
          "bottom center",
          "bottom center",
          "bottom center",
          "bottom center",
          "bottom center",
          "bottom center",
          "bottom center",
          "bottom center",
          "bottom center",
          "bottom center",
          "bottom center",
          "bottom center",
          "bottom center",
          "bottom center",
          "bottom center",
          "bottom center",
          "bottom center",
          "bottom center",
          "bottom center"
         ],
         "type": "scatter",
         "x": [
          0.8044752,
          0.8044752
         ],
         "xaxis": "x",
         "y": [
          0.1,
          0.1
         ],
         "yaxis": "y"
        },
        {
         "hovertemplate": "Provider=Textsynth<br>Marker=1<br>Test_cost=%{x}<br>Test_acc=%{y}<br>Method=%{text}<extra></extra>",
         "legendgroup": "Textsynth, 1",
         "marker": {
          "color": "#4C78A8",
          "opacity": 0.7,
          "size": 15,
          "symbol": "diamond"
         },
         "mode": "markers+text",
         "name": "Textsynth, 1",
         "orientation": "v",
         "showlegend": false,
         "text": [
          "GPT-J",
          "GPT-J"
         ],
         "textposition": [
          "bottom center",
          "bottom center",
          "bottom center",
          "bottom center",
          "bottom center",
          "bottom center",
          "bottom center",
          "bottom center",
          "bottom center",
          "bottom center",
          "bottom center",
          "bottom center",
          "bottom center",
          "bottom center",
          "bottom center",
          "bottom center",
          "bottom center",
          "bottom center",
          "bottom center",
          "bottom center",
          "bottom center",
          "bottom center",
          "bottom center",
          "bottom center",
          "bottom center",
          "bottom center",
          "bottom center",
          "bottom center",
          "bottom center",
          "bottom center",
          "bottom center",
          "bottom center",
          "bottom center",
          "bottom center"
         ],
         "type": "scatter",
         "x": [
          0.2773536,
          0.2773536
         ],
         "xaxis": "x",
         "y": [
          0.1,
          0.1
         ],
         "yaxis": "y"
        },
        {
         "hovertemplate": "Provider=AI21<br>Marker=3<br>Test_cost=%{x}<br>Test_acc=%{y}<br>Method=%{text}<extra></extra>",
         "legendgroup": "AI21, 3",
         "marker": {
          "color": "#F58518",
          "opacity": 0.7,
          "size": 15,
          "symbol": "circle"
         },
         "mode": "markers+text",
         "name": "AI21, 3",
         "orientation": "v",
         "showlegend": false,
         "text": [
          "   J1",
          "   J1"
         ],
         "textposition": [
          "bottom center",
          "bottom center",
          "bottom center",
          "bottom center",
          "bottom center",
          "bottom center",
          "bottom center",
          "bottom center",
          "bottom center",
          "bottom center",
          "bottom center",
          "bottom center",
          "bottom center",
          "bottom center",
          "bottom center",
          "bottom center",
          "bottom center",
          "bottom center",
          "bottom center",
          "bottom center",
          "bottom center",
          "bottom center",
          "bottom center",
          "bottom center",
          "bottom center",
          "bottom center",
          "bottom center",
          "bottom center",
          "bottom center",
          "bottom center",
          "bottom center",
          "bottom center",
          "bottom center",
          "bottom center"
         ],
         "type": "scatter",
         "x": [
          2.5,
          2.5
         ],
         "xaxis": "x",
         "y": [
          0.1,
          0.1
         ],
         "yaxis": "y"
        },
        {
         "hovertemplate": "Provider=AI21<br>Marker=2<br>Test_cost=%{x}<br>Test_acc=%{y}<br>Method=%{text}<extra></extra>",
         "legendgroup": "AI21, 2",
         "marker": {
          "color": "#F58518",
          "opacity": 0.7,
          "size": 15,
          "symbol": "square"
         },
         "mode": "markers+text",
         "name": "AI21, 2",
         "orientation": "v",
         "showlegend": false,
         "text": [
          "J1-G",
          "J1-G"
         ],
         "textposition": [
          "bottom center",
          "bottom center",
          "bottom center",
          "bottom center",
          "bottom center",
          "bottom center",
          "bottom center",
          "bottom center",
          "bottom center",
          "bottom center",
          "bottom center",
          "bottom center",
          "bottom center",
          "bottom center",
          "bottom center",
          "bottom center",
          "bottom center",
          "bottom center",
          "bottom center",
          "bottom center",
          "bottom center",
          "bottom center",
          "bottom center",
          "bottom center",
          "bottom center",
          "bottom center",
          "bottom center",
          "bottom center",
          "bottom center",
          "bottom center",
          "bottom center",
          "bottom center",
          "bottom center",
          "bottom center"
         ],
         "type": "scatter",
         "x": [
          4.80016,
          4.80016
         ],
         "xaxis": "x",
         "y": [
          0.1,
          0.1
         ],
         "yaxis": "y"
        },
        {
         "hovertemplate": "Provider=AI21<br>Marker=1<br>Test_cost=%{x}<br>Test_acc=%{y}<br>Method=%{text}<extra></extra>",
         "legendgroup": "AI21, 1",
         "marker": {
          "color": "#F58518",
          "opacity": 0.7,
          "size": 15,
          "symbol": "diamond"
         },
         "mode": "markers+text",
         "name": "AI21, 1",
         "orientation": "v",
         "showlegend": false,
         "text": [
          "J1-L",
          "J1-L"
         ],
         "textposition": [
          "bottom center",
          "bottom center",
          "bottom center",
          "bottom center",
          "bottom center",
          "bottom center",
          "bottom center",
          "bottom center",
          "bottom center",
          "bottom center",
          "bottom center",
          "bottom center",
          "bottom center",
          "bottom center",
          "bottom center",
          "bottom center",
          "bottom center",
          "bottom center",
          "bottom center",
          "bottom center",
          "bottom center",
          "bottom center",
          "bottom center",
          "bottom center",
          "bottom center",
          "bottom center",
          "bottom center",
          "bottom center",
          "bottom center",
          "bottom center",
          "bottom center",
          "bottom center",
          "bottom center",
          "bottom center"
         ],
         "type": "scatter",
         "x": [
          1.80042,
          1.80042
         ],
         "xaxis": "x",
         "y": [
          0.1,
          0.1
         ],
         "yaxis": "y"
        },
        {
         "hovertemplate": "Provider= CoHere<br>Marker=2<br>Test_cost=%{x}<br>Test_acc=%{y}<br>Method=%{text}<extra></extra>",
         "legendgroup": " CoHere, 2",
         "marker": {
          "color": "#E45756",
          "opacity": 0.7,
          "size": 15,
          "symbol": "square"
         },
         "mode": "markers+text",
         "name": " CoHere, 2",
         "orientation": "v",
         "showlegend": false,
         "text": [
          " CoHere",
          " CoHere"
         ],
         "textposition": [
          "bottom center",
          "bottom center",
          "bottom center",
          "bottom center",
          "bottom center",
          "bottom center",
          "bottom center",
          "bottom center",
          "bottom center",
          "bottom center",
          "bottom center",
          "bottom center",
          "bottom center",
          "bottom center",
          "bottom center",
          "bottom center",
          "bottom center",
          "bottom center",
          "bottom center",
          "bottom center",
          "bottom center",
          "bottom center",
          "bottom center",
          "bottom center",
          "bottom center",
          "bottom center",
          "bottom center",
          "bottom center",
          "bottom center",
          "bottom center",
          "bottom center",
          "bottom center",
          "bottom center",
          "bottom center"
         ],
         "type": "scatter",
         "x": [
          8.9586075,
          8.9586075
         ],
         "xaxis": "x",
         "y": [
          0.1,
          0.1
         ],
         "yaxis": "y"
        },
        {
         "hovertemplate": "Provider=FA<br>Marker=1<br>Test_cost=%{x}<br>Test_acc=%{y}<br>Method=%{text}<extra></extra>",
         "legendgroup": "FA, 1",
         "marker": {
          "color": "#72B7B2",
          "opacity": 0.7,
          "size": 15,
          "symbol": "diamond"
         },
         "mode": "markers+text",
         "name": "FA, 1",
         "orientation": "v",
         "showlegend": false,
         "text": [
          "FQ",
          "FQ"
         ],
         "textposition": [
          "bottom center",
          "bottom center",
          "bottom center",
          "bottom center",
          "bottom center",
          "bottom center",
          "bottom center",
          "bottom center",
          "bottom center",
          "bottom center",
          "bottom center",
          "bottom center",
          "bottom center",
          "bottom center",
          "bottom center",
          "bottom center",
          "bottom center",
          "bottom center",
          "bottom center",
          "bottom center",
          "bottom center",
          "bottom center",
          "bottom center",
          "bottom center",
          "bottom center",
          "bottom center",
          "bottom center",
          "bottom center",
          "bottom center",
          "bottom center",
          "bottom center",
          "bottom center",
          "bottom center",
          "bottom center"
         ],
         "type": "scatter",
         "x": [
          6.6724708,
          6.6724708
         ],
         "xaxis": "x",
         "y": [
          0.1,
          0.1
         ],
         "yaxis": "y"
        },
        {
         "hovertemplate": "Provider=OpenAI<br>Marker=3<br>Test_cost=%{x}<br>Test_acc=%{y}<br>Method=%{text}<extra></extra>",
         "legendgroup": "OpenAI, 3",
         "marker": {
          "color": "#54A24B",
          "opacity": 0.7,
          "size": 15,
          "symbol": "circle"
         },
         "mode": "markers+text",
         "name": "OpenAI, 3",
         "orientation": "v",
         "showlegend": false,
         "text": [
          "GPT-3",
          "GPT-4Turbo",
          "GPT-3",
          "GPT-4Turbo"
         ],
         "textposition": [
          "bottom center",
          "bottom center",
          "bottom center",
          "bottom center",
          "bottom center",
          "bottom center",
          "bottom center",
          "bottom center",
          "bottom center",
          "bottom center",
          "bottom center",
          "bottom center",
          "bottom center",
          "bottom center",
          "bottom center",
          "bottom center",
          "bottom center",
          "bottom center",
          "bottom center",
          "bottom center",
          "bottom center",
          "bottom center",
          "bottom center",
          "bottom center",
          "bottom center",
          "bottom center",
          "bottom center",
          "bottom center",
          "bottom center",
          "bottom center",
          "bottom center",
          "bottom center",
          "bottom center",
          "bottom center"
         ],
         "type": "scatter",
         "x": [
          2.1,
          16.652775000000002,
          2.1,
          16.652775000000002
         ],
         "xaxis": "x",
         "y": [
          0.1,
          0.8558,
          0.1,
          0.8558
         ],
         "yaxis": "y"
        },
        {
         "hovertemplate": "Provider=OpenAI<br>Marker=2<br>Test_cost=%{x}<br>Test_acc=%{y}<br>Method=%{text}<extra></extra>",
         "legendgroup": "OpenAI, 2",
         "marker": {
          "color": "#54A24B",
          "opacity": 0.7,
          "size": 15,
          "symbol": "square"
         },
         "mode": "markers+text",
         "name": "OpenAI, 2",
         "orientation": "v",
         "showlegend": false,
         "text": [
          "ChatGPT",
          "             GPT-4o",
          "ChatGPT",
          "             GPT-4o"
         ],
         "textposition": [
          "bottom center",
          "bottom center",
          "bottom center",
          "bottom center",
          "bottom center",
          "bottom center",
          "bottom center",
          "bottom center",
          "bottom center",
          "bottom center",
          "bottom center",
          "bottom center",
          "bottom center",
          "bottom center",
          "bottom center",
          "bottom center",
          "bottom center",
          "bottom center",
          "bottom center",
          "bottom center",
          "bottom center",
          "bottom center",
          "bottom center",
          "bottom center",
          "bottom center",
          "bottom center",
          "bottom center",
          "bottom center",
          "bottom center",
          "bottom center",
          "bottom center",
          "bottom center",
          "bottom center",
          "bottom center"
         ],
         "type": "scatter",
         "x": [
          2.221348,
          5.499465000000001,
          2.221348,
          5.499465000000001
         ],
         "xaxis": "x",
         "y": [
          0.1,
          0.8324,
          0.1,
          0.8324
         ],
         "yaxis": "y"
        },
        {
         "hovertemplate": "Provider=OpenAI<br>Marker=1<br>Test_cost=%{x}<br>Test_acc=%{y}<br>Method=%{text}<extra></extra>",
         "legendgroup": "OpenAI, 1",
         "marker": {
          "color": "#54A24B",
          "opacity": 0.7,
          "size": 15,
          "symbol": "diamond"
         },
         "mode": "markers+text",
         "name": "OpenAI, 1",
         "orientation": "v",
         "showlegend": false,
         "text": [
          "GPT-C",
          "            GPT-4o-mini",
          "GPT-C",
          "            GPT-4o-mini"
         ],
         "textposition": [
          "bottom center",
          "bottom center",
          "bottom center",
          "bottom center",
          "bottom center",
          "bottom center",
          "bottom center",
          "bottom center",
          "bottom center",
          "bottom center",
          "bottom center",
          "bottom center",
          "bottom center",
          "bottom center",
          "bottom center",
          "bottom center",
          "bottom center",
          "bottom center",
          "bottom center",
          "bottom center",
          "bottom center",
          "bottom center",
          "bottom center",
          "bottom center",
          "bottom center",
          "bottom center",
          "bottom center",
          "bottom center",
          "bottom center",
          "bottom center",
          "bottom center",
          "bottom center",
          "bottom center",
          "bottom center"
         ],
         "type": "scatter",
         "x": [
          2.280752,
          0.16567335,
          2.280752,
          0.16567335
         ],
         "xaxis": "x",
         "y": [
          0.1,
          0.8478,
          0.1,
          0.8478
         ],
         "yaxis": "y"
        },
        {
         "hovertemplate": "Provider=OpenAI<br>Marker=4<br>Test_cost=%{x}<br>Test_acc=%{y}<br>Method=%{text}<extra></extra>",
         "legendgroup": "OpenAI, 4",
         "marker": {
          "color": "#54A24B",
          "opacity": 0.7,
          "size": 15,
          "symbol": "star"
         },
         "mode": "markers+text",
         "name": "OpenAI, 4",
         "orientation": "v",
         "showlegend": false,
         "text": [
          "GPT-4",
          "GPT-4"
         ],
         "textposition": [
          "bottom center",
          "bottom center",
          "bottom center",
          "bottom center",
          "bottom center",
          "bottom center",
          "bottom center",
          "bottom center",
          "bottom center",
          "bottom center",
          "bottom center",
          "bottom center",
          "bottom center",
          "bottom center",
          "bottom center",
          "bottom center",
          "bottom center",
          "bottom center",
          "bottom center",
          "bottom center",
          "bottom center",
          "bottom center",
          "bottom center",
          "bottom center",
          "bottom center",
          "bottom center",
          "bottom center",
          "bottom center",
          "bottom center",
          "bottom center",
          "bottom center",
          "bottom center",
          "bottom center",
          "bottom center"
         ],
         "type": "scatter",
         "x": [
          20.1,
          20.1
         ],
         "xaxis": "x",
         "y": [
          0.1,
          0.1
         ],
         "yaxis": "y"
        },
        {
         "hovertemplate": "Provider=togetherai<br>Marker=2<br>Test_cost=%{x}<br>Test_acc=%{y}<br>Method=%{text}<extra></extra>",
         "legendgroup": "togetherai, 2",
         "marker": {
          "color": "#EECA3B",
          "opacity": 0.7,
          "size": 15,
          "symbol": "square"
         },
         "mode": "markers+text",
         "name": "togetherai, 2",
         "orientation": "v",
         "showlegend": false,
         "text": [
          "      GM2 (9B)",
          "      GM2 (9B)"
         ],
         "textposition": [
          "bottom center",
          "bottom center",
          "bottom center",
          "bottom center",
          "bottom center",
          "bottom center",
          "bottom center",
          "bottom center",
          "bottom center",
          "bottom center",
          "bottom center",
          "bottom center",
          "bottom center",
          "bottom center",
          "bottom center",
          "bottom center",
          "bottom center",
          "bottom center",
          "bottom center",
          "bottom center",
          "bottom center",
          "bottom center",
          "bottom center",
          "bottom center",
          "bottom center",
          "bottom center",
          "bottom center",
          "bottom center",
          "bottom center",
          "bottom center",
          "bottom center",
          "bottom center",
          "bottom center",
          "bottom center"
         ],
         "type": "scatter",
         "x": [
          0.3520268999999999,
          0.3520268999999999
         ],
         "xaxis": "x",
         "y": [
          0.832,
          0.832
         ],
         "yaxis": "y"
        },
        {
         "hovertemplate": "Provider=togetherai<br>Marker=1<br>Test_cost=%{x}<br>Test_acc=%{y}<br>Method=%{text}<extra></extra>",
         "legendgroup": "togetherai, 1",
         "marker": {
          "color": "#EECA3B",
          "opacity": 0.7,
          "size": 15,
          "symbol": "diamond"
         },
         "mode": "markers+text",
         "name": "togetherai, 1",
         "orientation": "v",
         "showlegend": false,
         "text": [
          "              Llama 3 (70B)",
          "              Llama 3 (70B)"
         ],
         "textposition": [
          "bottom center",
          "bottom center",
          "bottom center",
          "bottom center",
          "bottom center",
          "bottom center",
          "bottom center",
          "bottom center",
          "bottom center",
          "bottom center",
          "bottom center",
          "bottom center",
          "bottom center",
          "bottom center",
          "bottom center",
          "bottom center",
          "bottom center",
          "bottom center",
          "bottom center",
          "bottom center",
          "bottom center",
          "bottom center",
          "bottom center",
          "bottom center",
          "bottom center",
          "bottom center",
          "bottom center",
          "bottom center",
          "bottom center",
          "bottom center",
          "bottom center",
          "bottom center",
          "bottom center",
          "bottom center"
         ],
         "type": "scatter",
         "x": [
          1.00351,
          1.00351
         ],
         "xaxis": "x",
         "y": [
          0.8264,
          0.8264
         ],
         "yaxis": "y"
        },
        {
         "line": {
          "color": "red",
          "width": 5
         },
         "marker": {
          "color": "red",
          "opacity": 0.7,
          "size": 15
         },
         "mode": "lines+markers",
         "name": "FrugalGPT",
         "showlegend": true,
         "type": "scatter",
         "x": [
          0.175,
          1.115,
          2.05,
          2.99,
          3.93,
          4.865,
          5.805,
          6.74,
          7.680000000000001,
          8.620000000000001,
          9.555,
          10.495000000000001,
          11.435,
          12.370000000000001,
          13.309999999999999,
          14.245,
          15.185,
          16.125,
          17.060000000000002,
          18
         ],
         "y": [
          0.8478,
          0.8726,
          0.878,
          0.878,
          0.878,
          0.878,
          0.878,
          0.878,
          0.878,
          0.878,
          0.878,
          0.878,
          0.878,
          0.878,
          0.878,
          0.878,
          0.878,
          0.878,
          0.878,
          0.878
         ]
        }
       ],
       "layout": {
        "font": {
         "family": "Arial",
         "size": 25
        },
        "height": 400,
        "legend": {
         "title": {
          "text": ""
         },
         "tracegroupgap": 0,
         "traceorder": "reversed",
         "x": 0.5,
         "xanchor": "center",
         "y": 1.1,
         "yanchor": "top"
        },
        "margin": {
         "b": 0,
         "l": 0,
         "r": 0,
         "t": 0
        },
        "plot_bgcolor": "white",
        "template": {
         "data": {
          "bar": [
           {
            "error_x": {
             "color": "#2a3f5f"
            },
            "error_y": {
             "color": "#2a3f5f"
            },
            "marker": {
             "line": {
              "color": "#E5ECF6",
              "width": 0.5
             },
             "pattern": {
              "fillmode": "overlay",
              "size": 10,
              "solidity": 0.2
             }
            },
            "type": "bar"
           }
          ],
          "barpolar": [
           {
            "marker": {
             "line": {
              "color": "#E5ECF6",
              "width": 0.5
             },
             "pattern": {
              "fillmode": "overlay",
              "size": 10,
              "solidity": 0.2
             }
            },
            "type": "barpolar"
           }
          ],
          "carpet": [
           {
            "aaxis": {
             "endlinecolor": "#2a3f5f",
             "gridcolor": "white",
             "linecolor": "white",
             "minorgridcolor": "white",
             "startlinecolor": "#2a3f5f"
            },
            "baxis": {
             "endlinecolor": "#2a3f5f",
             "gridcolor": "white",
             "linecolor": "white",
             "minorgridcolor": "white",
             "startlinecolor": "#2a3f5f"
            },
            "type": "carpet"
           }
          ],
          "choropleth": [
           {
            "colorbar": {
             "outlinewidth": 0,
             "ticks": ""
            },
            "type": "choropleth"
           }
          ],
          "contour": [
           {
            "colorbar": {
             "outlinewidth": 0,
             "ticks": ""
            },
            "colorscale": [
             [
              0,
              "#0d0887"
             ],
             [
              0.1111111111111111,
              "#46039f"
             ],
             [
              0.2222222222222222,
              "#7201a8"
             ],
             [
              0.3333333333333333,
              "#9c179e"
             ],
             [
              0.4444444444444444,
              "#bd3786"
             ],
             [
              0.5555555555555556,
              "#d8576b"
             ],
             [
              0.6666666666666666,
              "#ed7953"
             ],
             [
              0.7777777777777778,
              "#fb9f3a"
             ],
             [
              0.8888888888888888,
              "#fdca26"
             ],
             [
              1,
              "#f0f921"
             ]
            ],
            "type": "contour"
           }
          ],
          "contourcarpet": [
           {
            "colorbar": {
             "outlinewidth": 0,
             "ticks": ""
            },
            "type": "contourcarpet"
           }
          ],
          "heatmap": [
           {
            "colorbar": {
             "outlinewidth": 0,
             "ticks": ""
            },
            "colorscale": [
             [
              0,
              "#0d0887"
             ],
             [
              0.1111111111111111,
              "#46039f"
             ],
             [
              0.2222222222222222,
              "#7201a8"
             ],
             [
              0.3333333333333333,
              "#9c179e"
             ],
             [
              0.4444444444444444,
              "#bd3786"
             ],
             [
              0.5555555555555556,
              "#d8576b"
             ],
             [
              0.6666666666666666,
              "#ed7953"
             ],
             [
              0.7777777777777778,
              "#fb9f3a"
             ],
             [
              0.8888888888888888,
              "#fdca26"
             ],
             [
              1,
              "#f0f921"
             ]
            ],
            "type": "heatmap"
           }
          ],
          "heatmapgl": [
           {
            "colorbar": {
             "outlinewidth": 0,
             "ticks": ""
            },
            "colorscale": [
             [
              0,
              "#0d0887"
             ],
             [
              0.1111111111111111,
              "#46039f"
             ],
             [
              0.2222222222222222,
              "#7201a8"
             ],
             [
              0.3333333333333333,
              "#9c179e"
             ],
             [
              0.4444444444444444,
              "#bd3786"
             ],
             [
              0.5555555555555556,
              "#d8576b"
             ],
             [
              0.6666666666666666,
              "#ed7953"
             ],
             [
              0.7777777777777778,
              "#fb9f3a"
             ],
             [
              0.8888888888888888,
              "#fdca26"
             ],
             [
              1,
              "#f0f921"
             ]
            ],
            "type": "heatmapgl"
           }
          ],
          "histogram": [
           {
            "marker": {
             "pattern": {
              "fillmode": "overlay",
              "size": 10,
              "solidity": 0.2
             }
            },
            "type": "histogram"
           }
          ],
          "histogram2d": [
           {
            "colorbar": {
             "outlinewidth": 0,
             "ticks": ""
            },
            "colorscale": [
             [
              0,
              "#0d0887"
             ],
             [
              0.1111111111111111,
              "#46039f"
             ],
             [
              0.2222222222222222,
              "#7201a8"
             ],
             [
              0.3333333333333333,
              "#9c179e"
             ],
             [
              0.4444444444444444,
              "#bd3786"
             ],
             [
              0.5555555555555556,
              "#d8576b"
             ],
             [
              0.6666666666666666,
              "#ed7953"
             ],
             [
              0.7777777777777778,
              "#fb9f3a"
             ],
             [
              0.8888888888888888,
              "#fdca26"
             ],
             [
              1,
              "#f0f921"
             ]
            ],
            "type": "histogram2d"
           }
          ],
          "histogram2dcontour": [
           {
            "colorbar": {
             "outlinewidth": 0,
             "ticks": ""
            },
            "colorscale": [
             [
              0,
              "#0d0887"
             ],
             [
              0.1111111111111111,
              "#46039f"
             ],
             [
              0.2222222222222222,
              "#7201a8"
             ],
             [
              0.3333333333333333,
              "#9c179e"
             ],
             [
              0.4444444444444444,
              "#bd3786"
             ],
             [
              0.5555555555555556,
              "#d8576b"
             ],
             [
              0.6666666666666666,
              "#ed7953"
             ],
             [
              0.7777777777777778,
              "#fb9f3a"
             ],
             [
              0.8888888888888888,
              "#fdca26"
             ],
             [
              1,
              "#f0f921"
             ]
            ],
            "type": "histogram2dcontour"
           }
          ],
          "mesh3d": [
           {
            "colorbar": {
             "outlinewidth": 0,
             "ticks": ""
            },
            "type": "mesh3d"
           }
          ],
          "parcoords": [
           {
            "line": {
             "colorbar": {
              "outlinewidth": 0,
              "ticks": ""
             }
            },
            "type": "parcoords"
           }
          ],
          "pie": [
           {
            "automargin": true,
            "type": "pie"
           }
          ],
          "scatter": [
           {
            "fillpattern": {
             "fillmode": "overlay",
             "size": 10,
             "solidity": 0.2
            },
            "type": "scatter"
           }
          ],
          "scatter3d": [
           {
            "line": {
             "colorbar": {
              "outlinewidth": 0,
              "ticks": ""
             }
            },
            "marker": {
             "colorbar": {
              "outlinewidth": 0,
              "ticks": ""
             }
            },
            "type": "scatter3d"
           }
          ],
          "scattercarpet": [
           {
            "marker": {
             "colorbar": {
              "outlinewidth": 0,
              "ticks": ""
             }
            },
            "type": "scattercarpet"
           }
          ],
          "scattergeo": [
           {
            "marker": {
             "colorbar": {
              "outlinewidth": 0,
              "ticks": ""
             }
            },
            "type": "scattergeo"
           }
          ],
          "scattergl": [
           {
            "marker": {
             "colorbar": {
              "outlinewidth": 0,
              "ticks": ""
             }
            },
            "type": "scattergl"
           }
          ],
          "scattermapbox": [
           {
            "marker": {
             "colorbar": {
              "outlinewidth": 0,
              "ticks": ""
             }
            },
            "type": "scattermapbox"
           }
          ],
          "scatterpolar": [
           {
            "marker": {
             "colorbar": {
              "outlinewidth": 0,
              "ticks": ""
             }
            },
            "type": "scatterpolar"
           }
          ],
          "scatterpolargl": [
           {
            "marker": {
             "colorbar": {
              "outlinewidth": 0,
              "ticks": ""
             }
            },
            "type": "scatterpolargl"
           }
          ],
          "scatterternary": [
           {
            "marker": {
             "colorbar": {
              "outlinewidth": 0,
              "ticks": ""
             }
            },
            "type": "scatterternary"
           }
          ],
          "surface": [
           {
            "colorbar": {
             "outlinewidth": 0,
             "ticks": ""
            },
            "colorscale": [
             [
              0,
              "#0d0887"
             ],
             [
              0.1111111111111111,
              "#46039f"
             ],
             [
              0.2222222222222222,
              "#7201a8"
             ],
             [
              0.3333333333333333,
              "#9c179e"
             ],
             [
              0.4444444444444444,
              "#bd3786"
             ],
             [
              0.5555555555555556,
              "#d8576b"
             ],
             [
              0.6666666666666666,
              "#ed7953"
             ],
             [
              0.7777777777777778,
              "#fb9f3a"
             ],
             [
              0.8888888888888888,
              "#fdca26"
             ],
             [
              1,
              "#f0f921"
             ]
            ],
            "type": "surface"
           }
          ],
          "table": [
           {
            "cells": {
             "fill": {
              "color": "#EBF0F8"
             },
             "line": {
              "color": "white"
             }
            },
            "header": {
             "fill": {
              "color": "#C8D4E3"
             },
             "line": {
              "color": "white"
             }
            },
            "type": "table"
           }
          ]
         },
         "layout": {
          "annotationdefaults": {
           "arrowcolor": "#2a3f5f",
           "arrowhead": 0,
           "arrowwidth": 1
          },
          "autotypenumbers": "strict",
          "coloraxis": {
           "colorbar": {
            "outlinewidth": 0,
            "ticks": ""
           }
          },
          "colorscale": {
           "diverging": [
            [
             0,
             "#8e0152"
            ],
            [
             0.1,
             "#c51b7d"
            ],
            [
             0.2,
             "#de77ae"
            ],
            [
             0.3,
             "#f1b6da"
            ],
            [
             0.4,
             "#fde0ef"
            ],
            [
             0.5,
             "#f7f7f7"
            ],
            [
             0.6,
             "#e6f5d0"
            ],
            [
             0.7,
             "#b8e186"
            ],
            [
             0.8,
             "#7fbc41"
            ],
            [
             0.9,
             "#4d9221"
            ],
            [
             1,
             "#276419"
            ]
           ],
           "sequential": [
            [
             0,
             "#0d0887"
            ],
            [
             0.1111111111111111,
             "#46039f"
            ],
            [
             0.2222222222222222,
             "#7201a8"
            ],
            [
             0.3333333333333333,
             "#9c179e"
            ],
            [
             0.4444444444444444,
             "#bd3786"
            ],
            [
             0.5555555555555556,
             "#d8576b"
            ],
            [
             0.6666666666666666,
             "#ed7953"
            ],
            [
             0.7777777777777778,
             "#fb9f3a"
            ],
            [
             0.8888888888888888,
             "#fdca26"
            ],
            [
             1,
             "#f0f921"
            ]
           ],
           "sequentialminus": [
            [
             0,
             "#0d0887"
            ],
            [
             0.1111111111111111,
             "#46039f"
            ],
            [
             0.2222222222222222,
             "#7201a8"
            ],
            [
             0.3333333333333333,
             "#9c179e"
            ],
            [
             0.4444444444444444,
             "#bd3786"
            ],
            [
             0.5555555555555556,
             "#d8576b"
            ],
            [
             0.6666666666666666,
             "#ed7953"
            ],
            [
             0.7777777777777778,
             "#fb9f3a"
            ],
            [
             0.8888888888888888,
             "#fdca26"
            ],
            [
             1,
             "#f0f921"
            ]
           ]
          },
          "colorway": [
           "#636efa",
           "#EF553B",
           "#00cc96",
           "#ab63fa",
           "#FFA15A",
           "#19d3f3",
           "#FF6692",
           "#B6E880",
           "#FF97FF",
           "#FECB52"
          ],
          "font": {
           "color": "#2a3f5f"
          },
          "geo": {
           "bgcolor": "white",
           "lakecolor": "white",
           "landcolor": "#E5ECF6",
           "showlakes": true,
           "showland": true,
           "subunitcolor": "white"
          },
          "hoverlabel": {
           "align": "left"
          },
          "hovermode": "closest",
          "mapbox": {
           "style": "light"
          },
          "paper_bgcolor": "white",
          "plot_bgcolor": "#E5ECF6",
          "polar": {
           "angularaxis": {
            "gridcolor": "white",
            "linecolor": "white",
            "ticks": ""
           },
           "bgcolor": "#E5ECF6",
           "radialaxis": {
            "gridcolor": "white",
            "linecolor": "white",
            "ticks": ""
           }
          },
          "scene": {
           "xaxis": {
            "backgroundcolor": "#E5ECF6",
            "gridcolor": "white",
            "gridwidth": 2,
            "linecolor": "white",
            "showbackground": true,
            "ticks": "",
            "zerolinecolor": "white"
           },
           "yaxis": {
            "backgroundcolor": "#E5ECF6",
            "gridcolor": "white",
            "gridwidth": 2,
            "linecolor": "white",
            "showbackground": true,
            "ticks": "",
            "zerolinecolor": "white"
           },
           "zaxis": {
            "backgroundcolor": "#E5ECF6",
            "gridcolor": "white",
            "gridwidth": 2,
            "linecolor": "white",
            "showbackground": true,
            "ticks": "",
            "zerolinecolor": "white"
           }
          },
          "shapedefaults": {
           "line": {
            "color": "#2a3f5f"
           }
          },
          "ternary": {
           "aaxis": {
            "gridcolor": "white",
            "linecolor": "white",
            "ticks": ""
           },
           "baxis": {
            "gridcolor": "white",
            "linecolor": "white",
            "ticks": ""
           },
           "bgcolor": "#E5ECF6",
           "caxis": {
            "gridcolor": "white",
            "linecolor": "white",
            "ticks": ""
           }
          },
          "title": {
           "x": 0.05
          },
          "xaxis": {
           "automargin": true,
           "gridcolor": "white",
           "linecolor": "white",
           "ticks": "",
           "title": {
            "standoff": 15
           },
           "zerolinecolor": "white",
           "zerolinewidth": 2
          },
          "yaxis": {
           "automargin": true,
           "gridcolor": "white",
           "linecolor": "white",
           "ticks": "",
           "title": {
            "standoff": 15
           },
           "zerolinecolor": "white",
           "zerolinewidth": 2
          }
         }
        },
        "width": 500,
        "xaxis": {
         "anchor": "y",
         "autorange": true,
         "domain": [
          0,
          1
         ],
         "gridcolor": "lightgrey",
         "linecolor": "black",
         "linewidth": 2,
         "range": [
          -1.5377118587925098,
          21.803385208792513
         ],
         "showline": true,
         "title": {
          "text": "Cost ($)"
         },
         "type": "linear"
        },
        "yaxis": {
         "anchor": "x",
         "domain": [
          0,
          1
         ],
         "gridcolor": "lightgrey",
         "linecolor": "black",
         "linewidth": 2,
         "range": [
          0.82,
          0.885
         ],
         "showline": true,
         "title": {
          "text": "Accuracy"
         },
         "type": "linear"
        }
       }
      },
      "image/png": "[encoded data removed]",
      "text/html": [
       "<div>                            <div id=\"7c0a693f-1540-4c4c-8957-b872e59fb1fb\" class=\"plotly-graph-div\" style=\"height:400px; width:500px;\"></div>            <script type=\"text/javascript\">                require([\"plotly\"], function(Plotly) {                    window.PLOTLYENV=window.PLOTLYENV || {};                                    if (document.getElementById(\"7c0a693f-1540-4c4c-8957-b872e59fb1fb\")) {                    Plotly.newPlot(                        \"7c0a693f-1540-4c4c-8957-b872e59fb1fb\",                        [{\"hovertemplate\":\"Provider=Textsynth\\u003cbr\\u003eMarker=3\\u003cbr\\u003eTest_cost=%{x}\\u003cbr\\u003eTest_acc=%{y}\\u003cbr\\u003eMethod=%{text}\\u003cextra\\u003e\\u003c\\u002fextra\\u003e\",\"legendgroup\":\"Textsynth, 3\",\"marker\":{\"color\":\"#4C78A8\",\"symbol\":\"circle\",\"size\":15,\"opacity\":0.7},\"mode\":\"markers+text\",\"name\":\"Textsynth, 3\",\"orientation\":\"v\",\"showlegend\":false,\"text\":[\"GPT-Neo\",\"GPT-Neo\"],\"x\":[1.9486362,1.9486362],\"xaxis\":\"x\",\"y\":[0.1,0.1],\"yaxis\":\"y\",\"type\":\"scatter\",\"textposition\":[\"bottom center\",\"bottom center\",\"bottom center\",\"bottom center\",\"bottom center\",\"bottom center\",\"bottom center\",\"bottom center\",\"bottom center\",\"bottom center\",\"bottom center\",\"bottom center\",\"bottom center\",\"bottom center\",\"bottom center\",\"bottom center\",\"bottom center\",\"bottom center\",\"bottom center\",\"bottom center\",\"bottom center\",\"bottom center\",\"bottom center\",\"bottom center\",\"bottom center\",\"bottom center\",\"bottom center\",\"bottom center\",\"bottom center\",\"bottom center\",\"bottom center\",\"bottom center\",\"bottom center\",\"bottom center\"]},{\"hovertemplate\":\"Provider=Textsynth\\u003cbr\\u003eMarker=2\\u003cbr\\u003eTest_cost=%{x}\\u003cbr\\u003eTest_acc=%{y}\\u003cbr\\u003eMethod=%{text}\\u003cextra\\u003e\\u003c\\u002fextra\\u003e\",\"legendgroup\":\"Textsynth, 2\",\"marker\":{\"color\":\"#4C78A8\",\"symbol\":\"square\",\"size\":15,\"opacity\":0.7},\"mode\":\"markers+text\",\"name\":\"Textsynth, 2\",\"orientation\":\"v\",\"showlegend\":false,\"text\":[\"FSQ\",\"FSQ\"],\"x\":[0.8044752,0.8044752],\"xaxis\":\"x\",\"y\":[0.1,0.1],\"yaxis\":\"y\",\"type\":\"scatter\",\"textposition\":[\"bottom center\",\"bottom center\",\"bottom center\",\"bottom center\",\"bottom center\",\"bottom center\",\"bottom center\",\"bottom center\",\"bottom center\",\"bottom center\",\"bottom center\",\"bottom center\",\"bottom center\",\"bottom center\",\"bottom center\",\"bottom center\",\"bottom center\",\"bottom center\",\"bottom center\",\"bottom center\",\"bottom center\",\"bottom center\",\"bottom center\",\"bottom center\",\"bottom center\",\"bottom center\",\"bottom center\",\"bottom center\",\"bottom center\",\"bottom center\",\"bottom center\",\"bottom center\",\"bottom center\",\"bottom center\"]},{\"hovertemplate\":\"Provider=Textsynth\\u003cbr\\u003eMarker=1\\u003cbr\\u003eTest_cost=%{x}\\u003cbr\\u003eTest_acc=%{y}\\u003cbr\\u003eMethod=%{text}\\u003cextra\\u003e\\u003c\\u002fextra\\u003e\",\"legendgroup\":\"Textsynth, 1\",\"marker\":{\"color\":\"#4C78A8\",\"symbol\":\"diamond\",\"size\":15,\"opacity\":0.7},\"mode\":\"markers+text\",\"name\":\"Textsynth, 1\",\"orientation\":\"v\",\"showlegend\":false,\"text\":[\"GPT-J\",\"GPT-J\"],\"x\":[0.2773536,0.2773536],\"xaxis\":\"x\",\"y\":[0.1,0.1],\"yaxis\":\"y\",\"type\":\"scatter\",\"textposition\":[\"bottom center\",\"bottom center\",\"bottom center\",\"bottom center\",\"bottom center\",\"bottom center\",\"bottom center\",\"bottom center\",\"bottom center\",\"bottom center\",\"bottom center\",\"bottom center\",\"bottom center\",\"bottom center\",\"bottom center\",\"bottom center\",\"bottom center\",\"bottom center\",\"bottom center\",\"bottom center\",\"bottom center\",\"bottom center\",\"bottom center\",\"bottom center\",\"bottom center\",\"bottom center\",\"bottom center\",\"bottom center\",\"bottom center\",\"bottom center\",\"bottom center\",\"bottom center\",\"bottom center\",\"bottom center\"]},{\"hovertemplate\":\"Provider=AI21\\u003cbr\\u003eMarker=3\\u003cbr\\u003eTest_cost=%{x}\\u003cbr\\u003eTest_acc=%{y}\\u003cbr\\u003eMethod=%{text}\\u003cextra\\u003e\\u003c\\u002fextra\\u003e\",\"legendgroup\":\"AI21, 3\",\"marker\":{\"color\":\"#F58518\",\"symbol\":\"circle\",\"size\":15,\"opacity\":0.7},\"mode\":\"markers+text\",\"name\":\"AI21, 3\",\"orientation\":\"v\",\"showlegend\":false,\"text\":[\"   J1\",\"   J1\"],\"x\":[2.5,2.5],\"xaxis\":\"x\",\"y\":[0.1,0.1],\"yaxis\":\"y\",\"type\":\"scatter\",\"textposition\":[\"bottom center\",\"bottom center\",\"bottom center\",\"bottom center\",\"bottom center\",\"bottom center\",\"bottom center\",\"bottom center\",\"bottom center\",\"bottom center\",\"bottom center\",\"bottom center\",\"bottom center\",\"bottom center\",\"bottom center\",\"bottom center\",\"bottom center\",\"bottom center\",\"bottom center\",\"bottom center\",\"bottom center\",\"bottom center\",\"bottom center\",\"bottom center\",\"bottom center\",\"bottom center\",\"bottom center\",\"bottom center\",\"bottom center\",\"bottom center\",\"bottom center\",\"bottom center\",\"bottom center\",\"bottom center\"]},{\"hovertemplate\":\"Provider=AI21\\u003cbr\\u003eMarker=2\\u003cbr\\u003eTest_cost=%{x}\\u003cbr\\u003eTest_acc=%{y}\\u003cbr\\u003eMethod=%{text}\\u003cextra\\u003e\\u003c\\u002fextra\\u003e\",\"legendgroup\":\"AI21, 2\",\"marker\":{\"color\":\"#F58518\",\"symbol\":\"square\",\"size\":15,\"opacity\":0.7},\"mode\":\"markers+text\",\"name\":\"AI21, 2\",\"orientation\":\"v\",\"showlegend\":false,\"text\":[\"J1-G\",\"J1-G\"],\"x\":[4.80016,4.80016],\"xaxis\":\"x\",\"y\":[0.1,0.1],\"yaxis\":\"y\",\"type\":\"scatter\",\"textposition\":[\"bottom center\",\"bottom center\",\"bottom center\",\"bottom center\",\"bottom center\",\"bottom center\",\"bottom center\",\"bottom center\",\"bottom center\",\"bottom center\",\"bottom center\",\"bottom center\",\"bottom center\",\"bottom center\",\"bottom center\",\"bottom center\",\"bottom center\",\"bottom center\",\"bottom center\",\"bottom center\",\"bottom center\",\"bottom center\",\"bottom center\",\"bottom center\",\"bottom center\",\"bottom center\",\"bottom center\",\"bottom center\",\"bottom center\",\"bottom center\",\"bottom center\",\"bottom center\",\"bottom center\",\"bottom center\"]},{\"hovertemplate\":\"Provider=AI21\\u003cbr\\u003eMarker=1\\u003cbr\\u003eTest_cost=%{x}\\u003cbr\\u003eTest_acc=%{y}\\u003cbr\\u003eMethod=%{text}\\u003cextra\\u003e\\u003c\\u002fextra\\u003e\",\"legendgroup\":\"AI21, 1\",\"marker\":{\"color\":\"#F58518\",\"symbol\":\"diamond\",\"size\":15,\"opacity\":0.7},\"mode\":\"markers+text\",\"name\":\"AI21, 1\",\"orientation\":\"v\",\"showlegend\":false,\"text\":[\"J1-L\",\"J1-L\"],\"x\":[1.80042,1.80042],\"xaxis\":\"x\",\"y\":[0.1,0.1],\"yaxis\":\"y\",\"type\":\"scatter\",\"textposition\":[\"bottom center\",\"bottom center\",\"bottom center\",\"bottom center\",\"bottom center\",\"bottom center\",\"bottom center\",\"bottom center\",\"bottom center\",\"bottom center\",\"bottom center\",\"bottom center\",\"bottom center\",\"bottom center\",\"bottom center\",\"bottom center\",\"bottom center\",\"bottom center\",\"bottom center\",\"bottom center\",\"bottom center\",\"bottom center\",\"bottom center\",\"bottom center\",\"bottom center\",\"bottom center\",\"bottom center\",\"bottom center\",\"bottom center\",\"bottom center\",\"bottom center\",\"bottom center\",\"bottom center\",\"bottom center\"]},{\"hovertemplate\":\"Provider= CoHere\\u003cbr\\u003eMarker=2\\u003cbr\\u003eTest_cost=%{x}\\u003cbr\\u003eTest_acc=%{y}\\u003cbr\\u003eMethod=%{text}\\u003cextra\\u003e\\u003c\\u002fextra\\u003e\",\"legendgroup\":\" CoHere, 2\",\"marker\":{\"color\":\"#E45756\",\"symbol\":\"square\",\"size\":15,\"opacity\":0.7},\"mode\":\"markers+text\",\"name\":\" CoHere, 2\",\"orientation\":\"v\",\"showlegend\":false,\"text\":[\" CoHere\",\" CoHere\"],\"x\":[8.9586075,8.9586075],\"xaxis\":\"x\",\"y\":[0.1,0.1],\"yaxis\":\"y\",\"type\":\"scatter\",\"textposition\":[\"bottom center\",\"bottom center\",\"bottom center\",\"bottom center\",\"bottom center\",\"bottom center\",\"bottom center\",\"bottom center\",\"bottom center\",\"bottom center\",\"bottom center\",\"bottom center\",\"bottom center\",\"bottom center\",\"bottom center\",\"bottom center\",\"bottom center\",\"bottom center\",\"bottom center\",\"bottom center\",\"bottom center\",\"bottom center\",\"bottom center\",\"bottom center\",\"bottom center\",\"bottom center\",\"bottom center\",\"bottom center\",\"bottom center\",\"bottom center\",\"bottom center\",\"bottom center\",\"bottom center\",\"bottom center\"]},{\"hovertemplate\":\"Provider=FA\\u003cbr\\u003eMarker=1\\u003cbr\\u003eTest_cost=%{x}\\u003cbr\\u003eTest_acc=%{y}\\u003cbr\\u003eMethod=%{text}\\u003cextra\\u003e\\u003c\\u002fextra\\u003e\",\"legendgroup\":\"FA, 1\",\"marker\":{\"color\":\"#72B7B2\",\"symbol\":\"diamond\",\"size\":15,\"opacity\":0.7},\"mode\":\"markers+text\",\"name\":\"FA, 1\",\"orientation\":\"v\",\"showlegend\":false,\"text\":[\"FQ\",\"FQ\"],\"x\":[6.6724708,6.6724708],\"xaxis\":\"x\",\"y\":[0.1,0.1],\"yaxis\":\"y\",\"type\":\"scatter\",\"textposition\":[\"bottom center\",\"bottom center\",\"bottom center\",\"bottom center\",\"bottom center\",\"bottom center\",\"bottom center\",\"bottom center\",\"bottom center\",\"bottom center\",\"bottom center\",\"bottom center\",\"bottom center\",\"bottom center\",\"bottom center\",\"bottom center\",\"bottom center\",\"bottom center\",\"bottom center\",\"bottom center\",\"bottom center\",\"bottom center\",\"bottom center\",\"bottom center\",\"bottom center\",\"bottom center\",\"bottom center\",\"bottom center\",\"bottom center\",\"bottom center\",\"bottom center\",\"bottom center\",\"bottom center\",\"bottom center\"]},{\"hovertemplate\":\"Provider=OpenAI\\u003cbr\\u003eMarker=3\\u003cbr\\u003eTest_cost=%{x}\\u003cbr\\u003eTest_acc=%{y}\\u003cbr\\u003eMethod=%{text}\\u003cextra\\u003e\\u003c\\u002fextra\\u003e\",\"legendgroup\":\"OpenAI, 3\",\"marker\":{\"color\":\"#54A24B\",\"symbol\":\"circle\",\"size\":15,\"opacity\":0.7},\"mode\":\"markers+text\",\"name\":\"OpenAI, 3\",\"orientation\":\"v\",\"showlegend\":false,\"text\":[\"GPT-3\",\"GPT-4Turbo\",\"GPT-3\",\"GPT-4Turbo\"],\"x\":[2.1,16.652775000000002,2.1,16.652775000000002],\"xaxis\":\"x\",\"y\":[0.1,0.8558,0.1,0.8558],\"yaxis\":\"y\",\"type\":\"scatter\",\"textposition\":[\"bottom center\",\"bottom center\",\"bottom center\",\"bottom center\",\"bottom center\",\"bottom center\",\"bottom center\",\"bottom center\",\"bottom center\",\"bottom center\",\"bottom center\",\"bottom center\",\"bottom center\",\"bottom center\",\"bottom center\",\"bottom center\",\"bottom center\",\"bottom center\",\"bottom center\",\"bottom center\",\"bottom center\",\"bottom center\",\"bottom center\",\"bottom center\",\"bottom center\",\"bottom center\",\"bottom center\",\"bottom center\",\"bottom center\",\"bottom center\",\"bottom center\",\"bottom center\",\"bottom center\",\"bottom center\"]},{\"hovertemplate\":\"Provider=OpenAI\\u003cbr\\u003eMarker=2\\u003cbr\\u003eTest_cost=%{x}\\u003cbr\\u003eTest_acc=%{y}\\u003cbr\\u003eMethod=%{text}\\u003cextra\\u003e\\u003c\\u002fextra\\u003e\",\"legendgroup\":\"OpenAI, 2\",\"marker\":{\"color\":\"#54A24B\",\"symbol\":\"square\",\"size\":15,\"opacity\":0.7},\"mode\":\"markers+text\",\"name\":\"OpenAI, 2\",\"orientation\":\"v\",\"showlegend\":false,\"text\":[\"ChatGPT\",\"             GPT-4o\",\"ChatGPT\",\"             GPT-4o\"],\"x\":[2.221348,5.499465000000001,2.221348,5.499465000000001],\"xaxis\":\"x\",\"y\":[0.1,0.8324,0.1,0.8324],\"yaxis\":\"y\",\"type\":\"scatter\",\"textposition\":[\"bottom center\",\"bottom center\",\"bottom center\",\"bottom center\",\"bottom center\",\"bottom center\",\"bottom center\",\"bottom center\",\"bottom center\",\"bottom center\",\"bottom center\",\"bottom center\",\"bottom center\",\"bottom center\",\"bottom center\",\"bottom center\",\"bottom center\",\"bottom center\",\"bottom center\",\"bottom center\",\"bottom center\",\"bottom center\",\"bottom center\",\"bottom center\",\"bottom center\",\"bottom center\",\"bottom center\",\"bottom center\",\"bottom center\",\"bottom center\",\"bottom center\",\"bottom center\",\"bottom center\",\"bottom center\"]},{\"hovertemplate\":\"Provider=OpenAI\\u003cbr\\u003eMarker=1\\u003cbr\\u003eTest_cost=%{x}\\u003cbr\\u003eTest_acc=%{y}\\u003cbr\\u003eMethod=%{text}\\u003cextra\\u003e\\u003c\\u002fextra\\u003e\",\"legendgroup\":\"OpenAI, 1\",\"marker\":{\"color\":\"#54A24B\",\"symbol\":\"diamond\",\"size\":15,\"opacity\":0.7},\"mode\":\"markers+text\",\"name\":\"OpenAI, 1\",\"orientation\":\"v\",\"showlegend\":false,\"text\":[\"GPT-C\",\"            GPT-4o-mini\",\"GPT-C\",\"            GPT-4o-mini\"],\"x\":[2.280752,0.16567335,2.280752,0.16567335],\"xaxis\":\"x\",\"y\":[0.1,0.8478,0.1,0.8478],\"yaxis\":\"y\",\"type\":\"scatter\",\"textposition\":[\"bottom center\",\"bottom center\",\"bottom center\",\"bottom center\",\"bottom center\",\"bottom center\",\"bottom center\",\"bottom center\",\"bottom center\",\"bottom center\",\"bottom center\",\"bottom center\",\"bottom center\",\"bottom center\",\"bottom center\",\"bottom center\",\"bottom center\",\"bottom center\",\"bottom center\",\"bottom center\",\"bottom center\",\"bottom center\",\"bottom center\",\"bottom center\",\"bottom center\",\"bottom center\",\"bottom center\",\"bottom center\",\"bottom center\",\"bottom center\",\"bottom center\",\"bottom center\",\"bottom center\",\"bottom center\"]},{\"hovertemplate\":\"Provider=OpenAI\\u003cbr\\u003eMarker=4\\u003cbr\\u003eTest_cost=%{x}\\u003cbr\\u003eTest_acc=%{y}\\u003cbr\\u003eMethod=%{text}\\u003cextra\\u003e\\u003c\\u002fextra\\u003e\",\"legendgroup\":\"OpenAI, 4\",\"marker\":{\"color\":\"#54A24B\",\"symbol\":\"star\",\"size\":15,\"opacity\":0.7},\"mode\":\"markers+text\",\"name\":\"OpenAI, 4\",\"orientation\":\"v\",\"showlegend\":false,\"text\":[\"GPT-4\",\"GPT-4\"],\"x\":[20.1,20.1],\"xaxis\":\"x\",\"y\":[0.1,0.1],\"yaxis\":\"y\",\"type\":\"scatter\",\"textposition\":[\"bottom center\",\"bottom center\",\"bottom center\",\"bottom center\",\"bottom center\",\"bottom center\",\"bottom center\",\"bottom center\",\"bottom center\",\"bottom center\",\"bottom center\",\"bottom center\",\"bottom center\",\"bottom center\",\"bottom center\",\"bottom center\",\"bottom center\",\"bottom center\",\"bottom center\",\"bottom center\",\"bottom center\",\"bottom center\",\"bottom center\",\"bottom center\",\"bottom center\",\"bottom center\",\"bottom center\",\"bottom center\",\"bottom center\",\"bottom center\",\"bottom center\",\"bottom center\",\"bottom center\",\"bottom center\"]},{\"hovertemplate\":\"Provider=togetherai\\u003cbr\\u003eMarker=2\\u003cbr\\u003eTest_cost=%{x}\\u003cbr\\u003eTest_acc=%{y}\\u003cbr\\u003eMethod=%{text}\\u003cextra\\u003e\\u003c\\u002fextra\\u003e\",\"legendgroup\":\"togetherai, 2\",\"marker\":{\"color\":\"#EECA3B\",\"symbol\":\"square\",\"size\":15,\"opacity\":0.7},\"mode\":\"markers+text\",\"name\":\"togetherai, 2\",\"orientation\":\"v\",\"showlegend\":false,\"text\":[\"      GM2 (9B)\",\"      GM2 (9B)\"],\"x\":[0.3520268999999999,0.3520268999999999],\"xaxis\":\"x\",\"y\":[0.832,0.832],\"yaxis\":\"y\",\"type\":\"scatter\",\"textposition\":[\"bottom center\",\"bottom center\",\"bottom center\",\"bottom center\",\"bottom center\",\"bottom center\",\"bottom center\",\"bottom center\",\"bottom center\",\"bottom center\",\"bottom center\",\"bottom center\",\"bottom center\",\"bottom center\",\"bottom center\",\"bottom center\",\"bottom center\",\"bottom center\",\"bottom center\",\"bottom center\",\"bottom center\",\"bottom center\",\"bottom center\",\"bottom center\",\"bottom center\",\"bottom center\",\"bottom center\",\"bottom center\",\"bottom center\",\"bottom center\",\"bottom center\",\"bottom center\",\"bottom center\",\"bottom center\"]},{\"hovertemplate\":\"Provider=togetherai\\u003cbr\\u003eMarker=1\\u003cbr\\u003eTest_cost=%{x}\\u003cbr\\u003eTest_acc=%{y}\\u003cbr\\u003eMethod=%{text}\\u003cextra\\u003e\\u003c\\u002fextra\\u003e\",\"legendgroup\":\"togetherai, 1\",\"marker\":{\"color\":\"#EECA3B\",\"symbol\":\"diamond\",\"size\":15,\"opacity\":0.7},\"mode\":\"markers+text\",\"name\":\"togetherai, 1\",\"orientation\":\"v\",\"showlegend\":false,\"text\":[\"              Llama 3 (70B)\",\"              Llama 3 (70B)\"],\"x\":[1.00351,1.00351],\"xaxis\":\"x\",\"y\":[0.8264,0.8264],\"yaxis\":\"y\",\"type\":\"scatter\",\"textposition\":[\"bottom center\",\"bottom center\",\"bottom center\",\"bottom center\",\"bottom center\",\"bottom center\",\"bottom center\",\"bottom center\",\"bottom center\",\"bottom center\",\"bottom center\",\"bottom center\",\"bottom center\",\"bottom center\",\"bottom center\",\"bottom center\",\"bottom center\",\"bottom center\",\"bottom center\",\"bottom center\",\"bottom center\",\"bottom center\",\"bottom center\",\"bottom center\",\"bottom center\",\"bottom center\",\"bottom center\",\"bottom center\",\"bottom center\",\"bottom center\",\"bottom center\",\"bottom center\",\"bottom center\",\"bottom center\"]},{\"line\":{\"color\":\"red\",\"width\":5},\"marker\":{\"color\":\"red\",\"size\":15,\"opacity\":0.7},\"mode\":\"lines+markers\",\"name\":\"FrugalGPT\",\"showlegend\":true,\"x\":[0.175,1.115,2.05,2.99,3.93,4.865,5.805,6.74,7.680000000000001,8.620000000000001,9.555,10.495000000000001,11.435,12.370000000000001,13.309999999999999,14.245,15.185,16.125,17.060000000000002,18.0],\"y\":[0.8478,0.8726,0.878,0.878,0.878,0.878,0.878,0.878,0.878,0.878,0.878,0.878,0.878,0.878,0.878,0.878,0.878,0.878,0.878,0.878],\"type\":\"scatter\"}],                        {\"template\":{\"data\":{\"histogram2dcontour\":[{\"type\":\"histogram2dcontour\",\"colorbar\":{\"outlinewidth\":0,\"ticks\":\"\"},\"colorscale\":[[0.0,\"#0d0887\"],[0.1111111111111111,\"#46039f\"],[0.2222222222222222,\"#7201a8\"],[0.3333333333333333,\"#9c179e\"],[0.4444444444444444,\"#bd3786\"],[0.5555555555555556,\"#d8576b\"],[0.6666666666666666,\"#ed7953\"],[0.7777777777777778,\"#fb9f3a\"],[0.8888888888888888,\"#fdca26\"],[1.0,\"#f0f921\"]]}],\"choropleth\":[{\"type\":\"choropleth\",\"colorbar\":{\"outlinewidth\":0,\"ticks\":\"\"}}],\"histogram2d\":[{\"type\":\"histogram2d\",\"colorbar\":{\"outlinewidth\":0,\"ticks\":\"\"},\"colorscale\":[[0.0,\"#0d0887\"],[0.1111111111111111,\"#46039f\"],[0.2222222222222222,\"#7201a8\"],[0.3333333333333333,\"#9c179e\"],[0.4444444444444444,\"#bd3786\"],[0.5555555555555556,\"#d8576b\"],[0.6666666666666666,\"#ed7953\"],[0.7777777777777778,\"#fb9f3a\"],[0.8888888888888888,\"#fdca26\"],[1.0,\"#f0f921\"]]}],\"heatmap\":[{\"type\":\"heatmap\",\"colorbar\":{\"outlinewidth\":0,\"ticks\":\"\"},\"colorscale\":[[0.0,\"#0d0887\"],[0.1111111111111111,\"#46039f\"],[0.2222222222222222,\"#7201a8\"],[0.3333333333333333,\"#9c179e\"],[0.4444444444444444,\"#bd3786\"],[0.5555555555555556,\"#d8576b\"],[0.6666666666666666,\"#ed7953\"],[0.7777777777777778,\"#fb9f3a\"],[0.8888888888888888,\"#fdca26\"],[1.0,\"#f0f921\"]]}],\"heatmapgl\":[{\"type\":\"heatmapgl\",\"colorbar\":{\"outlinewidth\":0,\"ticks\":\"\"},\"colorscale\":[[0.0,\"#0d0887\"],[0.1111111111111111,\"#46039f\"],[0.2222222222222222,\"#7201a8\"],[0.3333333333333333,\"#9c179e\"],[0.4444444444444444,\"#bd3786\"],[0.5555555555555556,\"#d8576b\"],[0.6666666666666666,\"#ed7953\"],[0.7777777777777778,\"#fb9f3a\"],[0.8888888888888888,\"#fdca26\"],[1.0,\"#f0f921\"]]}],\"contourcarpet\":[{\"type\":\"contourcarpet\",\"colorbar\":{\"outlinewidth\":0,\"ticks\":\"\"}}],\"contour\":[{\"type\":\"contour\",\"colorbar\":{\"outlinewidth\":0,\"ticks\":\"\"},\"colorscale\":[[0.0,\"#0d0887\"],[0.1111111111111111,\"#46039f\"],[0.2222222222222222,\"#7201a8\"],[0.3333333333333333,\"#9c179e\"],[0.4444444444444444,\"#bd3786\"],[0.5555555555555556,\"#d8576b\"],[0.6666666666666666,\"#ed7953\"],[0.7777777777777778,\"#fb9f3a\"],[0.8888888888888888,\"#fdca26\"],[1.0,\"#f0f921\"]]}],\"surface\":[{\"type\":\"surface\",\"colorbar\":{\"outlinewidth\":0,\"ticks\":\"\"},\"colorscale\":[[0.0,\"#0d0887\"],[0.1111111111111111,\"#46039f\"],[0.2222222222222222,\"#7201a8\"],[0.3333333333333333,\"#9c179e\"],[0.4444444444444444,\"#bd3786\"],[0.5555555555555556,\"#d8576b\"],[0.6666666666666666,\"#ed7953\"],[0.7777777777777778,\"#fb9f3a\"],[0.8888888888888888,\"#fdca26\"],[1.0,\"#f0f921\"]]}],\"mesh3d\":[{\"type\":\"mesh3d\",\"colorbar\":{\"outlinewidth\":0,\"ticks\":\"\"}}],\"scatter\":[{\"fillpattern\":{\"fillmode\":\"overlay\",\"size\":10,\"solidity\":0.2},\"type\":\"scatter\"}],\"parcoords\":[{\"type\":\"parcoords\",\"line\":{\"colorbar\":{\"outlinewidth\":0,\"ticks\":\"\"}}}],\"scatterpolargl\":[{\"type\":\"scatterpolargl\",\"marker\":{\"colorbar\":{\"outlinewidth\":0,\"ticks\":\"\"}}}],\"bar\":[{\"error_x\":{\"color\":\"#2a3f5f\"},\"error_y\":{\"color\":\"#2a3f5f\"},\"marker\":{\"line\":{\"color\":\"#E5ECF6\",\"width\":0.5},\"pattern\":{\"fillmode\":\"overlay\",\"size\":10,\"solidity\":0.2}},\"type\":\"bar\"}],\"scattergeo\":[{\"type\":\"scattergeo\",\"marker\":{\"colorbar\":{\"outlinewidth\":0,\"ticks\":\"\"}}}],\"scatterpolar\":[{\"type\":\"scatterpolar\",\"marker\":{\"colorbar\":{\"outlinewidth\":0,\"ticks\":\"\"}}}],\"histogram\":[{\"marker\":{\"pattern\":{\"fillmode\":\"overlay\",\"size\":10,\"solidity\":0.2}},\"type\":\"histogram\"}],\"scattergl\":[{\"type\":\"scattergl\",\"marker\":{\"colorbar\":{\"outlinewidth\":0,\"ticks\":\"\"}}}],\"scatter3d\":[{\"type\":\"scatter3d\",\"line\":{\"colorbar\":{\"outlinewidth\":0,\"ticks\":\"\"}},\"marker\":{\"colorbar\":{\"outlinewidth\":0,\"ticks\":\"\"}}}],\"scattermapbox\":[{\"type\":\"scattermapbox\",\"marker\":{\"colorbar\":{\"outlinewidth\":0,\"ticks\":\"\"}}}],\"scatterternary\":[{\"type\":\"scatterternary\",\"marker\":{\"colorbar\":{\"outlinewidth\":0,\"ticks\":\"\"}}}],\"scattercarpet\":[{\"type\":\"scattercarpet\",\"marker\":{\"colorbar\":{\"outlinewidth\":0,\"ticks\":\"\"}}}],\"carpet\":[{\"aaxis\":{\"endlinecolor\":\"#2a3f5f\",\"gridcolor\":\"white\",\"linecolor\":\"white\",\"minorgridcolor\":\"white\",\"startlinecolor\":\"#2a3f5f\"},\"baxis\":{\"endlinecolor\":\"#2a3f5f\",\"gridcolor\":\"white\",\"linecolor\":\"white\",\"minorgridcolor\":\"white\",\"startlinecolor\":\"#2a3f5f\"},\"type\":\"carpet\"}],\"table\":[{\"cells\":{\"fill\":{\"color\":\"#EBF0F8\"},\"line\":{\"color\":\"white\"}},\"header\":{\"fill\":{\"color\":\"#C8D4E3\"},\"line\":{\"color\":\"white\"}},\"type\":\"table\"}],\"barpolar\":[{\"marker\":{\"line\":{\"color\":\"#E5ECF6\",\"width\":0.5},\"pattern\":{\"fillmode\":\"overlay\",\"size\":10,\"solidity\":0.2}},\"type\":\"barpolar\"}],\"pie\":[{\"automargin\":true,\"type\":\"pie\"}]},\"layout\":{\"autotypenumbers\":\"strict\",\"colorway\":[\"#636efa\",\"#EF553B\",\"#00cc96\",\"#ab63fa\",\"#FFA15A\",\"#19d3f3\",\"#FF6692\",\"#B6E880\",\"#FF97FF\",\"#FECB52\"],\"font\":{\"color\":\"#2a3f5f\"},\"hovermode\":\"closest\",\"hoverlabel\":{\"align\":\"left\"},\"paper_bgcolor\":\"white\",\"plot_bgcolor\":\"#E5ECF6\",\"polar\":{\"bgcolor\":\"#E5ECF6\",\"angularaxis\":{\"gridcolor\":\"white\",\"linecolor\":\"white\",\"ticks\":\"\"},\"radialaxis\":{\"gridcolor\":\"white\",\"linecolor\":\"white\",\"ticks\":\"\"}},\"ternary\":{\"bgcolor\":\"#E5ECF6\",\"aaxis\":{\"gridcolor\":\"white\",\"linecolor\":\"white\",\"ticks\":\"\"},\"baxis\":{\"gridcolor\":\"white\",\"linecolor\":\"white\",\"ticks\":\"\"},\"caxis\":{\"gridcolor\":\"white\",\"linecolor\":\"white\",\"ticks\":\"\"}},\"coloraxis\":{\"colorbar\":{\"outlinewidth\":0,\"ticks\":\"\"}},\"colorscale\":{\"sequential\":[[0.0,\"#0d0887\"],[0.1111111111111111,\"#46039f\"],[0.2222222222222222,\"#7201a8\"],[0.3333333333333333,\"#9c179e\"],[0.4444444444444444,\"#bd3786\"],[0.5555555555555556,\"#d8576b\"],[0.6666666666666666,\"#ed7953\"],[0.7777777777777778,\"#fb9f3a\"],[0.8888888888888888,\"#fdca26\"],[1.0,\"#f0f921\"]],\"sequentialminus\":[[0.0,\"#0d0887\"],[0.1111111111111111,\"#46039f\"],[0.2222222222222222,\"#7201a8\"],[0.3333333333333333,\"#9c179e\"],[0.4444444444444444,\"#bd3786\"],[0.5555555555555556,\"#d8576b\"],[0.6666666666666666,\"#ed7953\"],[0.7777777777777778,\"#fb9f3a\"],[0.8888888888888888,\"#fdca26\"],[1.0,\"#f0f921\"]],\"diverging\":[[0,\"#8e0152\"],[0.1,\"#c51b7d\"],[0.2,\"#de77ae\"],[0.3,\"#f1b6da\"],[0.4,\"#fde0ef\"],[0.5,\"#f7f7f7\"],[0.6,\"#e6f5d0\"],[0.7,\"#b8e186\"],[0.8,\"#7fbc41\"],[0.9,\"#4d9221\"],[1,\"#276419\"]]},\"xaxis\":{\"gridcolor\":\"white\",\"linecolor\":\"white\",\"ticks\":\"\",\"title\":{\"standoff\":15},\"zerolinecolor\":\"white\",\"automargin\":true,\"zerolinewidth\":2},\"yaxis\":{\"gridcolor\":\"white\",\"linecolor\":\"white\",\"ticks\":\"\",\"title\":{\"standoff\":15},\"zerolinecolor\":\"white\",\"automargin\":true,\"zerolinewidth\":2},\"scene\":{\"xaxis\":{\"backgroundcolor\":\"#E5ECF6\",\"gridcolor\":\"white\",\"linecolor\":\"white\",\"showbackground\":true,\"ticks\":\"\",\"zerolinecolor\":\"white\",\"gridwidth\":2},\"yaxis\":{\"backgroundcolor\":\"#E5ECF6\",\"gridcolor\":\"white\",\"linecolor\":\"white\",\"showbackground\":true,\"ticks\":\"\",\"zerolinecolor\":\"white\",\"gridwidth\":2},\"zaxis\":{\"backgroundcolor\":\"#E5ECF6\",\"gridcolor\":\"white\",\"linecolor\":\"white\",\"showbackground\":true,\"ticks\":\"\",\"zerolinecolor\":\"white\",\"gridwidth\":2}},\"shapedefaults\":{\"line\":{\"color\":\"#2a3f5f\"}},\"annotationdefaults\":{\"arrowcolor\":\"#2a3f5f\",\"arrowhead\":0,\"arrowwidth\":1},\"geo\":{\"bgcolor\":\"white\",\"landcolor\":\"#E5ECF6\",\"subunitcolor\":\"white\",\"showland\":true,\"showlakes\":true,\"lakecolor\":\"white\"},\"title\":{\"x\":0.05},\"mapbox\":{\"style\":\"light\"}}},\"xaxis\":{\"anchor\":\"y\",\"domain\":[0.0,1.0],\"title\":{\"text\":\"Cost ($)\"},\"showline\":true,\"linewidth\":2,\"linecolor\":\"black\",\"gridcolor\":\"lightgrey\"},\"yaxis\":{\"anchor\":\"x\",\"domain\":[0.0,1.0],\"title\":{\"text\":\"Accuracy\"},\"showline\":true,\"linewidth\":2,\"linecolor\":\"black\",\"gridcolor\":\"lightgrey\",\"range\":[0.82,0.885]},\"legend\":{\"title\":{\"text\":\"\"},\"tracegroupgap\":0,\"yanchor\":\"top\",\"y\":1.1,\"xanchor\":\"center\",\"x\":0.5,\"traceorder\":\"reversed\"},\"margin\":{\"t\":0,\"l\":0,\"r\":0,\"b\":0},\"height\":400,\"width\":500,\"font\":{\"family\":\"Arial\",\"size\":25},\"plot_bgcolor\":\"white\"},                        {\"responsive\": true}                    ).then(function(){\n",
       "                            \n",
       "var gd = document.getElementById('7c0a693f-1540-4c4c-8957-b872e59fb1fb');\n",
       "var x = new MutationObserver(function (mutations, observer) {{\n",
       "        var display = window.getComputedStyle(gd).display;\n",
       "        if (!display || display === 'none') {{\n",
       "            console.log([gd, 'removed!']);\n",
       "            Plotly.purge(gd);\n",
       "            observer.disconnect();\n",
       "        }}\n",
       "}});\n",
       "\n",
       "// Listen for the removal of the full notebook cells\n",
       "var notebookContainer = gd.closest('#notebook-container');\n",
       "if (notebookContainer) {{\n",
       "    x.observe(notebookContainer, {childList: true});\n",
       "}}\n",
       "\n",
       "// Listen for the clearing of the current output cell\n",
       "var outputEl = gd.closest('.output');\n",
       "if (outputEl) {{\n",
       "    x.observe(outputEl, {childList: true});\n",
       "}}\n",
       "\n",
       "                        })                };                });            </script>        </div>"
      ]
     },
     "metadata": {},
     "output_type": "display_data"
    },
    {
     "data": {
      "application/vnd.plotly.v1+json": {
       "config": {
        "plotlyServerURL": "https://plot.ly"
       },
       "data": [
        {
         "hovertemplate": "Provider=Textsynth<br>Marker=3<br>Test_cost=%{x}<br>Test_acc=%{y}<br>Method=%{text}<extra></extra>",
         "legendgroup": "Textsynth, 3",
         "marker": {
          "color": "#4C78A8",
          "opacity": 0.7,
          "size": 15,
          "symbol": "circle"
         },
         "mode": "markers+text",
         "name": "Textsynth, 3",
         "orientation": "v",
         "showlegend": false,
         "text": [
          "GPT-Neo",
          "GPT-Neo"
         ],
         "textposition": [
          "bottom center",
          "bottom center",
          "bottom center",
          "bottom center",
          "bottom center",
          "bottom center",
          "bottom center",
          "bottom center",
          "bottom center",
          "bottom center",
          "bottom center",
          "bottom center",
          "bottom center",
          "bottom center",
          "bottom center",
          "bottom center",
          "bottom center",
          "bottom center",
          "bottom center",
          "bottom center",
          "bottom center",
          "bottom center",
          "bottom center",
          "bottom center",
          "bottom center",
          "bottom center",
          "bottom center",
          "bottom center",
          "bottom center",
          "bottom center",
          "bottom center",
          "bottom center",
          "bottom center",
          "bottom center"
         ],
         "type": "scatter",
         "x": [
          1.9486362,
          1.9486362
         ],
         "xaxis": "x",
         "y": [
          0.1,
          0.1
         ],
         "yaxis": "y"
        },
        {
         "hovertemplate": "Provider=Textsynth<br>Marker=2<br>Test_cost=%{x}<br>Test_acc=%{y}<br>Method=%{text}<extra></extra>",
         "legendgroup": "Textsynth, 2",
         "marker": {
          "color": "#4C78A8",
          "opacity": 0.7,
          "size": 15,
          "symbol": "square"
         },
         "mode": "markers+text",
         "name": "Textsynth, 2",
         "orientation": "v",
         "showlegend": false,
         "text": [
          "FSQ",
          "FSQ"
         ],
         "textposition": [
          "bottom center",
          "bottom center",
          "bottom center",
          "bottom center",
          "bottom center",
          "bottom center",
          "bottom center",
          "bottom center",
          "bottom center",
          "bottom center",
          "bottom center",
          "bottom center",
          "bottom center",
          "bottom center",
          "bottom center",
          "bottom center",
          "bottom center",
          "bottom center",
          "bottom center",
          "bottom center",
          "bottom center",
          "bottom center",
          "bottom center",
          "bottom center",
          "bottom center",
          "bottom center",
          "bottom center",
          "bottom center",
          "bottom center",
          "bottom center",
          "bottom center",
          "bottom center",
          "bottom center",
          "bottom center"
         ],
         "type": "scatter",
         "x": [
          0.8044752,
          0.8044752
         ],
         "xaxis": "x",
         "y": [
          0.1,
          0.1
         ],
         "yaxis": "y"
        },
        {
         "hovertemplate": "Provider=Textsynth<br>Marker=1<br>Test_cost=%{x}<br>Test_acc=%{y}<br>Method=%{text}<extra></extra>",
         "legendgroup": "Textsynth, 1",
         "marker": {
          "color": "#4C78A8",
          "opacity": 0.7,
          "size": 15,
          "symbol": "diamond"
         },
         "mode": "markers+text",
         "name": "Textsynth, 1",
         "orientation": "v",
         "showlegend": false,
         "text": [
          "GPT-J",
          "GPT-J"
         ],
         "textposition": [
          "bottom center",
          "bottom center",
          "bottom center",
          "bottom center",
          "bottom center",
          "bottom center",
          "bottom center",
          "bottom center",
          "bottom center",
          "bottom center",
          "bottom center",
          "bottom center",
          "bottom center",
          "bottom center",
          "bottom center",
          "bottom center",
          "bottom center",
          "bottom center",
          "bottom center",
          "bottom center",
          "bottom center",
          "bottom center",
          "bottom center",
          "bottom center",
          "bottom center",
          "bottom center",
          "bottom center",
          "bottom center",
          "bottom center",
          "bottom center",
          "bottom center",
          "bottom center",
          "bottom center",
          "bottom center"
         ],
         "type": "scatter",
         "x": [
          0.2773536,
          0.2773536
         ],
         "xaxis": "x",
         "y": [
          0.1,
          0.1
         ],
         "yaxis": "y"
        },
        {
         "hovertemplate": "Provider=AI21<br>Marker=3<br>Test_cost=%{x}<br>Test_acc=%{y}<br>Method=%{text}<extra></extra>",
         "legendgroup": "AI21, 3",
         "marker": {
          "color": "#F58518",
          "opacity": 0.7,
          "size": 15,
          "symbol": "circle"
         },
         "mode": "markers+text",
         "name": "AI21, 3",
         "orientation": "v",
         "showlegend": false,
         "text": [
          "   J1",
          "   J1"
         ],
         "textposition": [
          "bottom center",
          "bottom center",
          "bottom center",
          "bottom center",
          "bottom center",
          "bottom center",
          "bottom center",
          "bottom center",
          "bottom center",
          "bottom center",
          "bottom center",
          "bottom center",
          "bottom center",
          "bottom center",
          "bottom center",
          "bottom center",
          "bottom center",
          "bottom center",
          "bottom center",
          "bottom center",
          "bottom center",
          "bottom center",
          "bottom center",
          "bottom center",
          "bottom center",
          "bottom center",
          "bottom center",
          "bottom center",
          "bottom center",
          "bottom center",
          "bottom center",
          "bottom center",
          "bottom center",
          "bottom center"
         ],
         "type": "scatter",
         "x": [
          2.5,
          2.5
         ],
         "xaxis": "x",
         "y": [
          0.1,
          0.1
         ],
         "yaxis": "y"
        },
        {
         "hovertemplate": "Provider=AI21<br>Marker=2<br>Test_cost=%{x}<br>Test_acc=%{y}<br>Method=%{text}<extra></extra>",
         "legendgroup": "AI21, 2",
         "marker": {
          "color": "#F58518",
          "opacity": 0.7,
          "size": 15,
          "symbol": "square"
         },
         "mode": "markers+text",
         "name": "AI21, 2",
         "orientation": "v",
         "showlegend": false,
         "text": [
          "J1-G",
          "J1-G"
         ],
         "textposition": [
          "bottom center",
          "bottom center",
          "bottom center",
          "bottom center",
          "bottom center",
          "bottom center",
          "bottom center",
          "bottom center",
          "bottom center",
          "bottom center",
          "bottom center",
          "bottom center",
          "bottom center",
          "bottom center",
          "bottom center",
          "bottom center",
          "bottom center",
          "bottom center",
          "bottom center",
          "bottom center",
          "bottom center",
          "bottom center",
          "bottom center",
          "bottom center",
          "bottom center",
          "bottom center",
          "bottom center",
          "bottom center",
          "bottom center",
          "bottom center",
          "bottom center",
          "bottom center",
          "bottom center",
          "bottom center"
         ],
         "type": "scatter",
         "x": [
          4.80016,
          4.80016
         ],
         "xaxis": "x",
         "y": [
          0.1,
          0.1
         ],
         "yaxis": "y"
        },
        {
         "hovertemplate": "Provider=AI21<br>Marker=1<br>Test_cost=%{x}<br>Test_acc=%{y}<br>Method=%{text}<extra></extra>",
         "legendgroup": "AI21, 1",
         "marker": {
          "color": "#F58518",
          "opacity": 0.7,
          "size": 15,
          "symbol": "diamond"
         },
         "mode": "markers+text",
         "name": "AI21, 1",
         "orientation": "v",
         "showlegend": false,
         "text": [
          "J1-L",
          "J1-L"
         ],
         "textposition": [
          "bottom center",
          "bottom center",
          "bottom center",
          "bottom center",
          "bottom center",
          "bottom center",
          "bottom center",
          "bottom center",
          "bottom center",
          "bottom center",
          "bottom center",
          "bottom center",
          "bottom center",
          "bottom center",
          "bottom center",
          "bottom center",
          "bottom center",
          "bottom center",
          "bottom center",
          "bottom center",
          "bottom center",
          "bottom center",
          "bottom center",
          "bottom center",
          "bottom center",
          "bottom center",
          "bottom center",
          "bottom center",
          "bottom center",
          "bottom center",
          "bottom center",
          "bottom center",
          "bottom center",
          "bottom center"
         ],
         "type": "scatter",
         "x": [
          1.80042,
          1.80042
         ],
         "xaxis": "x",
         "y": [
          0.1,
          0.1
         ],
         "yaxis": "y"
        },
        {
         "hovertemplate": "Provider= CoHere<br>Marker=2<br>Test_cost=%{x}<br>Test_acc=%{y}<br>Method=%{text}<extra></extra>",
         "legendgroup": " CoHere, 2",
         "marker": {
          "color": "#E45756",
          "opacity": 0.7,
          "size": 15,
          "symbol": "square"
         },
         "mode": "markers+text",
         "name": " CoHere, 2",
         "orientation": "v",
         "showlegend": false,
         "text": [
          " CoHere",
          " CoHere"
         ],
         "textposition": [
          "bottom center",
          "bottom center",
          "bottom center",
          "bottom center",
          "bottom center",
          "bottom center",
          "bottom center",
          "bottom center",
          "bottom center",
          "bottom center",
          "bottom center",
          "bottom center",
          "bottom center",
          "bottom center",
          "bottom center",
          "bottom center",
          "bottom center",
          "bottom center",
          "bottom center",
          "bottom center",
          "bottom center",
          "bottom center",
          "bottom center",
          "bottom center",
          "bottom center",
          "bottom center",
          "bottom center",
          "bottom center",
          "bottom center",
          "bottom center",
          "bottom center",
          "bottom center",
          "bottom center",
          "bottom center"
         ],
         "type": "scatter",
         "x": [
          8.9586075,
          8.9586075
         ],
         "xaxis": "x",
         "y": [
          0.1,
          0.1
         ],
         "yaxis": "y"
        },
        {
         "hovertemplate": "Provider=FA<br>Marker=1<br>Test_cost=%{x}<br>Test_acc=%{y}<br>Method=%{text}<extra></extra>",
         "legendgroup": "FA, 1",
         "marker": {
          "color": "#72B7B2",
          "opacity": 0.7,
          "size": 15,
          "symbol": "diamond"
         },
         "mode": "markers+text",
         "name": "FA, 1",
         "orientation": "v",
         "showlegend": false,
         "text": [
          "FQ",
          "FQ"
         ],
         "textposition": [
          "bottom center",
          "bottom center",
          "bottom center",
          "bottom center",
          "bottom center",
          "bottom center",
          "bottom center",
          "bottom center",
          "bottom center",
          "bottom center",
          "bottom center",
          "bottom center",
          "bottom center",
          "bottom center",
          "bottom center",
          "bottom center",
          "bottom center",
          "bottom center",
          "bottom center",
          "bottom center",
          "bottom center",
          "bottom center",
          "bottom center",
          "bottom center",
          "bottom center",
          "bottom center",
          "bottom center",
          "bottom center",
          "bottom center",
          "bottom center",
          "bottom center",
          "bottom center",
          "bottom center",
          "bottom center"
         ],
         "type": "scatter",
         "x": [
          6.6724708,
          6.6724708
         ],
         "xaxis": "x",
         "y": [
          0.1,
          0.1
         ],
         "yaxis": "y"
        },
        {
         "hovertemplate": "Provider=OpenAI<br>Marker=3<br>Test_cost=%{x}<br>Test_acc=%{y}<br>Method=%{text}<extra></extra>",
         "legendgroup": "OpenAI, 3",
         "marker": {
          "color": "#54A24B",
          "opacity": 0.7,
          "size": 15,
          "symbol": "circle"
         },
         "mode": "markers+text",
         "name": "OpenAI, 3",
         "orientation": "v",
         "showlegend": false,
         "text": [
          "GPT-3",
          "GPT-4Turbo",
          "GPT-3",
          "GPT-4Turbo"
         ],
         "textposition": [
          "bottom center",
          "bottom center",
          "bottom center",
          "bottom center",
          "bottom center",
          "bottom center",
          "bottom center",
          "bottom center",
          "bottom center",
          "bottom center",
          "bottom center",
          "bottom center",
          "bottom center",
          "bottom center",
          "bottom center",
          "bottom center",
          "bottom center",
          "bottom center",
          "bottom center",
          "bottom center",
          "bottom center",
          "bottom center",
          "bottom center",
          "bottom center",
          "bottom center",
          "bottom center",
          "bottom center",
          "bottom center",
          "bottom center",
          "bottom center",
          "bottom center",
          "bottom center",
          "bottom center",
          "bottom center"
         ],
         "type": "scatter",
         "x": [
          2.1,
          16.652775000000002,
          2.1,
          16.652775000000002
         ],
         "xaxis": "x",
         "y": [
          0.1,
          0.8558,
          0.1,
          0.8558
         ],
         "yaxis": "y"
        },
        {
         "hovertemplate": "Provider=OpenAI<br>Marker=2<br>Test_cost=%{x}<br>Test_acc=%{y}<br>Method=%{text}<extra></extra>",
         "legendgroup": "OpenAI, 2",
         "marker": {
          "color": "#54A24B",
          "opacity": 0.7,
          "size": 15,
          "symbol": "square"
         },
         "mode": "markers+text",
         "name": "OpenAI, 2",
         "orientation": "v",
         "showlegend": false,
         "text": [
          "ChatGPT",
          "             GPT-4o",
          "ChatGPT",
          "             GPT-4o"
         ],
         "textposition": [
          "bottom center",
          "bottom center",
          "bottom center",
          "bottom center",
          "bottom center",
          "bottom center",
          "bottom center",
          "bottom center",
          "bottom center",
          "bottom center",
          "bottom center",
          "bottom center",
          "bottom center",
          "bottom center",
          "bottom center",
          "bottom center",
          "bottom center",
          "bottom center",
          "bottom center",
          "bottom center",
          "bottom center",
          "bottom center",
          "bottom center",
          "bottom center",
          "bottom center",
          "bottom center",
          "bottom center",
          "bottom center",
          "bottom center",
          "bottom center",
          "bottom center",
          "bottom center",
          "bottom center",
          "bottom center"
         ],
         "type": "scatter",
         "x": [
          2.221348,
          5.499465000000001,
          2.221348,
          5.499465000000001
         ],
         "xaxis": "x",
         "y": [
          0.1,
          0.8324,
          0.1,
          0.8324
         ],
         "yaxis": "y"
        },
        {
         "hovertemplate": "Provider=OpenAI<br>Marker=1<br>Test_cost=%{x}<br>Test_acc=%{y}<br>Method=%{text}<extra></extra>",
         "legendgroup": "OpenAI, 1",
         "marker": {
          "color": "#54A24B",
          "opacity": 0.7,
          "size": 15,
          "symbol": "diamond"
         },
         "mode": "markers+text",
         "name": "OpenAI, 1",
         "orientation": "v",
         "showlegend": false,
         "text": [
          "GPT-C",
          "            GPT-4o-mini",
          "GPT-C",
          "            GPT-4o-mini"
         ],
         "textposition": [
          "bottom center",
          "bottom center",
          "bottom center",
          "bottom center",
          "bottom center",
          "bottom center",
          "bottom center",
          "bottom center",
          "bottom center",
          "bottom center",
          "bottom center",
          "bottom center",
          "bottom center",
          "bottom center",
          "bottom center",
          "bottom center",
          "bottom center",
          "bottom center",
          "bottom center",
          "bottom center",
          "bottom center",
          "bottom center",
          "bottom center",
          "bottom center",
          "bottom center",
          "bottom center",
          "bottom center",
          "bottom center",
          "bottom center",
          "bottom center",
          "bottom center",
          "bottom center",
          "bottom center",
          "bottom center"
         ],
         "type": "scatter",
         "x": [
          2.280752,
          0.16567335,
          2.280752,
          0.16567335
         ],
         "xaxis": "x",
         "y": [
          0.1,
          0.8478,
          0.1,
          0.8478
         ],
         "yaxis": "y"
        },
        {
         "hovertemplate": "Provider=OpenAI<br>Marker=4<br>Test_cost=%{x}<br>Test_acc=%{y}<br>Method=%{text}<extra></extra>",
         "legendgroup": "OpenAI, 4",
         "marker": {
          "color": "#54A24B",
          "opacity": 0.7,
          "size": 15,
          "symbol": "star"
         },
         "mode": "markers+text",
         "name": "OpenAI, 4",
         "orientation": "v",
         "showlegend": false,
         "text": [
          "GPT-4",
          "GPT-4"
         ],
         "textposition": [
          "bottom center",
          "bottom center",
          "bottom center",
          "bottom center",
          "bottom center",
          "bottom center",
          "bottom center",
          "bottom center",
          "bottom center",
          "bottom center",
          "bottom center",
          "bottom center",
          "bottom center",
          "bottom center",
          "bottom center",
          "bottom center",
          "bottom center",
          "bottom center",
          "bottom center",
          "bottom center",
          "bottom center",
          "bottom center",
          "bottom center",
          "bottom center",
          "bottom center",
          "bottom center",
          "bottom center",
          "bottom center",
          "bottom center",
          "bottom center",
          "bottom center",
          "bottom center",
          "bottom center",
          "bottom center"
         ],
         "type": "scatter",
         "x": [
          20.1,
          20.1
         ],
         "xaxis": "x",
         "y": [
          0.1,
          0.1
         ],
         "yaxis": "y"
        },
        {
         "hovertemplate": "Provider=togetherai<br>Marker=2<br>Test_cost=%{x}<br>Test_acc=%{y}<br>Method=%{text}<extra></extra>",
         "legendgroup": "togetherai, 2",
         "marker": {
          "color": "#EECA3B",
          "opacity": 0.7,
          "size": 15,
          "symbol": "square"
         },
         "mode": "markers+text",
         "name": "togetherai, 2",
         "orientation": "v",
         "showlegend": false,
         "text": [
          "      GM2 (9B)",
          "      GM2 (9B)"
         ],
         "textposition": [
          "bottom center",
          "bottom center",
          "bottom center",
          "bottom center",
          "bottom center",
          "bottom center",
          "bottom center",
          "bottom center",
          "bottom center",
          "bottom center",
          "bottom center",
          "bottom center",
          "bottom center",
          "bottom center",
          "bottom center",
          "bottom center",
          "bottom center",
          "bottom center",
          "bottom center",
          "bottom center",
          "bottom center",
          "bottom center",
          "bottom center",
          "bottom center",
          "bottom center",
          "bottom center",
          "bottom center",
          "bottom center",
          "bottom center",
          "bottom center",
          "bottom center",
          "bottom center",
          "bottom center",
          "bottom center"
         ],
         "type": "scatter",
         "x": [
          0.3520268999999999,
          0.3520268999999999
         ],
         "xaxis": "x",
         "y": [
          0.832,
          0.832
         ],
         "yaxis": "y"
        },
        {
         "hovertemplate": "Provider=togetherai<br>Marker=1<br>Test_cost=%{x}<br>Test_acc=%{y}<br>Method=%{text}<extra></extra>",
         "legendgroup": "togetherai, 1",
         "marker": {
          "color": "#EECA3B",
          "opacity": 0.7,
          "size": 15,
          "symbol": "diamond"
         },
         "mode": "markers+text",
         "name": "togetherai, 1",
         "orientation": "v",
         "showlegend": false,
         "text": [
          "              Llama 3 (70B)",
          "              Llama 3 (70B)"
         ],
         "textposition": [
          "bottom center",
          "bottom center",
          "bottom center",
          "bottom center",
          "bottom center",
          "bottom center",
          "bottom center",
          "bottom center",
          "bottom center",
          "bottom center",
          "bottom center",
          "bottom center",
          "bottom center",
          "bottom center",
          "bottom center",
          "bottom center",
          "bottom center",
          "bottom center",
          "bottom center",
          "bottom center",
          "bottom center",
          "bottom center",
          "bottom center",
          "bottom center",
          "bottom center",
          "bottom center",
          "bottom center",
          "bottom center",
          "bottom center",
          "bottom center",
          "bottom center",
          "bottom center",
          "bottom center",
          "bottom center"
         ],
         "type": "scatter",
         "x": [
          1.00351,
          1.00351
         ],
         "xaxis": "x",
         "y": [
          0.8264,
          0.8264
         ],
         "yaxis": "y"
        },
        {
         "line": {
          "color": "red",
          "width": 5
         },
         "marker": {
          "color": "red",
          "opacity": 0.7,
          "size": 15
         },
         "mode": "lines+markers",
         "name": "FrugalGPT",
         "showlegend": true,
         "type": "scatter",
         "x": [
          0.175,
          1.115,
          2.05,
          2.99,
          3.93,
          4.865,
          5.805,
          6.74,
          7.680000000000001,
          8.620000000000001,
          9.555,
          10.495000000000001,
          11.435,
          12.370000000000001,
          13.309999999999999,
          14.245,
          15.185,
          16.125,
          17.060000000000002,
          18
         ],
         "y": [
          0.8478,
          0.8726,
          0.878,
          0.878,
          0.878,
          0.878,
          0.878,
          0.878,
          0.878,
          0.878,
          0.878,
          0.878,
          0.878,
          0.878,
          0.878,
          0.878,
          0.878,
          0.878,
          0.878,
          0.878
         ]
        }
       ],
       "layout": {
        "font": {
         "family": "Arial",
         "size": 25
        },
        "height": 400,
        "legend": {
         "title": {
          "text": ""
         },
         "tracegroupgap": 0,
         "traceorder": "reversed",
         "x": 0.5,
         "xanchor": "center",
         "y": 1.1,
         "yanchor": "top"
        },
        "margin": {
         "b": 0,
         "l": 0,
         "r": 0,
         "t": 0
        },
        "plot_bgcolor": "white",
        "template": {
         "data": {
          "bar": [
           {
            "error_x": {
             "color": "#2a3f5f"
            },
            "error_y": {
             "color": "#2a3f5f"
            },
            "marker": {
             "line": {
              "color": "#E5ECF6",
              "width": 0.5
             },
             "pattern": {
              "fillmode": "overlay",
              "size": 10,
              "solidity": 0.2
             }
            },
            "type": "bar"
           }
          ],
          "barpolar": [
           {
            "marker": {
             "line": {
              "color": "#E5ECF6",
              "width": 0.5
             },
             "pattern": {
              "fillmode": "overlay",
              "size": 10,
              "solidity": 0.2
             }
            },
            "type": "barpolar"
           }
          ],
          "carpet": [
           {
            "aaxis": {
             "endlinecolor": "#2a3f5f",
             "gridcolor": "white",
             "linecolor": "white",
             "minorgridcolor": "white",
             "startlinecolor": "#2a3f5f"
            },
            "baxis": {
             "endlinecolor": "#2a3f5f",
             "gridcolor": "white",
             "linecolor": "white",
             "minorgridcolor": "white",
             "startlinecolor": "#2a3f5f"
            },
            "type": "carpet"
           }
          ],
          "choropleth": [
           {
            "colorbar": {
             "outlinewidth": 0,
             "ticks": ""
            },
            "type": "choropleth"
           }
          ],
          "contour": [
           {
            "colorbar": {
             "outlinewidth": 0,
             "ticks": ""
            },
            "colorscale": [
             [
              0,
              "#0d0887"
             ],
             [
              0.1111111111111111,
              "#46039f"
             ],
             [
              0.2222222222222222,
              "#7201a8"
             ],
             [
              0.3333333333333333,
              "#9c179e"
             ],
             [
              0.4444444444444444,
              "#bd3786"
             ],
             [
              0.5555555555555556,
              "#d8576b"
             ],
             [
              0.6666666666666666,
              "#ed7953"
             ],
             [
              0.7777777777777778,
              "#fb9f3a"
             ],
             [
              0.8888888888888888,
              "#fdca26"
             ],
             [
              1,
              "#f0f921"
             ]
            ],
            "type": "contour"
           }
          ],
          "contourcarpet": [
           {
            "colorbar": {
             "outlinewidth": 0,
             "ticks": ""
            },
            "type": "contourcarpet"
           }
          ],
          "heatmap": [
           {
            "colorbar": {
             "outlinewidth": 0,
             "ticks": ""
            },
            "colorscale": [
             [
              0,
              "#0d0887"
             ],
             [
              0.1111111111111111,
              "#46039f"
             ],
             [
              0.2222222222222222,
              "#7201a8"
             ],
             [
              0.3333333333333333,
              "#9c179e"
             ],
             [
              0.4444444444444444,
              "#bd3786"
             ],
             [
              0.5555555555555556,
              "#d8576b"
             ],
             [
              0.6666666666666666,
              "#ed7953"
             ],
             [
              0.7777777777777778,
              "#fb9f3a"
             ],
             [
              0.8888888888888888,
              "#fdca26"
             ],
             [
              1,
              "#f0f921"
             ]
            ],
            "type": "heatmap"
           }
          ],
          "heatmapgl": [
           {
            "colorbar": {
             "outlinewidth": 0,
             "ticks": ""
            },
            "colorscale": [
             [
              0,
              "#0d0887"
             ],
             [
              0.1111111111111111,
              "#46039f"
             ],
             [
              0.2222222222222222,
              "#7201a8"
             ],
             [
              0.3333333333333333,
              "#9c179e"
             ],
             [
              0.4444444444444444,
              "#bd3786"
             ],
             [
              0.5555555555555556,
              "#d8576b"
             ],
             [
              0.6666666666666666,
              "#ed7953"
             ],
             [
              0.7777777777777778,
              "#fb9f3a"
             ],
             [
              0.8888888888888888,
              "#fdca26"
             ],
             [
              1,
              "#f0f921"
             ]
            ],
            "type": "heatmapgl"
           }
          ],
          "histogram": [
           {
            "marker": {
             "pattern": {
              "fillmode": "overlay",
              "size": 10,
              "solidity": 0.2
             }
            },
            "type": "histogram"
           }
          ],
          "histogram2d": [
           {
            "colorbar": {
             "outlinewidth": 0,
             "ticks": ""
            },
            "colorscale": [
             [
              0,
              "#0d0887"
             ],
             [
              0.1111111111111111,
              "#46039f"
             ],
             [
              0.2222222222222222,
              "#7201a8"
             ],
             [
              0.3333333333333333,
              "#9c179e"
             ],
             [
              0.4444444444444444,
              "#bd3786"
             ],
             [
              0.5555555555555556,
              "#d8576b"
             ],
             [
              0.6666666666666666,
              "#ed7953"
             ],
             [
              0.7777777777777778,
              "#fb9f3a"
             ],
             [
              0.8888888888888888,
              "#fdca26"
             ],
             [
              1,
              "#f0f921"
             ]
            ],
            "type": "histogram2d"
           }
          ],
          "histogram2dcontour": [
           {
            "colorbar": {
             "outlinewidth": 0,
             "ticks": ""
            },
            "colorscale": [
             [
              0,
              "#0d0887"
             ],
             [
              0.1111111111111111,
              "#46039f"
             ],
             [
              0.2222222222222222,
              "#7201a8"
             ],
             [
              0.3333333333333333,
              "#9c179e"
             ],
             [
              0.4444444444444444,
              "#bd3786"
             ],
             [
              0.5555555555555556,
              "#d8576b"
             ],
             [
              0.6666666666666666,
              "#ed7953"
             ],
             [
              0.7777777777777778,
              "#fb9f3a"
             ],
             [
              0.8888888888888888,
              "#fdca26"
             ],
             [
              1,
              "#f0f921"
             ]
            ],
            "type": "histogram2dcontour"
           }
          ],
          "mesh3d": [
           {
            "colorbar": {
             "outlinewidth": 0,
             "ticks": ""
            },
            "type": "mesh3d"
           }
          ],
          "parcoords": [
           {
            "line": {
             "colorbar": {
              "outlinewidth": 0,
              "ticks": ""
             }
            },
            "type": "parcoords"
           }
          ],
          "pie": [
           {
            "automargin": true,
            "type": "pie"
           }
          ],
          "scatter": [
           {
            "fillpattern": {
             "fillmode": "overlay",
             "size": 10,
             "solidity": 0.2
            },
            "type": "scatter"
           }
          ],
          "scatter3d": [
           {
            "line": {
             "colorbar": {
              "outlinewidth": 0,
              "ticks": ""
             }
            },
            "marker": {
             "colorbar": {
              "outlinewidth": 0,
              "ticks": ""
             }
            },
            "type": "scatter3d"
           }
          ],
          "scattercarpet": [
           {
            "marker": {
             "colorbar": {
              "outlinewidth": 0,
              "ticks": ""
             }
            },
            "type": "scattercarpet"
           }
          ],
          "scattergeo": [
           {
            "marker": {
             "colorbar": {
              "outlinewidth": 0,
              "ticks": ""
             }
            },
            "type": "scattergeo"
           }
          ],
          "scattergl": [
           {
            "marker": {
             "colorbar": {
              "outlinewidth": 0,
              "ticks": ""
             }
            },
            "type": "scattergl"
           }
          ],
          "scattermapbox": [
           {
            "marker": {
             "colorbar": {
              "outlinewidth": 0,
              "ticks": ""
             }
            },
            "type": "scattermapbox"
           }
          ],
          "scatterpolar": [
           {
            "marker": {
             "colorbar": {
              "outlinewidth": 0,
              "ticks": ""
             }
            },
            "type": "scatterpolar"
           }
          ],
          "scatterpolargl": [
           {
            "marker": {
             "colorbar": {
              "outlinewidth": 0,
              "ticks": ""
             }
            },
            "type": "scatterpolargl"
           }
          ],
          "scatterternary": [
           {
            "marker": {
             "colorbar": {
              "outlinewidth": 0,
              "ticks": ""
             }
            },
            "type": "scatterternary"
           }
          ],
          "surface": [
           {
            "colorbar": {
             "outlinewidth": 0,
             "ticks": ""
            },
            "colorscale": [
             [
              0,
              "#0d0887"
             ],
             [
              0.1111111111111111,
              "#46039f"
             ],
             [
              0.2222222222222222,
              "#7201a8"
             ],
             [
              0.3333333333333333,
              "#9c179e"
             ],
             [
              0.4444444444444444,
              "#bd3786"
             ],
             [
              0.5555555555555556,
              "#d8576b"
             ],
             [
              0.6666666666666666,
              "#ed7953"
             ],
             [
              0.7777777777777778,
              "#fb9f3a"
             ],
             [
              0.8888888888888888,
              "#fdca26"
             ],
             [
              1,
              "#f0f921"
             ]
            ],
            "type": "surface"
           }
          ],
          "table": [
           {
            "cells": {
             "fill": {
              "color": "#EBF0F8"
             },
             "line": {
              "color": "white"
             }
            },
            "header": {
             "fill": {
              "color": "#C8D4E3"
             },
             "line": {
              "color": "white"
             }
            },
            "type": "table"
           }
          ]
         },
         "layout": {
          "annotationdefaults": {
           "arrowcolor": "#2a3f5f",
           "arrowhead": 0,
           "arrowwidth": 1
          },
          "autotypenumbers": "strict",
          "coloraxis": {
           "colorbar": {
            "outlinewidth": 0,
            "ticks": ""
           }
          },
          "colorscale": {
           "diverging": [
            [
             0,
             "#8e0152"
            ],
            [
             0.1,
             "#c51b7d"
            ],
            [
             0.2,
             "#de77ae"
            ],
            [
             0.3,
             "#f1b6da"
            ],
            [
             0.4,
             "#fde0ef"
            ],
            [
             0.5,
             "#f7f7f7"
            ],
            [
             0.6,
             "#e6f5d0"
            ],
            [
             0.7,
             "#b8e186"
            ],
            [
             0.8,
             "#7fbc41"
            ],
            [
             0.9,
             "#4d9221"
            ],
            [
             1,
             "#276419"
            ]
           ],
           "sequential": [
            [
             0,
             "#0d0887"
            ],
            [
             0.1111111111111111,
             "#46039f"
            ],
            [
             0.2222222222222222,
             "#7201a8"
            ],
            [
             0.3333333333333333,
             "#9c179e"
            ],
            [
             0.4444444444444444,
             "#bd3786"
            ],
            [
             0.5555555555555556,
             "#d8576b"
            ],
            [
             0.6666666666666666,
             "#ed7953"
            ],
            [
             0.7777777777777778,
             "#fb9f3a"
            ],
            [
             0.8888888888888888,
             "#fdca26"
            ],
            [
             1,
             "#f0f921"
            ]
           ],
           "sequentialminus": [
            [
             0,
             "#0d0887"
            ],
            [
             0.1111111111111111,
             "#46039f"
            ],
            [
             0.2222222222222222,
             "#7201a8"
            ],
            [
             0.3333333333333333,
             "#9c179e"
            ],
            [
             0.4444444444444444,
             "#bd3786"
            ],
            [
             0.5555555555555556,
             "#d8576b"
            ],
            [
             0.6666666666666666,
             "#ed7953"
            ],
            [
             0.7777777777777778,
             "#fb9f3a"
            ],
            [
             0.8888888888888888,
             "#fdca26"
            ],
            [
             1,
             "#f0f921"
            ]
           ]
          },
          "colorway": [
           "#636efa",
           "#EF553B",
           "#00cc96",
           "#ab63fa",
           "#FFA15A",
           "#19d3f3",
           "#FF6692",
           "#B6E880",
           "#FF97FF",
           "#FECB52"
          ],
          "font": {
           "color": "#2a3f5f"
          },
          "geo": {
           "bgcolor": "white",
           "lakecolor": "white",
           "landcolor": "#E5ECF6",
           "showlakes": true,
           "showland": true,
           "subunitcolor": "white"
          },
          "hoverlabel": {
           "align": "left"
          },
          "hovermode": "closest",
          "mapbox": {
           "style": "light"
          },
          "paper_bgcolor": "white",
          "plot_bgcolor": "#E5ECF6",
          "polar": {
           "angularaxis": {
            "gridcolor": "white",
            "linecolor": "white",
            "ticks": ""
           },
           "bgcolor": "#E5ECF6",
           "radialaxis": {
            "gridcolor": "white",
            "linecolor": "white",
            "ticks": ""
           }
          },
          "scene": {
           "xaxis": {
            "backgroundcolor": "#E5ECF6",
            "gridcolor": "white",
            "gridwidth": 2,
            "linecolor": "white",
            "showbackground": true,
            "ticks": "",
            "zerolinecolor": "white"
           },
           "yaxis": {
            "backgroundcolor": "#E5ECF6",
            "gridcolor": "white",
            "gridwidth": 2,
            "linecolor": "white",
            "showbackground": true,
            "ticks": "",
            "zerolinecolor": "white"
           },
           "zaxis": {
            "backgroundcolor": "#E5ECF6",
            "gridcolor": "white",
            "gridwidth": 2,
            "linecolor": "white",
            "showbackground": true,
            "ticks": "",
            "zerolinecolor": "white"
           }
          },
          "shapedefaults": {
           "line": {
            "color": "#2a3f5f"
           }
          },
          "ternary": {
           "aaxis": {
            "gridcolor": "white",
            "linecolor": "white",
            "ticks": ""
           },
           "baxis": {
            "gridcolor": "white",
            "linecolor": "white",
            "ticks": ""
           },
           "bgcolor": "#E5ECF6",
           "caxis": {
            "gridcolor": "white",
            "linecolor": "white",
            "ticks": ""
           }
          },
          "title": {
           "x": 0.05
          },
          "xaxis": {
           "automargin": true,
           "gridcolor": "white",
           "linecolor": "white",
           "ticks": "",
           "title": {
            "standoff": 15
           },
           "zerolinecolor": "white",
           "zerolinewidth": 2
          },
          "yaxis": {
           "automargin": true,
           "gridcolor": "white",
           "linecolor": "white",
           "ticks": "",
           "title": {
            "standoff": 15
           },
           "zerolinecolor": "white",
           "zerolinewidth": 2
          }
         }
        },
        "width": 500,
        "xaxis": {
         "anchor": "y",
         "autorange": true,
         "domain": [
          0,
          1
         ],
         "gridcolor": "lightgrey",
         "linecolor": "black",
         "linewidth": 2,
         "range": [
          -1.5377118587925098,
          21.803385208792513
         ],
         "showline": true,
         "title": {
          "text": "Cost ($)"
         },
         "type": "linear"
        },
        "yaxis": {
         "anchor": "x",
         "domain": [
          0,
          1
         ],
         "gridcolor": "lightgrey",
         "linecolor": "black",
         "linewidth": 2,
         "range": [
          0.82,
          0.885
         ],
         "showline": true,
         "title": {
          "text": "Accuracy"
         },
         "type": "linear"
        }
       }
      },
      "image/png": "[encoded data removed]",
      "text/html": [
       "<div>                            <div id=\"7c31187a-c234-4d58-94b9-9877ef3a4557\" class=\"plotly-graph-div\" style=\"height:400px; width:500px;\"></div>            <script type=\"text/javascript\">                require([\"plotly\"], function(Plotly) {                    window.PLOTLYENV=window.PLOTLYENV || {};                                    if (document.getElementById(\"7c31187a-c234-4d58-94b9-9877ef3a4557\")) {                    Plotly.newPlot(                        \"7c31187a-c234-4d58-94b9-9877ef3a4557\",                        [{\"hovertemplate\":\"Provider=Textsynth\\u003cbr\\u003eMarker=3\\u003cbr\\u003eTest_cost=%{x}\\u003cbr\\u003eTest_acc=%{y}\\u003cbr\\u003eMethod=%{text}\\u003cextra\\u003e\\u003c\\u002fextra\\u003e\",\"legendgroup\":\"Textsynth, 3\",\"marker\":{\"color\":\"#4C78A8\",\"symbol\":\"circle\",\"size\":15,\"opacity\":0.7},\"mode\":\"markers+text\",\"name\":\"Textsynth, 3\",\"orientation\":\"v\",\"showlegend\":false,\"text\":[\"GPT-Neo\",\"GPT-Neo\"],\"x\":[1.9486362,1.9486362],\"xaxis\":\"x\",\"y\":[0.1,0.1],\"yaxis\":\"y\",\"type\":\"scatter\",\"textposition\":[\"bottom center\",\"bottom center\",\"bottom center\",\"bottom center\",\"bottom center\",\"bottom center\",\"bottom center\",\"bottom center\",\"bottom center\",\"bottom center\",\"bottom center\",\"bottom center\",\"bottom center\",\"bottom center\",\"bottom center\",\"bottom center\",\"bottom center\",\"bottom center\",\"bottom center\",\"bottom center\",\"bottom center\",\"bottom center\",\"bottom center\",\"bottom center\",\"bottom center\",\"bottom center\",\"bottom center\",\"bottom center\",\"bottom center\",\"bottom center\",\"bottom center\",\"bottom center\",\"bottom center\",\"bottom center\"]},{\"hovertemplate\":\"Provider=Textsynth\\u003cbr\\u003eMarker=2\\u003cbr\\u003eTest_cost=%{x}\\u003cbr\\u003eTest_acc=%{y}\\u003cbr\\u003eMethod=%{text}\\u003cextra\\u003e\\u003c\\u002fextra\\u003e\",\"legendgroup\":\"Textsynth, 2\",\"marker\":{\"color\":\"#4C78A8\",\"symbol\":\"square\",\"size\":15,\"opacity\":0.7},\"mode\":\"markers+text\",\"name\":\"Textsynth, 2\",\"orientation\":\"v\",\"showlegend\":false,\"text\":[\"FSQ\",\"FSQ\"],\"x\":[0.8044752,0.8044752],\"xaxis\":\"x\",\"y\":[0.1,0.1],\"yaxis\":\"y\",\"type\":\"scatter\",\"textposition\":[\"bottom center\",\"bottom center\",\"bottom center\",\"bottom center\",\"bottom center\",\"bottom center\",\"bottom center\",\"bottom center\",\"bottom center\",\"bottom center\",\"bottom center\",\"bottom center\",\"bottom center\",\"bottom center\",\"bottom center\",\"bottom center\",\"bottom center\",\"bottom center\",\"bottom center\",\"bottom center\",\"bottom center\",\"bottom center\",\"bottom center\",\"bottom center\",\"bottom center\",\"bottom center\",\"bottom center\",\"bottom center\",\"bottom center\",\"bottom center\",\"bottom center\",\"bottom center\",\"bottom center\",\"bottom center\"]},{\"hovertemplate\":\"Provider=Textsynth\\u003cbr\\u003eMarker=1\\u003cbr\\u003eTest_cost=%{x}\\u003cbr\\u003eTest_acc=%{y}\\u003cbr\\u003eMethod=%{text}\\u003cextra\\u003e\\u003c\\u002fextra\\u003e\",\"legendgroup\":\"Textsynth, 1\",\"marker\":{\"color\":\"#4C78A8\",\"symbol\":\"diamond\",\"size\":15,\"opacity\":0.7},\"mode\":\"markers+text\",\"name\":\"Textsynth, 1\",\"orientation\":\"v\",\"showlegend\":false,\"text\":[\"GPT-J\",\"GPT-J\"],\"x\":[0.2773536,0.2773536],\"xaxis\":\"x\",\"y\":[0.1,0.1],\"yaxis\":\"y\",\"type\":\"scatter\",\"textposition\":[\"bottom center\",\"bottom center\",\"bottom center\",\"bottom center\",\"bottom center\",\"bottom center\",\"bottom center\",\"bottom center\",\"bottom center\",\"bottom center\",\"bottom center\",\"bottom center\",\"bottom center\",\"bottom center\",\"bottom center\",\"bottom center\",\"bottom center\",\"bottom center\",\"bottom center\",\"bottom center\",\"bottom center\",\"bottom center\",\"bottom center\",\"bottom center\",\"bottom center\",\"bottom center\",\"bottom center\",\"bottom center\",\"bottom center\",\"bottom center\",\"bottom center\",\"bottom center\",\"bottom center\",\"bottom center\"]},{\"hovertemplate\":\"Provider=AI21\\u003cbr\\u003eMarker=3\\u003cbr\\u003eTest_cost=%{x}\\u003cbr\\u003eTest_acc=%{y}\\u003cbr\\u003eMethod=%{text}\\u003cextra\\u003e\\u003c\\u002fextra\\u003e\",\"legendgroup\":\"AI21, 3\",\"marker\":{\"color\":\"#F58518\",\"symbol\":\"circle\",\"size\":15,\"opacity\":0.7},\"mode\":\"markers+text\",\"name\":\"AI21, 3\",\"orientation\":\"v\",\"showlegend\":false,\"text\":[\"   J1\",\"   J1\"],\"x\":[2.5,2.5],\"xaxis\":\"x\",\"y\":[0.1,0.1],\"yaxis\":\"y\",\"type\":\"scatter\",\"textposition\":[\"bottom center\",\"bottom center\",\"bottom center\",\"bottom center\",\"bottom center\",\"bottom center\",\"bottom center\",\"bottom center\",\"bottom center\",\"bottom center\",\"bottom center\",\"bottom center\",\"bottom center\",\"bottom center\",\"bottom center\",\"bottom center\",\"bottom center\",\"bottom center\",\"bottom center\",\"bottom center\",\"bottom center\",\"bottom center\",\"bottom center\",\"bottom center\",\"bottom center\",\"bottom center\",\"bottom center\",\"bottom center\",\"bottom center\",\"bottom center\",\"bottom center\",\"bottom center\",\"bottom center\",\"bottom center\"]},{\"hovertemplate\":\"Provider=AI21\\u003cbr\\u003eMarker=2\\u003cbr\\u003eTest_cost=%{x}\\u003cbr\\u003eTest_acc=%{y}\\u003cbr\\u003eMethod=%{text}\\u003cextra\\u003e\\u003c\\u002fextra\\u003e\",\"legendgroup\":\"AI21, 2\",\"marker\":{\"color\":\"#F58518\",\"symbol\":\"square\",\"size\":15,\"opacity\":0.7},\"mode\":\"markers+text\",\"name\":\"AI21, 2\",\"orientation\":\"v\",\"showlegend\":false,\"text\":[\"J1-G\",\"J1-G\"],\"x\":[4.80016,4.80016],\"xaxis\":\"x\",\"y\":[0.1,0.1],\"yaxis\":\"y\",\"type\":\"scatter\",\"textposition\":[\"bottom center\",\"bottom center\",\"bottom center\",\"bottom center\",\"bottom center\",\"bottom center\",\"bottom center\",\"bottom center\",\"bottom center\",\"bottom center\",\"bottom center\",\"bottom center\",\"bottom center\",\"bottom center\",\"bottom center\",\"bottom center\",\"bottom center\",\"bottom center\",\"bottom center\",\"bottom center\",\"bottom center\",\"bottom center\",\"bottom center\",\"bottom center\",\"bottom center\",\"bottom center\",\"bottom center\",\"bottom center\",\"bottom center\",\"bottom center\",\"bottom center\",\"bottom center\",\"bottom center\",\"bottom center\"]},{\"hovertemplate\":\"Provider=AI21\\u003cbr\\u003eMarker=1\\u003cbr\\u003eTest_cost=%{x}\\u003cbr\\u003eTest_acc=%{y}\\u003cbr\\u003eMethod=%{text}\\u003cextra\\u003e\\u003c\\u002fextra\\u003e\",\"legendgroup\":\"AI21, 1\",\"marker\":{\"color\":\"#F58518\",\"symbol\":\"diamond\",\"size\":15,\"opacity\":0.7},\"mode\":\"markers+text\",\"name\":\"AI21, 1\",\"orientation\":\"v\",\"showlegend\":false,\"text\":[\"J1-L\",\"J1-L\"],\"x\":[1.80042,1.80042],\"xaxis\":\"x\",\"y\":[0.1,0.1],\"yaxis\":\"y\",\"type\":\"scatter\",\"textposition\":[\"bottom center\",\"bottom center\",\"bottom center\",\"bottom center\",\"bottom center\",\"bottom center\",\"bottom center\",\"bottom center\",\"bottom center\",\"bottom center\",\"bottom center\",\"bottom center\",\"bottom center\",\"bottom center\",\"bottom center\",\"bottom center\",\"bottom center\",\"bottom center\",\"bottom center\",\"bottom center\",\"bottom center\",\"bottom center\",\"bottom center\",\"bottom center\",\"bottom center\",\"bottom center\",\"bottom center\",\"bottom center\",\"bottom center\",\"bottom center\",\"bottom center\",\"bottom center\",\"bottom center\",\"bottom center\"]},{\"hovertemplate\":\"Provider= CoHere\\u003cbr\\u003eMarker=2\\u003cbr\\u003eTest_cost=%{x}\\u003cbr\\u003eTest_acc=%{y}\\u003cbr\\u003eMethod=%{text}\\u003cextra\\u003e\\u003c\\u002fextra\\u003e\",\"legendgroup\":\" CoHere, 2\",\"marker\":{\"color\":\"#E45756\",\"symbol\":\"square\",\"size\":15,\"opacity\":0.7},\"mode\":\"markers+text\",\"name\":\" CoHere, 2\",\"orientation\":\"v\",\"showlegend\":false,\"text\":[\" CoHere\",\" CoHere\"],\"x\":[8.9586075,8.9586075],\"xaxis\":\"x\",\"y\":[0.1,0.1],\"yaxis\":\"y\",\"type\":\"scatter\",\"textposition\":[\"bottom center\",\"bottom center\",\"bottom center\",\"bottom center\",\"bottom center\",\"bottom center\",\"bottom center\",\"bottom center\",\"bottom center\",\"bottom center\",\"bottom center\",\"bottom center\",\"bottom center\",\"bottom center\",\"bottom center\",\"bottom center\",\"bottom center\",\"bottom center\",\"bottom center\",\"bottom center\",\"bottom center\",\"bottom center\",\"bottom center\",\"bottom center\",\"bottom center\",\"bottom center\",\"bottom center\",\"bottom center\",\"bottom center\",\"bottom center\",\"bottom center\",\"bottom center\",\"bottom center\",\"bottom center\"]},{\"hovertemplate\":\"Provider=FA\\u003cbr\\u003eMarker=1\\u003cbr\\u003eTest_cost=%{x}\\u003cbr\\u003eTest_acc=%{y}\\u003cbr\\u003eMethod=%{text}\\u003cextra\\u003e\\u003c\\u002fextra\\u003e\",\"legendgroup\":\"FA, 1\",\"marker\":{\"color\":\"#72B7B2\",\"symbol\":\"diamond\",\"size\":15,\"opacity\":0.7},\"mode\":\"markers+text\",\"name\":\"FA, 1\",\"orientation\":\"v\",\"showlegend\":false,\"text\":[\"FQ\",\"FQ\"],\"x\":[6.6724708,6.6724708],\"xaxis\":\"x\",\"y\":[0.1,0.1],\"yaxis\":\"y\",\"type\":\"scatter\",\"textposition\":[\"bottom center\",\"bottom center\",\"bottom center\",\"bottom center\",\"bottom center\",\"bottom center\",\"bottom center\",\"bottom center\",\"bottom center\",\"bottom center\",\"bottom center\",\"bottom center\",\"bottom center\",\"bottom center\",\"bottom center\",\"bottom center\",\"bottom center\",\"bottom center\",\"bottom center\",\"bottom center\",\"bottom center\",\"bottom center\",\"bottom center\",\"bottom center\",\"bottom center\",\"bottom center\",\"bottom center\",\"bottom center\",\"bottom center\",\"bottom center\",\"bottom center\",\"bottom center\",\"bottom center\",\"bottom center\"]},{\"hovertemplate\":\"Provider=OpenAI\\u003cbr\\u003eMarker=3\\u003cbr\\u003eTest_cost=%{x}\\u003cbr\\u003eTest_acc=%{y}\\u003cbr\\u003eMethod=%{text}\\u003cextra\\u003e\\u003c\\u002fextra\\u003e\",\"legendgroup\":\"OpenAI, 3\",\"marker\":{\"color\":\"#54A24B\",\"symbol\":\"circle\",\"size\":15,\"opacity\":0.7},\"mode\":\"markers+text\",\"name\":\"OpenAI, 3\",\"orientation\":\"v\",\"showlegend\":false,\"text\":[\"GPT-3\",\"GPT-4Turbo\",\"GPT-3\",\"GPT-4Turbo\"],\"x\":[2.1,16.652775000000002,2.1,16.652775000000002],\"xaxis\":\"x\",\"y\":[0.1,0.8558,0.1,0.8558],\"yaxis\":\"y\",\"type\":\"scatter\",\"textposition\":[\"bottom center\",\"bottom center\",\"bottom center\",\"bottom center\",\"bottom center\",\"bottom center\",\"bottom center\",\"bottom center\",\"bottom center\",\"bottom center\",\"bottom center\",\"bottom center\",\"bottom center\",\"bottom center\",\"bottom center\",\"bottom center\",\"bottom center\",\"bottom center\",\"bottom center\",\"bottom center\",\"bottom center\",\"bottom center\",\"bottom center\",\"bottom center\",\"bottom center\",\"bottom center\",\"bottom center\",\"bottom center\",\"bottom center\",\"bottom center\",\"bottom center\",\"bottom center\",\"bottom center\",\"bottom center\"]},{\"hovertemplate\":\"Provider=OpenAI\\u003cbr\\u003eMarker=2\\u003cbr\\u003eTest_cost=%{x}\\u003cbr\\u003eTest_acc=%{y}\\u003cbr\\u003eMethod=%{text}\\u003cextra\\u003e\\u003c\\u002fextra\\u003e\",\"legendgroup\":\"OpenAI, 2\",\"marker\":{\"color\":\"#54A24B\",\"symbol\":\"square\",\"size\":15,\"opacity\":0.7},\"mode\":\"markers+text\",\"name\":\"OpenAI, 2\",\"orientation\":\"v\",\"showlegend\":false,\"text\":[\"ChatGPT\",\"             GPT-4o\",\"ChatGPT\",\"             GPT-4o\"],\"x\":[2.221348,5.499465000000001,2.221348,5.499465000000001],\"xaxis\":\"x\",\"y\":[0.1,0.8324,0.1,0.8324],\"yaxis\":\"y\",\"type\":\"scatter\",\"textposition\":[\"bottom center\",\"bottom center\",\"bottom center\",\"bottom center\",\"bottom center\",\"bottom center\",\"bottom center\",\"bottom center\",\"bottom center\",\"bottom center\",\"bottom center\",\"bottom center\",\"bottom center\",\"bottom center\",\"bottom center\",\"bottom center\",\"bottom center\",\"bottom center\",\"bottom center\",\"bottom center\",\"bottom center\",\"bottom center\",\"bottom center\",\"bottom center\",\"bottom center\",\"bottom center\",\"bottom center\",\"bottom center\",\"bottom center\",\"bottom center\",\"bottom center\",\"bottom center\",\"bottom center\",\"bottom center\"]},{\"hovertemplate\":\"Provider=OpenAI\\u003cbr\\u003eMarker=1\\u003cbr\\u003eTest_cost=%{x}\\u003cbr\\u003eTest_acc=%{y}\\u003cbr\\u003eMethod=%{text}\\u003cextra\\u003e\\u003c\\u002fextra\\u003e\",\"legendgroup\":\"OpenAI, 1\",\"marker\":{\"color\":\"#54A24B\",\"symbol\":\"diamond\",\"size\":15,\"opacity\":0.7},\"mode\":\"markers+text\",\"name\":\"OpenAI, 1\",\"orientation\":\"v\",\"showlegend\":false,\"text\":[\"GPT-C\",\"            GPT-4o-mini\",\"GPT-C\",\"            GPT-4o-mini\"],\"x\":[2.280752,0.16567335,2.280752,0.16567335],\"xaxis\":\"x\",\"y\":[0.1,0.8478,0.1,0.8478],\"yaxis\":\"y\",\"type\":\"scatter\",\"textposition\":[\"bottom center\",\"bottom center\",\"bottom center\",\"bottom center\",\"bottom center\",\"bottom center\",\"bottom center\",\"bottom center\",\"bottom center\",\"bottom center\",\"bottom center\",\"bottom center\",\"bottom center\",\"bottom center\",\"bottom center\",\"bottom center\",\"bottom center\",\"bottom center\",\"bottom center\",\"bottom center\",\"bottom center\",\"bottom center\",\"bottom center\",\"bottom center\",\"bottom center\",\"bottom center\",\"bottom center\",\"bottom center\",\"bottom center\",\"bottom center\",\"bottom center\",\"bottom center\",\"bottom center\",\"bottom center\"]},{\"hovertemplate\":\"Provider=OpenAI\\u003cbr\\u003eMarker=4\\u003cbr\\u003eTest_cost=%{x}\\u003cbr\\u003eTest_acc=%{y}\\u003cbr\\u003eMethod=%{text}\\u003cextra\\u003e\\u003c\\u002fextra\\u003e\",\"legendgroup\":\"OpenAI, 4\",\"marker\":{\"color\":\"#54A24B\",\"symbol\":\"star\",\"size\":15,\"opacity\":0.7},\"mode\":\"markers+text\",\"name\":\"OpenAI, 4\",\"orientation\":\"v\",\"showlegend\":false,\"text\":[\"GPT-4\",\"GPT-4\"],\"x\":[20.1,20.1],\"xaxis\":\"x\",\"y\":[0.1,0.1],\"yaxis\":\"y\",\"type\":\"scatter\",\"textposition\":[\"bottom center\",\"bottom center\",\"bottom center\",\"bottom center\",\"bottom center\",\"bottom center\",\"bottom center\",\"bottom center\",\"bottom center\",\"bottom center\",\"bottom center\",\"bottom center\",\"bottom center\",\"bottom center\",\"bottom center\",\"bottom center\",\"bottom center\",\"bottom center\",\"bottom center\",\"bottom center\",\"bottom center\",\"bottom center\",\"bottom center\",\"bottom center\",\"bottom center\",\"bottom center\",\"bottom center\",\"bottom center\",\"bottom center\",\"bottom center\",\"bottom center\",\"bottom center\",\"bottom center\",\"bottom center\"]},{\"hovertemplate\":\"Provider=togetherai\\u003cbr\\u003eMarker=2\\u003cbr\\u003eTest_cost=%{x}\\u003cbr\\u003eTest_acc=%{y}\\u003cbr\\u003eMethod=%{text}\\u003cextra\\u003e\\u003c\\u002fextra\\u003e\",\"legendgroup\":\"togetherai, 2\",\"marker\":{\"color\":\"#EECA3B\",\"symbol\":\"square\",\"size\":15,\"opacity\":0.7},\"mode\":\"markers+text\",\"name\":\"togetherai, 2\",\"orientation\":\"v\",\"showlegend\":false,\"text\":[\"      GM2 (9B)\",\"      GM2 (9B)\"],\"x\":[0.3520268999999999,0.3520268999999999],\"xaxis\":\"x\",\"y\":[0.832,0.832],\"yaxis\":\"y\",\"type\":\"scatter\",\"textposition\":[\"bottom center\",\"bottom center\",\"bottom center\",\"bottom center\",\"bottom center\",\"bottom center\",\"bottom center\",\"bottom center\",\"bottom center\",\"bottom center\",\"bottom center\",\"bottom center\",\"bottom center\",\"bottom center\",\"bottom center\",\"bottom center\",\"bottom center\",\"bottom center\",\"bottom center\",\"bottom center\",\"bottom center\",\"bottom center\",\"bottom center\",\"bottom center\",\"bottom center\",\"bottom center\",\"bottom center\",\"bottom center\",\"bottom center\",\"bottom center\",\"bottom center\",\"bottom center\",\"bottom center\",\"bottom center\"]},{\"hovertemplate\":\"Provider=togetherai\\u003cbr\\u003eMarker=1\\u003cbr\\u003eTest_cost=%{x}\\u003cbr\\u003eTest_acc=%{y}\\u003cbr\\u003eMethod=%{text}\\u003cextra\\u003e\\u003c\\u002fextra\\u003e\",\"legendgroup\":\"togetherai, 1\",\"marker\":{\"color\":\"#EECA3B\",\"symbol\":\"diamond\",\"size\":15,\"opacity\":0.7},\"mode\":\"markers+text\",\"name\":\"togetherai, 1\",\"orientation\":\"v\",\"showlegend\":false,\"text\":[\"              Llama 3 (70B)\",\"              Llama 3 (70B)\"],\"x\":[1.00351,1.00351],\"xaxis\":\"x\",\"y\":[0.8264,0.8264],\"yaxis\":\"y\",\"type\":\"scatter\",\"textposition\":[\"bottom center\",\"bottom center\",\"bottom center\",\"bottom center\",\"bottom center\",\"bottom center\",\"bottom center\",\"bottom center\",\"bottom center\",\"bottom center\",\"bottom center\",\"bottom center\",\"bottom center\",\"bottom center\",\"bottom center\",\"bottom center\",\"bottom center\",\"bottom center\",\"bottom center\",\"bottom center\",\"bottom center\",\"bottom center\",\"bottom center\",\"bottom center\",\"bottom center\",\"bottom center\",\"bottom center\",\"bottom center\",\"bottom center\",\"bottom center\",\"bottom center\",\"bottom center\",\"bottom center\",\"bottom center\"]},{\"line\":{\"color\":\"red\",\"width\":5},\"marker\":{\"color\":\"red\",\"size\":15,\"opacity\":0.7},\"mode\":\"lines+markers\",\"name\":\"FrugalGPT\",\"showlegend\":true,\"x\":[0.175,1.115,2.05,2.99,3.93,4.865,5.805,6.74,7.680000000000001,8.620000000000001,9.555,10.495000000000001,11.435,12.370000000000001,13.309999999999999,14.245,15.185,16.125,17.060000000000002,18.0],\"y\":[0.8478,0.8726,0.878,0.878,0.878,0.878,0.878,0.878,0.878,0.878,0.878,0.878,0.878,0.878,0.878,0.878,0.878,0.878,0.878,0.878],\"type\":\"scatter\"}],                        {\"template\":{\"data\":{\"histogram2dcontour\":[{\"type\":\"histogram2dcontour\",\"colorbar\":{\"outlinewidth\":0,\"ticks\":\"\"},\"colorscale\":[[0.0,\"#0d0887\"],[0.1111111111111111,\"#46039f\"],[0.2222222222222222,\"#7201a8\"],[0.3333333333333333,\"#9c179e\"],[0.4444444444444444,\"#bd3786\"],[0.5555555555555556,\"#d8576b\"],[0.6666666666666666,\"#ed7953\"],[0.7777777777777778,\"#fb9f3a\"],[0.8888888888888888,\"#fdca26\"],[1.0,\"#f0f921\"]]}],\"choropleth\":[{\"type\":\"choropleth\",\"colorbar\":{\"outlinewidth\":0,\"ticks\":\"\"}}],\"histogram2d\":[{\"type\":\"histogram2d\",\"colorbar\":{\"outlinewidth\":0,\"ticks\":\"\"},\"colorscale\":[[0.0,\"#0d0887\"],[0.1111111111111111,\"#46039f\"],[0.2222222222222222,\"#7201a8\"],[0.3333333333333333,\"#9c179e\"],[0.4444444444444444,\"#bd3786\"],[0.5555555555555556,\"#d8576b\"],[0.6666666666666666,\"#ed7953\"],[0.7777777777777778,\"#fb9f3a\"],[0.8888888888888888,\"#fdca26\"],[1.0,\"#f0f921\"]]}],\"heatmap\":[{\"type\":\"heatmap\",\"colorbar\":{\"outlinewidth\":0,\"ticks\":\"\"},\"colorscale\":[[0.0,\"#0d0887\"],[0.1111111111111111,\"#46039f\"],[0.2222222222222222,\"#7201a8\"],[0.3333333333333333,\"#9c179e\"],[0.4444444444444444,\"#bd3786\"],[0.5555555555555556,\"#d8576b\"],[0.6666666666666666,\"#ed7953\"],[0.7777777777777778,\"#fb9f3a\"],[0.8888888888888888,\"#fdca26\"],[1.0,\"#f0f921\"]]}],\"heatmapgl\":[{\"type\":\"heatmapgl\",\"colorbar\":{\"outlinewidth\":0,\"ticks\":\"\"},\"colorscale\":[[0.0,\"#0d0887\"],[0.1111111111111111,\"#46039f\"],[0.2222222222222222,\"#7201a8\"],[0.3333333333333333,\"#9c179e\"],[0.4444444444444444,\"#bd3786\"],[0.5555555555555556,\"#d8576b\"],[0.6666666666666666,\"#ed7953\"],[0.7777777777777778,\"#fb9f3a\"],[0.8888888888888888,\"#fdca26\"],[1.0,\"#f0f921\"]]}],\"contourcarpet\":[{\"type\":\"contourcarpet\",\"colorbar\":{\"outlinewidth\":0,\"ticks\":\"\"}}],\"contour\":[{\"type\":\"contour\",\"colorbar\":{\"outlinewidth\":0,\"ticks\":\"\"},\"colorscale\":[[0.0,\"#0d0887\"],[0.1111111111111111,\"#46039f\"],[0.2222222222222222,\"#7201a8\"],[0.3333333333333333,\"#9c179e\"],[0.4444444444444444,\"#bd3786\"],[0.5555555555555556,\"#d8576b\"],[0.6666666666666666,\"#ed7953\"],[0.7777777777777778,\"#fb9f3a\"],[0.8888888888888888,\"#fdca26\"],[1.0,\"#f0f921\"]]}],\"surface\":[{\"type\":\"surface\",\"colorbar\":{\"outlinewidth\":0,\"ticks\":\"\"},\"colorscale\":[[0.0,\"#0d0887\"],[0.1111111111111111,\"#46039f\"],[0.2222222222222222,\"#7201a8\"],[0.3333333333333333,\"#9c179e\"],[0.4444444444444444,\"#bd3786\"],[0.5555555555555556,\"#d8576b\"],[0.6666666666666666,\"#ed7953\"],[0.7777777777777778,\"#fb9f3a\"],[0.8888888888888888,\"#fdca26\"],[1.0,\"#f0f921\"]]}],\"mesh3d\":[{\"type\":\"mesh3d\",\"colorbar\":{\"outlinewidth\":0,\"ticks\":\"\"}}],\"scatter\":[{\"fillpattern\":{\"fillmode\":\"overlay\",\"size\":10,\"solidity\":0.2},\"type\":\"scatter\"}],\"parcoords\":[{\"type\":\"parcoords\",\"line\":{\"colorbar\":{\"outlinewidth\":0,\"ticks\":\"\"}}}],\"scatterpolargl\":[{\"type\":\"scatterpolargl\",\"marker\":{\"colorbar\":{\"outlinewidth\":0,\"ticks\":\"\"}}}],\"bar\":[{\"error_x\":{\"color\":\"#2a3f5f\"},\"error_y\":{\"color\":\"#2a3f5f\"},\"marker\":{\"line\":{\"color\":\"#E5ECF6\",\"width\":0.5},\"pattern\":{\"fillmode\":\"overlay\",\"size\":10,\"solidity\":0.2}},\"type\":\"bar\"}],\"scattergeo\":[{\"type\":\"scattergeo\",\"marker\":{\"colorbar\":{\"outlinewidth\":0,\"ticks\":\"\"}}}],\"scatterpolar\":[{\"type\":\"scatterpolar\",\"marker\":{\"colorbar\":{\"outlinewidth\":0,\"ticks\":\"\"}}}],\"histogram\":[{\"marker\":{\"pattern\":{\"fillmode\":\"overlay\",\"size\":10,\"solidity\":0.2}},\"type\":\"histogram\"}],\"scattergl\":[{\"type\":\"scattergl\",\"marker\":{\"colorbar\":{\"outlinewidth\":0,\"ticks\":\"\"}}}],\"scatter3d\":[{\"type\":\"scatter3d\",\"line\":{\"colorbar\":{\"outlinewidth\":0,\"ticks\":\"\"}},\"marker\":{\"colorbar\":{\"outlinewidth\":0,\"ticks\":\"\"}}}],\"scattermapbox\":[{\"type\":\"scattermapbox\",\"marker\":{\"colorbar\":{\"outlinewidth\":0,\"ticks\":\"\"}}}],\"scatterternary\":[{\"type\":\"scatterternary\",\"marker\":{\"colorbar\":{\"outlinewidth\":0,\"ticks\":\"\"}}}],\"scattercarpet\":[{\"type\":\"scattercarpet\",\"marker\":{\"colorbar\":{\"outlinewidth\":0,\"ticks\":\"\"}}}],\"carpet\":[{\"aaxis\":{\"endlinecolor\":\"#2a3f5f\",\"gridcolor\":\"white\",\"linecolor\":\"white\",\"minorgridcolor\":\"white\",\"startlinecolor\":\"#2a3f5f\"},\"baxis\":{\"endlinecolor\":\"#2a3f5f\",\"gridcolor\":\"white\",\"linecolor\":\"white\",\"minorgridcolor\":\"white\",\"startlinecolor\":\"#2a3f5f\"},\"type\":\"carpet\"}],\"table\":[{\"cells\":{\"fill\":{\"color\":\"#EBF0F8\"},\"line\":{\"color\":\"white\"}},\"header\":{\"fill\":{\"color\":\"#C8D4E3\"},\"line\":{\"color\":\"white\"}},\"type\":\"table\"}],\"barpolar\":[{\"marker\":{\"line\":{\"color\":\"#E5ECF6\",\"width\":0.5},\"pattern\":{\"fillmode\":\"overlay\",\"size\":10,\"solidity\":0.2}},\"type\":\"barpolar\"}],\"pie\":[{\"automargin\":true,\"type\":\"pie\"}]},\"layout\":{\"autotypenumbers\":\"strict\",\"colorway\":[\"#636efa\",\"#EF553B\",\"#00cc96\",\"#ab63fa\",\"#FFA15A\",\"#19d3f3\",\"#FF6692\",\"#B6E880\",\"#FF97FF\",\"#FECB52\"],\"font\":{\"color\":\"#2a3f5f\"},\"hovermode\":\"closest\",\"hoverlabel\":{\"align\":\"left\"},\"paper_bgcolor\":\"white\",\"plot_bgcolor\":\"#E5ECF6\",\"polar\":{\"bgcolor\":\"#E5ECF6\",\"angularaxis\":{\"gridcolor\":\"white\",\"linecolor\":\"white\",\"ticks\":\"\"},\"radialaxis\":{\"gridcolor\":\"white\",\"linecolor\":\"white\",\"ticks\":\"\"}},\"ternary\":{\"bgcolor\":\"#E5ECF6\",\"aaxis\":{\"gridcolor\":\"white\",\"linecolor\":\"white\",\"ticks\":\"\"},\"baxis\":{\"gridcolor\":\"white\",\"linecolor\":\"white\",\"ticks\":\"\"},\"caxis\":{\"gridcolor\":\"white\",\"linecolor\":\"white\",\"ticks\":\"\"}},\"coloraxis\":{\"colorbar\":{\"outlinewidth\":0,\"ticks\":\"\"}},\"colorscale\":{\"sequential\":[[0.0,\"#0d0887\"],[0.1111111111111111,\"#46039f\"],[0.2222222222222222,\"#7201a8\"],[0.3333333333333333,\"#9c179e\"],[0.4444444444444444,\"#bd3786\"],[0.5555555555555556,\"#d8576b\"],[0.6666666666666666,\"#ed7953\"],[0.7777777777777778,\"#fb9f3a\"],[0.8888888888888888,\"#fdca26\"],[1.0,\"#f0f921\"]],\"sequentialminus\":[[0.0,\"#0d0887\"],[0.1111111111111111,\"#46039f\"],[0.2222222222222222,\"#7201a8\"],[0.3333333333333333,\"#9c179e\"],[0.4444444444444444,\"#bd3786\"],[0.5555555555555556,\"#d8576b\"],[0.6666666666666666,\"#ed7953\"],[0.7777777777777778,\"#fb9f3a\"],[0.8888888888888888,\"#fdca26\"],[1.0,\"#f0f921\"]],\"diverging\":[[0,\"#8e0152\"],[0.1,\"#c51b7d\"],[0.2,\"#de77ae\"],[0.3,\"#f1b6da\"],[0.4,\"#fde0ef\"],[0.5,\"#f7f7f7\"],[0.6,\"#e6f5d0\"],[0.7,\"#b8e186\"],[0.8,\"#7fbc41\"],[0.9,\"#4d9221\"],[1,\"#276419\"]]},\"xaxis\":{\"gridcolor\":\"white\",\"linecolor\":\"white\",\"ticks\":\"\",\"title\":{\"standoff\":15},\"zerolinecolor\":\"white\",\"automargin\":true,\"zerolinewidth\":2},\"yaxis\":{\"gridcolor\":\"white\",\"linecolor\":\"white\",\"ticks\":\"\",\"title\":{\"standoff\":15},\"zerolinecolor\":\"white\",\"automargin\":true,\"zerolinewidth\":2},\"scene\":{\"xaxis\":{\"backgroundcolor\":\"#E5ECF6\",\"gridcolor\":\"white\",\"linecolor\":\"white\",\"showbackground\":true,\"ticks\":\"\",\"zerolinecolor\":\"white\",\"gridwidth\":2},\"yaxis\":{\"backgroundcolor\":\"#E5ECF6\",\"gridcolor\":\"white\",\"linecolor\":\"white\",\"showbackground\":true,\"ticks\":\"\",\"zerolinecolor\":\"white\",\"gridwidth\":2},\"zaxis\":{\"backgroundcolor\":\"#E5ECF6\",\"gridcolor\":\"white\",\"linecolor\":\"white\",\"showbackground\":true,\"ticks\":\"\",\"zerolinecolor\":\"white\",\"gridwidth\":2}},\"shapedefaults\":{\"line\":{\"color\":\"#2a3f5f\"}},\"annotationdefaults\":{\"arrowcolor\":\"#2a3f5f\",\"arrowhead\":0,\"arrowwidth\":1},\"geo\":{\"bgcolor\":\"white\",\"landcolor\":\"#E5ECF6\",\"subunitcolor\":\"white\",\"showland\":true,\"showlakes\":true,\"lakecolor\":\"white\"},\"title\":{\"x\":0.05},\"mapbox\":{\"style\":\"light\"}}},\"xaxis\":{\"anchor\":\"y\",\"domain\":[0.0,1.0],\"title\":{\"text\":\"Cost ($)\"},\"showline\":true,\"linewidth\":2,\"linecolor\":\"black\",\"gridcolor\":\"lightgrey\"},\"yaxis\":{\"anchor\":\"x\",\"domain\":[0.0,1.0],\"title\":{\"text\":\"Accuracy\"},\"showline\":true,\"linewidth\":2,\"linecolor\":\"black\",\"gridcolor\":\"lightgrey\",\"range\":[0.82,0.885]},\"legend\":{\"title\":{\"text\":\"\"},\"tracegroupgap\":0,\"yanchor\":\"top\",\"y\":1.1,\"xanchor\":\"center\",\"x\":0.5,\"traceorder\":\"reversed\"},\"margin\":{\"t\":0,\"l\":0,\"r\":0,\"b\":0},\"height\":400,\"width\":500,\"font\":{\"family\":\"Arial\",\"size\":25},\"plot_bgcolor\":\"white\"},                        {\"responsive\": true}                    ).then(function(){\n",
       "                            \n",
       "var gd = document.getElementById('7c31187a-c234-4d58-94b9-9877ef3a4557');\n",
       "var x = new MutationObserver(function (mutations, observer) {{\n",
       "        var display = window.getComputedStyle(gd).display;\n",
       "        if (!display || display === 'none') {{\n",
       "            console.log([gd, 'removed!']);\n",
       "            Plotly.purge(gd);\n",
       "            observer.disconnect();\n",
       "        }}\n",
       "}});\n",
       "\n",
       "// Listen for the removal of the full notebook cells\n",
       "var notebookContainer = gd.closest('#notebook-container');\n",
       "if (notebookContainer) {{\n",
       "    x.observe(notebookContainer, {childList: true});\n",
       "}}\n",
       "\n",
       "// Listen for the clearing of the current output cell\n",
       "var outputEl = gd.closest('.output');\n",
       "if (outputEl) {{\n",
       "    x.observe(outputEl, {childList: true});\n",
       "}}\n",
       "\n",
       "                        })                };                });            </script>        </div>"
      ]
     },
     "metadata": {},
     "output_type": "display_data"
    }
   ],
   "source": [
    "show_tradeoffs(SingleLLM = ['Meta-Llama-3-70B-Instruct-Turbo',\n",
    "    \"gpt-4o-mini\",\"gpt-4o\",\"gpt-4-turbo\",\"gemma-2-9b-it\",\"CHATGPT\",\"GPT-C\",\"GPT-3\",\"GPT-4\",\"GPT-Neo\",\"GPT-J\",\"GPT-FSQ\",\"CoHere\",\"J1\",\"J1-G\",\"J1-L\",\"FA-Q\"],\n",
    "              savepath=\"../../figures/HEADLINES_2024updatemodel.pdf\",\n",
    "               datapath=\"../../summary/headlines_e8_perf_seed_9_2024updatedmodel.csv\",\n",
    "            datapath_FT='../../summary/headlines_e8_perf_seed_9_2024updatedmodel.csv',\n",
    "               legend=True,\n",
    "              LLM_Name_MAP={\n",
    "                  \"Meta-Llama-3-70B-Instruct-Turbo\":\"              Llama 3 (70B)\",\n",
    "                  \"gemma-2-9b-it\":\"      GM2 (9B)\",\n",
    "                  \"gpt-4o\":\"             GPT-4o\", \n",
    "                  \"gpt-4o-mini\":\"            GPT-4o-mini\",\n",
    "                  \"gpt-4-turbo\":\"GPT-4Turbo\",\n",
    "                  \"GPT-FSQ\":\"FSQ\",\"GPT-C\":\"GPT-C\",\"CoHere\":\" CoHere\",\"CoHere-M\":\"C-M\",\"FA-Q\":\"FQ\",\"FA-C\":\"FC\",\"FT-C\":\"FT\",\"CHATGPT\":\"ChatGPT\",\"J1\":\"   J1\"},\n",
    "              yrange=[0.82,0.885],\n",
    "                     width=500,\n",
    "                   height=400,\n",
    "              )\n",
    "\n"
   ]
  },
  {
   "cell_type": "code",
   "execution_count": 6,
   "metadata": {},
   "outputs": [
    {
     "name": "stderr",
     "output_type": "stream",
     "text": [
      "DEBUG:root:data is     Unnamed: 0  Test_acc   Test_cost  Test_size  Train_acc  Train_cost  \\\n",
      "0          NaN     0.100  110.000000       5000     0.8182    1.946876   \n",
      "1          NaN     0.100    0.804475       5000     0.7248    0.804312   \n",
      "2          NaN     0.100    0.277354       5000     0.7786    0.276954   \n",
      "3          NaN     0.100    2.500000       5000     0.8176   27.501500   \n",
      "4          NaN     0.100    4.800160       5000     0.7804    4.800000   \n",
      "..         ...       ...         ...        ...        ...         ...   \n",
      "37         NaN     0.878    0.000365       5000     0.8908    0.000372   \n",
      "38         NaN     0.878    0.000365       5000     0.8908    0.000372   \n",
      "39         NaN     0.878    0.000365       5000     0.8908    0.000372   \n",
      "40         NaN     0.878    0.000365       5000     0.8908    0.000372   \n",
      "41         NaN     0.878    0.000365       5000     0.8908    0.000372   \n",
      "\n",
      "    Train_size     Budget     Method   Provider  Marker  Group  Test_budget  \n",
      "0         5000  10.000000    GPT-Neo  Textsynth       3  Plain    50000.000  \n",
      "1         5000  10.000000    GPT-FSQ  Textsynth       2  Plain    50000.000  \n",
      "2         5000  10.000000      GPT-J  Textsynth       1  Plain    50000.000  \n",
      "3         5000  10.000000         J1       AI21       3  Plain    50000.000  \n",
      "4         5000  10.000000       J1-G       AI21       2  Plain    50000.000  \n",
      "..         ...        ...        ...        ...     ...    ...          ...  \n",
      "37        5000   0.002849  FrugalGPT  FrugalGPT       1     FT       14.245  \n",
      "38        5000   0.003037  FrugalGPT  FrugalGPT       1     FT       15.185  \n",
      "39        5000   0.003225  FrugalGPT  FrugalGPT       1     FT       16.125  \n",
      "40        5000   0.003412  FrugalGPT  FrugalGPT       1     FT       17.060  \n",
      "41        5000   0.003600  FrugalGPT  FrugalGPT       1     FT       18.000  \n",
      "\n",
      "[84 rows x 13 columns]\n",
      "DEBUG:root:base API is     Unnamed: 0  Test_acc   Test_cost  Test_size  Train_acc  Train_cost  \\\n",
      "0          NaN  0.100000  110.000000       5000   0.818200    1.946876   \n",
      "1          NaN  0.100000    0.804475       5000   0.724800    0.804312   \n",
      "2          NaN  0.100000    0.277354       5000   0.778600    0.276954   \n",
      "3          NaN  0.100000    2.500000       5000   0.817600   27.501500   \n",
      "4          NaN  0.100000    4.800160       5000   0.780400    4.800000   \n",
      "5          NaN  0.100000    1.800420       5000   0.747200    1.800000   \n",
      "7          NaN  0.100000    8.958607       5000   0.782200    8.957645   \n",
      "9          NaN  0.100000    6.672471       5000   0.726600    6.668683   \n",
      "11         NaN  0.100000    2.280752       5000   0.697200    2.279510   \n",
      "12         NaN  0.100000    2.221348       5000   0.811800    2.219794   \n",
      "13         NaN  0.100000   20.100000       5000   0.863800   33.292320   \n",
      "14         NaN  0.100000    2.100000       5000   0.836000   22.793240   \n",
      "17         0.0  0.755780    0.949356       5839   0.739979    0.000163   \n",
      "18         1.0  0.771707   31.563680       5839   0.769955    0.005410   \n",
      "19         2.0  0.778558   94.991565       5839   0.764303    0.016284   \n",
      "20         3.0  0.241137    5.602052       5839   0.239466    0.000960   \n",
      "21         4.0  0.753554    1.859413       5839   0.750257    0.000319   \n",
      "0          NaN  0.100000    1.948636       5000   0.818200    1.946876   \n",
      "1          NaN  0.100000    0.804475       5000   0.724800    0.804312   \n",
      "2          NaN  0.100000    0.277354       5000   0.778600    0.276954   \n",
      "3          NaN  0.100000    2.500000       5000   0.817600   27.501500   \n",
      "4          NaN  0.100000    4.800160       5000   0.780400    4.800000   \n",
      "5          NaN  0.100000    1.800420       5000   0.747200    1.800000   \n",
      "7          NaN  0.100000    8.958607       5000   0.782200    8.957645   \n",
      "9          NaN  0.100000    6.672471       5000   0.726600    6.668683   \n",
      "11         NaN  0.100000    2.280752       5000   0.697200    2.279510   \n",
      "12         NaN  0.100000    2.221348       5000   0.811800    2.219794   \n",
      "13         NaN  0.100000   20.100000       5000   0.863800   33.292320   \n",
      "14         NaN  0.100000    2.100000       5000   0.836000   22.793240   \n",
      "17         NaN  0.826400    1.003510       5000   0.829000    0.000201   \n",
      "18         NaN  0.847800    0.165673       5000   0.850600    0.000033   \n",
      "19         NaN  0.832400    5.499465       5000   0.832800    0.001100   \n",
      "20         NaN  0.855800   16.652775       5000   0.861600    0.003331   \n",
      "21         NaN  0.832000    0.352027       5000   0.833600    0.000070   \n",
      "\n",
      "    Train_size  Budget                                             Method  \\\n",
      "0         5000    10.0                                            GPT-Neo   \n",
      "1         5000    10.0                                                FSQ   \n",
      "2         5000    10.0                                              GPT-J   \n",
      "3         5000    10.0                                                 J1   \n",
      "4         5000    10.0                                               J1-G   \n",
      "5         5000    10.0                                               J1-L   \n",
      "7         5000    10.0                                             CoHere   \n",
      "9         5000    10.0                                                 FQ   \n",
      "11        5000    10.0                                              GPT-C   \n",
      "12        5000    10.0                                            ChatGPT   \n",
      "13        5000    10.0                                              GPT-4   \n",
      "14        5000    10.0                                              GPT-3   \n",
      "17        5838    10.0                                            GPT-...   \n",
      "18        5838    10.0                                             GPT-4o   \n",
      "19        5838    10.0                                         GPT-4Turbo   \n",
      "20        5838    10.0                                      Llama 3 (70B)   \n",
      "21        5838    10.0                                           GM2 (9B)   \n",
      "0         5000    10.0                                            GPT-Neo   \n",
      "1         5000    10.0                                                FSQ   \n",
      "2         5000    10.0                                              GPT-J   \n",
      "3         5000    10.0                                                 J1   \n",
      "4         5000    10.0                                               J1-G   \n",
      "5         5000    10.0                                               J1-L   \n",
      "7         5000    10.0                                             CoHere   \n",
      "9         5000    10.0                                                 FQ   \n",
      "11        5000    10.0                                              GPT-C   \n",
      "12        5000    10.0                                            ChatGPT   \n",
      "13        5000    10.0                                              GPT-4   \n",
      "14        5000    10.0                                              GPT-3   \n",
      "17        5000    10.0                                      Llama 3 (70B)   \n",
      "18        5000    10.0                                            GPT-...   \n",
      "19        5000    10.0                                             GPT-4o   \n",
      "20        5000    10.0                                         GPT-4Turbo   \n",
      "21        5000    10.0                                           GM2 (9B)   \n",
      "\n",
      "      Provider  Marker  Group  Test_budget  \n",
      "0    Textsynth       3  Plain      50000.0  \n",
      "1    Textsynth       2  Plain      50000.0  \n",
      "2    Textsynth       1  Plain      50000.0  \n",
      "3         AI21       3  Plain      50000.0  \n",
      "4         AI21       2  Plain      50000.0  \n",
      "5         AI21       1  Plain      50000.0  \n",
      "7       CoHere       2  Plain      50000.0  \n",
      "9           FA       1  Plain      50000.0  \n",
      "11      OpenAI       1  Plain      50000.0  \n",
      "12      OpenAI       2  Plain      50000.0  \n",
      "13      OpenAI       4  Plain      50000.0  \n",
      "14      OpenAI       3  Plain      50000.0  \n",
      "17      OpenAI       1  Plain      58390.0  \n",
      "18      OpenAI       2  Plain      58390.0  \n",
      "19      OpenAI       3  Plain      58390.0  \n",
      "20  togetherai       1  Plain      58390.0  \n",
      "21  togetherai       2  Plain      58390.0  \n",
      "0    Textsynth       3     FT      50000.0  \n",
      "1    Textsynth       2     FT      50000.0  \n",
      "2    Textsynth       1     FT      50000.0  \n",
      "3         AI21       3     FT      50000.0  \n",
      "4         AI21       2     FT      50000.0  \n",
      "5         AI21       1     FT      50000.0  \n",
      "7       CoHere       2     FT      50000.0  \n",
      "9           FA       1     FT      50000.0  \n",
      "11      OpenAI       1     FT      50000.0  \n",
      "12      OpenAI       2     FT      50000.0  \n",
      "13      OpenAI       4     FT      50000.0  \n",
      "14      OpenAI       3     FT      50000.0  \n",
      "17  togetherai       1     FT      50000.0  \n",
      "18      OpenAI       1     FT      50000.0  \n",
      "19      OpenAI       2     FT      50000.0  \n",
      "20      OpenAI       3     FT      50000.0  \n",
      "21  togetherai       2     FT      50000.0  \n",
      "DEBUG:root:trace is Scatter({\n",
      "    'hovertemplate': ('Provider=Textsynth<br>Marker=3' ... '>Method=%{text}<extra></extra>'),\n",
      "    'legendgroup': 'Textsynth, 3',\n",
      "    'marker': {'color': '#4C78A8', 'size': 10, 'symbol': 'circle'},\n",
      "    'mode': 'markers+text',\n",
      "    'name': 'Textsynth, 3',\n",
      "    'orientation': 'v',\n",
      "    'showlegend': True,\n",
      "    'text': array(['GPT-Neo', 'GPT-Neo'], dtype=object),\n",
      "    'textposition': [bottom center, bottom center, bottom center, bottom center,\n",
      "                     bottom center, bottom center, bottom center, bottom center,\n",
      "                     bottom center, bottom center, bottom center, bottom center,\n",
      "                     bottom center, bottom center, bottom center, bottom center,\n",
      "                     bottom center, bottom center, bottom center, bottom center,\n",
      "                     bottom center, bottom center, bottom center, bottom center,\n",
      "                     bottom center, bottom center, bottom center, bottom center,\n",
      "                     bottom center, bottom center, bottom center, bottom center,\n",
      "                     bottom center, bottom center],\n",
      "    'x': array([110.       ,   1.9486362]),\n",
      "    'xaxis': 'x',\n",
      "    'y': array([0.1, 0.1]),\n",
      "    'yaxis': 'y'\n",
      "})\n",
      "DEBUG:root:trace is Scatter({\n",
      "    'hovertemplate': ('Provider=Textsynth<br>Marker=2' ... '>Method=%{text}<extra></extra>'),\n",
      "    'legendgroup': 'Textsynth, 2',\n",
      "    'marker': {'color': '#4C78A8', 'size': 10, 'symbol': 'square'},\n",
      "    'mode': 'markers+text',\n",
      "    'name': 'Textsynth, 2',\n",
      "    'orientation': 'v',\n",
      "    'showlegend': True,\n",
      "    'text': array(['FSQ', 'FSQ'], dtype=object),\n",
      "    'textposition': [bottom center, bottom center, bottom center, bottom center,\n",
      "                     bottom center, bottom center, bottom center, bottom center,\n",
      "                     bottom center, bottom center, bottom center, bottom center,\n",
      "                     bottom center, bottom center, bottom center, bottom center,\n",
      "                     bottom center, bottom center, bottom center, bottom center,\n",
      "                     bottom center, bottom center, bottom center, bottom center,\n",
      "                     bottom center, bottom center, bottom center, bottom center,\n",
      "                     bottom center, bottom center, bottom center, bottom center,\n",
      "                     bottom center, bottom center],\n",
      "    'x': array([0.8044752, 0.8044752]),\n",
      "    'xaxis': 'x',\n",
      "    'y': array([0.1, 0.1]),\n",
      "    'yaxis': 'y'\n",
      "})\n",
      "DEBUG:root:trace is Scatter({\n",
      "    'hovertemplate': ('Provider=Textsynth<br>Marker=1' ... '>Method=%{text}<extra></extra>'),\n",
      "    'legendgroup': 'Textsynth, 1',\n",
      "    'marker': {'color': '#4C78A8', 'size': 10, 'symbol': 'diamond'},\n",
      "    'mode': 'markers+text',\n",
      "    'name': 'Textsynth, 1',\n",
      "    'orientation': 'v',\n",
      "    'showlegend': True,\n",
      "    'text': array(['GPT-J', 'GPT-J'], dtype=object),\n",
      "    'textposition': [bottom center, bottom center, bottom center, bottom center,\n",
      "                     bottom center, bottom center, bottom center, bottom center,\n",
      "                     bottom center, bottom center, bottom center, bottom center,\n",
      "                     bottom center, bottom center, bottom center, bottom center,\n",
      "                     bottom center, bottom center, bottom center, bottom center,\n",
      "                     bottom center, bottom center, bottom center, bottom center,\n",
      "                     bottom center, bottom center, bottom center, bottom center,\n",
      "                     bottom center, bottom center, bottom center, bottom center,\n",
      "                     bottom center, bottom center],\n",
      "    'x': array([0.2773536, 0.2773536]),\n",
      "    'xaxis': 'x',\n",
      "    'y': array([0.1, 0.1]),\n",
      "    'yaxis': 'y'\n",
      "})\n",
      "DEBUG:root:trace is Scatter({\n",
      "    'hovertemplate': ('Provider=AI21<br>Marker=3<br>T' ... '>Method=%{text}<extra></extra>'),\n",
      "    'legendgroup': 'AI21, 3',\n",
      "    'marker': {'color': '#F58518', 'size': 10, 'symbol': 'circle'},\n",
      "    'mode': 'markers+text',\n",
      "    'name': 'AI21, 3',\n",
      "    'orientation': 'v',\n",
      "    'showlegend': True,\n",
      "    'text': array(['   J1', '   J1'], dtype=object),\n",
      "    'textposition': [bottom center, bottom center, bottom center, bottom center,\n",
      "                     bottom center, bottom center, bottom center, bottom center,\n",
      "                     bottom center, bottom center, bottom center, bottom center,\n",
      "                     bottom center, bottom center, bottom center, bottom center,\n",
      "                     bottom center, bottom center, bottom center, bottom center,\n",
      "                     bottom center, bottom center, bottom center, bottom center,\n",
      "                     bottom center, bottom center, bottom center, bottom center,\n",
      "                     bottom center, bottom center, bottom center, bottom center,\n",
      "                     bottom center, bottom center],\n",
      "    'x': array([2.5, 2.5]),\n",
      "    'xaxis': 'x',\n",
      "    'y': array([0.1, 0.1]),\n",
      "    'yaxis': 'y'\n",
      "})\n",
      "DEBUG:root:trace is Scatter({\n",
      "    'hovertemplate': ('Provider=AI21<br>Marker=2<br>T' ... '>Method=%{text}<extra></extra>'),\n",
      "    'legendgroup': 'AI21, 2',\n",
      "    'marker': {'color': '#F58518', 'size': 10, 'symbol': 'square'},\n",
      "    'mode': 'markers+text',\n",
      "    'name': 'AI21, 2',\n",
      "    'orientation': 'v',\n",
      "    'showlegend': True,\n",
      "    'text': array(['J1-G', 'J1-G'], dtype=object),\n",
      "    'textposition': [bottom center, bottom center, bottom center, bottom center,\n",
      "                     bottom center, bottom center, bottom center, bottom center,\n",
      "                     bottom center, bottom center, bottom center, bottom center,\n",
      "                     bottom center, bottom center, bottom center, bottom center,\n",
      "                     bottom center, bottom center, bottom center, bottom center,\n",
      "                     bottom center, bottom center, bottom center, bottom center,\n",
      "                     bottom center, bottom center, bottom center, bottom center,\n",
      "                     bottom center, bottom center, bottom center, bottom center,\n",
      "                     bottom center, bottom center],\n",
      "    'x': array([4.80016, 4.80016]),\n",
      "    'xaxis': 'x',\n",
      "    'y': array([0.1, 0.1]),\n",
      "    'yaxis': 'y'\n",
      "})\n",
      "DEBUG:root:trace is Scatter({\n",
      "    'hovertemplate': ('Provider=AI21<br>Marker=1<br>T' ... '>Method=%{text}<extra></extra>'),\n",
      "    'legendgroup': 'AI21, 1',\n",
      "    'marker': {'color': '#F58518', 'size': 10, 'symbol': 'diamond'},\n",
      "    'mode': 'markers+text',\n",
      "    'name': 'AI21, 1',\n",
      "    'orientation': 'v',\n",
      "    'showlegend': True,\n",
      "    'text': array(['J1-L', 'J1-L'], dtype=object),\n",
      "    'textposition': [bottom center, bottom center, bottom center, bottom center,\n",
      "                     bottom center, bottom center, bottom center, bottom center,\n",
      "                     bottom center, bottom center, bottom center, bottom center,\n",
      "                     bottom center, bottom center, bottom center, bottom center,\n",
      "                     bottom center, bottom center, bottom center, bottom center,\n",
      "                     bottom center, bottom center, bottom center, bottom center,\n",
      "                     bottom center, bottom center, bottom center, bottom center,\n",
      "                     bottom center, bottom center, bottom center, bottom center,\n",
      "                     bottom center, bottom center],\n",
      "    'x': array([1.80042, 1.80042]),\n",
      "    'xaxis': 'x',\n",
      "    'y': array([0.1, 0.1]),\n",
      "    'yaxis': 'y'\n",
      "})\n",
      "DEBUG:root:trace is Scatter({\n",
      "    'hovertemplate': ('Provider= CoHere<br>Marker=2<b' ... '>Method=%{text}<extra></extra>'),\n",
      "    'legendgroup': ' CoHere, 2',\n",
      "    'marker': {'color': '#E45756', 'size': 10, 'symbol': 'square'},\n",
      "    'mode': 'markers+text',\n",
      "    'name': ' CoHere, 2',\n",
      "    'orientation': 'v',\n",
      "    'showlegend': True,\n",
      "    'text': array([' CoHere', ' CoHere'], dtype=object),\n",
      "    'textposition': [bottom center, bottom center, bottom center, bottom center,\n",
      "                     bottom center, bottom center, bottom center, bottom center,\n",
      "                     bottom center, bottom center, bottom center, bottom center,\n",
      "                     bottom center, bottom center, bottom center, bottom center,\n",
      "                     bottom center, bottom center, bottom center, bottom center,\n",
      "                     bottom center, bottom center, bottom center, bottom center,\n",
      "                     bottom center, bottom center, bottom center, bottom center,\n",
      "                     bottom center, bottom center, bottom center, bottom center,\n",
      "                     bottom center, bottom center],\n",
      "    'x': array([8.9586075, 8.9586075]),\n",
      "    'xaxis': 'x',\n",
      "    'y': array([0.1, 0.1]),\n",
      "    'yaxis': 'y'\n",
      "})\n",
      "DEBUG:root:trace is Scatter({\n",
      "    'hovertemplate': ('Provider=FA<br>Marker=1<br>Tes' ... '>Method=%{text}<extra></extra>'),\n",
      "    'legendgroup': 'FA, 1',\n",
      "    'marker': {'color': '#72B7B2', 'size': 10, 'symbol': 'diamond'},\n",
      "    'mode': 'markers+text',\n",
      "    'name': 'FA, 1',\n",
      "    'orientation': 'v',\n",
      "    'showlegend': True,\n",
      "    'text': array(['FQ', 'FQ'], dtype=object),\n",
      "    'textposition': [bottom center, bottom center, bottom center, bottom center,\n",
      "                     bottom center, bottom center, bottom center, bottom center,\n",
      "                     bottom center, bottom center, bottom center, bottom center,\n",
      "                     bottom center, bottom center, bottom center, bottom center,\n",
      "                     bottom center, bottom center, bottom center, bottom center,\n",
      "                     bottom center, bottom center, bottom center, bottom center,\n",
      "                     bottom center, bottom center, bottom center, bottom center,\n",
      "                     bottom center, bottom center, bottom center, bottom center,\n",
      "                     bottom center, bottom center],\n",
      "    'x': array([6.6724708, 6.6724708]),\n",
      "    'xaxis': 'x',\n",
      "    'y': array([0.1, 0.1]),\n",
      "    'yaxis': 'y'\n",
      "})\n",
      "DEBUG:root:trace is Scatter({\n",
      "    'hovertemplate': ('Provider=OpenAI<br>Marker=3<br' ... '>Method=%{text}<extra></extra>'),\n",
      "    'legendgroup': 'OpenAI, 3',\n",
      "    'marker': {'color': '#54A24B', 'size': 10, 'symbol': 'circle'},\n",
      "    'mode': 'markers+text',\n",
      "    'name': 'OpenAI, 3',\n",
      "    'orientation': 'v',\n",
      "    'showlegend': True,\n",
      "    'text': array(['GPT-3', 'GPT-4Turbo', 'GPT-3', 'GPT-4Turbo'], dtype=object),\n",
      "    'textposition': [bottom center, bottom center, bottom center, bottom center,\n",
      "                     bottom center, bottom center, bottom center, bottom center,\n",
      "                     bottom center, bottom center, bottom center, bottom center,\n",
      "                     bottom center, bottom center, bottom center, bottom center,\n",
      "                     bottom center, bottom center, bottom center, bottom center,\n",
      "                     bottom center, bottom center, bottom center, bottom center,\n",
      "                     bottom center, bottom center, bottom center, bottom center,\n",
      "                     bottom center, bottom center, bottom center, bottom center,\n",
      "                     bottom center, bottom center],\n",
      "    'x': array([ 2.1     , 94.991565,  2.1     , 16.652775]),\n",
      "    'xaxis': 'x',\n",
      "    'y': array([0.1       , 0.77855797, 0.1       , 0.8558    ]),\n",
      "    'yaxis': 'y'\n",
      "})\n",
      "DEBUG:root:trace is Scatter({\n",
      "    'hovertemplate': ('Provider=OpenAI<br>Marker=2<br' ... '>Method=%{text}<extra></extra>'),\n",
      "    'legendgroup': 'OpenAI, 2',\n",
      "    'marker': {'color': '#54A24B', 'size': 10, 'symbol': 'square'},\n",
      "    'mode': 'markers+text',\n",
      "    'name': 'OpenAI, 2',\n",
      "    'orientation': 'v',\n",
      "    'showlegend': True,\n",
      "    'text': array(['ChatGPT', '             GPT-4o', 'ChatGPT', '             GPT-4o'],\n",
      "                  dtype=object),\n",
      "    'textposition': [bottom center, bottom center, bottom center, bottom center,\n",
      "                     bottom center, bottom center, bottom center, bottom center,\n",
      "                     bottom center, bottom center, bottom center, bottom center,\n",
      "                     bottom center, bottom center, bottom center, bottom center,\n",
      "                     bottom center, bottom center, bottom center, bottom center,\n",
      "                     bottom center, bottom center, bottom center, bottom center,\n",
      "                     bottom center, bottom center, bottom center, bottom center,\n",
      "                     bottom center, bottom center, bottom center, bottom center,\n",
      "                     bottom center, bottom center],\n",
      "    'x': array([ 2.221348, 31.56368 ,  2.221348,  5.499465]),\n",
      "    'xaxis': 'x',\n",
      "    'y': array([0.1       , 0.77170748, 0.1       , 0.8324    ]),\n",
      "    'yaxis': 'y'\n",
      "})\n",
      "DEBUG:root:trace is Scatter({\n",
      "    'hovertemplate': ('Provider=OpenAI<br>Marker=1<br' ... '>Method=%{text}<extra></extra>'),\n",
      "    'legendgroup': 'OpenAI, 1',\n",
      "    'marker': {'color': '#54A24B', 'size': 10, 'symbol': 'diamond'},\n",
      "    'mode': 'markers+text',\n",
      "    'name': 'OpenAI, 1',\n",
      "    'orientation': 'v',\n",
      "    'showlegend': True,\n",
      "    'text': array(['GPT-C', '                                          GPT-4o-mini',\n",
      "                   'GPT-C', '                                          GPT-4o-mini'],\n",
      "                  dtype=object),\n",
      "    'textposition': [bottom center, bottom center, bottom center, bottom center,\n",
      "                     bottom center, bottom center, bottom center, bottom center,\n",
      "                     bottom center, bottom center, bottom center, bottom center,\n",
      "                     bottom center, bottom center, bottom center, bottom center,\n",
      "                     bottom center, bottom center, bottom center, bottom center,\n",
      "                     bottom center, bottom center, bottom center, bottom center,\n",
      "                     bottom center, bottom center, bottom center, bottom center,\n",
      "                     bottom center, bottom center, bottom center, bottom center,\n",
      "                     bottom center, bottom center],\n",
      "    'x': array([2.280752  , 0.9493557 , 2.280752  , 0.16567335]),\n",
      "    'xaxis': 'x',\n",
      "    'y': array([0.1      , 0.7557801, 0.1      , 0.8478   ]),\n",
      "    'yaxis': 'y'\n",
      "})\n",
      "DEBUG:root:trace is Scatter({\n",
      "    'hovertemplate': ('Provider=OpenAI<br>Marker=4<br' ... '>Method=%{text}<extra></extra>'),\n",
      "    'legendgroup': 'OpenAI, 4',\n",
      "    'marker': {'color': '#54A24B', 'size': 10, 'symbol': 'star'},\n",
      "    'mode': 'markers+text',\n",
      "    'name': 'OpenAI, 4',\n",
      "    'orientation': 'v',\n",
      "    'showlegend': True,\n",
      "    'text': array(['GPT-4', 'GPT-4'], dtype=object),\n",
      "    'textposition': [bottom center, bottom center, bottom center, bottom center,\n",
      "                     bottom center, bottom center, bottom center, bottom center,\n",
      "                     bottom center, bottom center, bottom center, bottom center,\n",
      "                     bottom center, bottom center, bottom center, bottom center,\n",
      "                     bottom center, bottom center, bottom center, bottom center,\n",
      "                     bottom center, bottom center, bottom center, bottom center,\n",
      "                     bottom center, bottom center, bottom center, bottom center,\n",
      "                     bottom center, bottom center, bottom center, bottom center,\n",
      "                     bottom center, bottom center],\n",
      "    'x': array([20.1, 20.1]),\n",
      "    'xaxis': 'x',\n",
      "    'y': array([0.1, 0.1]),\n",
      "    'yaxis': 'y'\n",
      "})\n",
      "DEBUG:root:trace is Scatter({\n",
      "    'hovertemplate': ('Provider=togetherai<br>Marker=' ... '>Method=%{text}<extra></extra>'),\n",
      "    'legendgroup': 'togetherai, 2',\n",
      "    'marker': {'color': '#EECA3B', 'size': 10, 'symbol': 'square'},\n",
      "    'mode': 'markers+text',\n",
      "    'name': 'togetherai, 2',\n",
      "    'orientation': 'v',\n",
      "    'showlegend': True,\n",
      "    'text': array(['      GM2 (9B)', '      GM2 (9B)'], dtype=object),\n",
      "    'textposition': [bottom center, bottom center, bottom center, bottom center,\n",
      "                     bottom center, bottom center, bottom center, bottom center,\n",
      "                     bottom center, bottom center, bottom center, bottom center,\n",
      "                     bottom center, bottom center, bottom center, bottom center,\n",
      "                     bottom center, bottom center, bottom center, bottom center,\n",
      "                     bottom center, bottom center, bottom center, bottom center,\n",
      "                     bottom center, bottom center, bottom center, bottom center,\n",
      "                     bottom center, bottom center, bottom center, bottom center,\n",
      "                     bottom center, bottom center],\n",
      "    'x': array([1.8594132, 0.3520269]),\n",
      "    'xaxis': 'x',\n",
      "    'y': array([0.75355369, 0.832     ]),\n",
      "    'yaxis': 'y'\n",
      "})\n",
      "DEBUG:root:trace is Scatter({\n",
      "    'hovertemplate': ('Provider=togetherai<br>Marker=' ... '>Method=%{text}<extra></extra>'),\n",
      "    'legendgroup': 'togetherai, 1',\n",
      "    'marker': {'color': '#EECA3B', 'size': 10, 'symbol': 'diamond'},\n",
      "    'mode': 'markers+text',\n",
      "    'name': 'togetherai, 1',\n",
      "    'orientation': 'v',\n",
      "    'showlegend': True,\n",
      "    'text': array(['              Llama 3 (70B)', '              Llama 3 (70B)'],\n",
      "                  dtype=object),\n",
      "    'textposition': [bottom center, bottom center, bottom center, bottom center,\n",
      "                     bottom center, bottom center, bottom center, bottom center,\n",
      "                     bottom center, bottom center, bottom center, bottom center,\n",
      "                     bottom center, bottom center, bottom center, bottom center,\n",
      "                     bottom center, bottom center, bottom center, bottom center,\n",
      "                     bottom center, bottom center, bottom center, bottom center,\n",
      "                     bottom center, bottom center, bottom center, bottom center,\n",
      "                     bottom center, bottom center, bottom center, bottom center,\n",
      "                     bottom center, bottom center],\n",
      "    'x': array([5.60205184, 1.00351   ]),\n",
      "    'xaxis': 'x',\n",
      "    'y': array([0.24113718, 0.8264    ]),\n",
      "    'yaxis': 'y'\n",
      "})\n",
      "DEBUG:root:trace is Scatter({\n",
      "    'line': {'color': 'red', 'width': 5},\n",
      "    'marker': {'color': 'red', 'size': 15},\n",
      "    'mode': 'lines+markers',\n",
      "    'name': 'FrugalGPT',\n",
      "    'showlegend': True,\n",
      "    'x': array([ 0.99263   ,  6.16475197, 11.33687978, 16.50900175, 21.68112956,\n",
      "                26.85325153, 32.02537934, 37.19750131, 42.36962912, 47.5417511 ,\n",
      "                52.7138789 , 57.88600088, 63.05812684, 68.23025158, 73.40237632,\n",
      "                78.57450105, 83.74662579, 88.91875022, 94.09087803, 99.263     ]),\n",
      "    'y': array([0.7557801 , 0.78455215, 0.78455215, 0.78506594, 0.78506594, 0.78506594,\n",
      "                0.78506594, 0.78506594, 0.78506594, 0.78712108, 0.78712108, 0.78712108,\n",
      "                0.78712108, 0.78712108, 0.78712108, 0.78712108, 0.78712108, 0.78712108,\n",
      "                0.78712108, 0.78712108])\n",
      "})\n"
     ]
    },
    {
     "data": {
      "application/vnd.plotly.v1+json": {
       "config": {
        "plotlyServerURL": "https://plot.ly"
       },
       "data": [
        {
         "hovertemplate": "Provider=Textsynth<br>Marker=3<br>Test_cost=%{x}<br>Test_acc=%{y}<br>Method=%{text}<extra></extra>",
         "legendgroup": "Textsynth, 3",
         "marker": {
          "color": "#4C78A8",
          "opacity": 0.7,
          "size": 15,
          "symbol": "circle"
         },
         "mode": "markers+text",
         "name": "Textsynth, 3",
         "orientation": "v",
         "showlegend": false,
         "text": [
          "GPT-Neo",
          "GPT-Neo"
         ],
         "textposition": [
          "bottom center",
          "bottom center",
          "bottom center",
          "bottom center",
          "bottom center",
          "bottom center",
          "bottom center",
          "bottom center",
          "bottom center",
          "bottom center",
          "bottom center",
          "bottom center",
          "bottom center",
          "bottom center",
          "bottom center",
          "bottom center",
          "bottom center",
          "bottom center",
          "bottom center",
          "bottom center",
          "bottom center",
          "bottom center",
          "bottom center",
          "bottom center",
          "bottom center",
          "bottom center",
          "bottom center",
          "bottom center",
          "bottom center",
          "bottom center",
          "bottom center",
          "bottom center",
          "bottom center",
          "bottom center"
         ],
         "type": "scatter",
         "x": [
          110,
          1.9486362
         ],
         "xaxis": "x",
         "y": [
          0.1,
          0.1
         ],
         "yaxis": "y"
        },
        {
         "hovertemplate": "Provider=Textsynth<br>Marker=2<br>Test_cost=%{x}<br>Test_acc=%{y}<br>Method=%{text}<extra></extra>",
         "legendgroup": "Textsynth, 2",
         "marker": {
          "color": "#4C78A8",
          "opacity": 0.7,
          "size": 15,
          "symbol": "square"
         },
         "mode": "markers+text",
         "name": "Textsynth, 2",
         "orientation": "v",
         "showlegend": false,
         "text": [
          "FSQ",
          "FSQ"
         ],
         "textposition": [
          "bottom center",
          "bottom center",
          "bottom center",
          "bottom center",
          "bottom center",
          "bottom center",
          "bottom center",
          "bottom center",
          "bottom center",
          "bottom center",
          "bottom center",
          "bottom center",
          "bottom center",
          "bottom center",
          "bottom center",
          "bottom center",
          "bottom center",
          "bottom center",
          "bottom center",
          "bottom center",
          "bottom center",
          "bottom center",
          "bottom center",
          "bottom center",
          "bottom center",
          "bottom center",
          "bottom center",
          "bottom center",
          "bottom center",
          "bottom center",
          "bottom center",
          "bottom center",
          "bottom center",
          "bottom center"
         ],
         "type": "scatter",
         "x": [
          0.8044752,
          0.8044752
         ],
         "xaxis": "x",
         "y": [
          0.1,
          0.1
         ],
         "yaxis": "y"
        },
        {
         "hovertemplate": "Provider=Textsynth<br>Marker=1<br>Test_cost=%{x}<br>Test_acc=%{y}<br>Method=%{text}<extra></extra>",
         "legendgroup": "Textsynth, 1",
         "marker": {
          "color": "#4C78A8",
          "opacity": 0.7,
          "size": 15,
          "symbol": "diamond"
         },
         "mode": "markers+text",
         "name": "Textsynth, 1",
         "orientation": "v",
         "showlegend": false,
         "text": [
          "GPT-J",
          "GPT-J"
         ],
         "textposition": [
          "bottom center",
          "bottom center",
          "bottom center",
          "bottom center",
          "bottom center",
          "bottom center",
          "bottom center",
          "bottom center",
          "bottom center",
          "bottom center",
          "bottom center",
          "bottom center",
          "bottom center",
          "bottom center",
          "bottom center",
          "bottom center",
          "bottom center",
          "bottom center",
          "bottom center",
          "bottom center",
          "bottom center",
          "bottom center",
          "bottom center",
          "bottom center",
          "bottom center",
          "bottom center",
          "bottom center",
          "bottom center",
          "bottom center",
          "bottom center",
          "bottom center",
          "bottom center",
          "bottom center",
          "bottom center"
         ],
         "type": "scatter",
         "x": [
          0.2773536,
          0.2773536
         ],
         "xaxis": "x",
         "y": [
          0.1,
          0.1
         ],
         "yaxis": "y"
        },
        {
         "hovertemplate": "Provider=AI21<br>Marker=3<br>Test_cost=%{x}<br>Test_acc=%{y}<br>Method=%{text}<extra></extra>",
         "legendgroup": "AI21, 3",
         "marker": {
          "color": "#F58518",
          "opacity": 0.7,
          "size": 15,
          "symbol": "circle"
         },
         "mode": "markers+text",
         "name": "AI21, 3",
         "orientation": "v",
         "showlegend": false,
         "text": [
          "   J1",
          "   J1"
         ],
         "textposition": [
          "bottom center",
          "bottom center",
          "bottom center",
          "bottom center",
          "bottom center",
          "bottom center",
          "bottom center",
          "bottom center",
          "bottom center",
          "bottom center",
          "bottom center",
          "bottom center",
          "bottom center",
          "bottom center",
          "bottom center",
          "bottom center",
          "bottom center",
          "bottom center",
          "bottom center",
          "bottom center",
          "bottom center",
          "bottom center",
          "bottom center",
          "bottom center",
          "bottom center",
          "bottom center",
          "bottom center",
          "bottom center",
          "bottom center",
          "bottom center",
          "bottom center",
          "bottom center",
          "bottom center",
          "bottom center"
         ],
         "type": "scatter",
         "x": [
          2.5,
          2.5
         ],
         "xaxis": "x",
         "y": [
          0.1,
          0.1
         ],
         "yaxis": "y"
        },
        {
         "hovertemplate": "Provider=AI21<br>Marker=2<br>Test_cost=%{x}<br>Test_acc=%{y}<br>Method=%{text}<extra></extra>",
         "legendgroup": "AI21, 2",
         "marker": {
          "color": "#F58518",
          "opacity": 0.7,
          "size": 15,
          "symbol": "square"
         },
         "mode": "markers+text",
         "name": "AI21, 2",
         "orientation": "v",
         "showlegend": false,
         "text": [
          "J1-G",
          "J1-G"
         ],
         "textposition": [
          "bottom center",
          "bottom center",
          "bottom center",
          "bottom center",
          "bottom center",
          "bottom center",
          "bottom center",
          "bottom center",
          "bottom center",
          "bottom center",
          "bottom center",
          "bottom center",
          "bottom center",
          "bottom center",
          "bottom center",
          "bottom center",
          "bottom center",
          "bottom center",
          "bottom center",
          "bottom center",
          "bottom center",
          "bottom center",
          "bottom center",
          "bottom center",
          "bottom center",
          "bottom center",
          "bottom center",
          "bottom center",
          "bottom center",
          "bottom center",
          "bottom center",
          "bottom center",
          "bottom center",
          "bottom center"
         ],
         "type": "scatter",
         "x": [
          4.80016,
          4.80016
         ],
         "xaxis": "x",
         "y": [
          0.1,
          0.1
         ],
         "yaxis": "y"
        },
        {
         "hovertemplate": "Provider=AI21<br>Marker=1<br>Test_cost=%{x}<br>Test_acc=%{y}<br>Method=%{text}<extra></extra>",
         "legendgroup": "AI21, 1",
         "marker": {
          "color": "#F58518",
          "opacity": 0.7,
          "size": 15,
          "symbol": "diamond"
         },
         "mode": "markers+text",
         "name": "AI21, 1",
         "orientation": "v",
         "showlegend": false,
         "text": [
          "J1-L",
          "J1-L"
         ],
         "textposition": [
          "bottom center",
          "bottom center",
          "bottom center",
          "bottom center",
          "bottom center",
          "bottom center",
          "bottom center",
          "bottom center",
          "bottom center",
          "bottom center",
          "bottom center",
          "bottom center",
          "bottom center",
          "bottom center",
          "bottom center",
          "bottom center",
          "bottom center",
          "bottom center",
          "bottom center",
          "bottom center",
          "bottom center",
          "bottom center",
          "bottom center",
          "bottom center",
          "bottom center",
          "bottom center",
          "bottom center",
          "bottom center",
          "bottom center",
          "bottom center",
          "bottom center",
          "bottom center",
          "bottom center",
          "bottom center"
         ],
         "type": "scatter",
         "x": [
          1.80042,
          1.80042
         ],
         "xaxis": "x",
         "y": [
          0.1,
          0.1
         ],
         "yaxis": "y"
        },
        {
         "hovertemplate": "Provider= CoHere<br>Marker=2<br>Test_cost=%{x}<br>Test_acc=%{y}<br>Method=%{text}<extra></extra>",
         "legendgroup": " CoHere, 2",
         "marker": {
          "color": "#E45756",
          "opacity": 0.7,
          "size": 15,
          "symbol": "square"
         },
         "mode": "markers+text",
         "name": " CoHere, 2",
         "orientation": "v",
         "showlegend": false,
         "text": [
          " CoHere",
          " CoHere"
         ],
         "textposition": [
          "bottom center",
          "bottom center",
          "bottom center",
          "bottom center",
          "bottom center",
          "bottom center",
          "bottom center",
          "bottom center",
          "bottom center",
          "bottom center",
          "bottom center",
          "bottom center",
          "bottom center",
          "bottom center",
          "bottom center",
          "bottom center",
          "bottom center",
          "bottom center",
          "bottom center",
          "bottom center",
          "bottom center",
          "bottom center",
          "bottom center",
          "bottom center",
          "bottom center",
          "bottom center",
          "bottom center",
          "bottom center",
          "bottom center",
          "bottom center",
          "bottom center",
          "bottom center",
          "bottom center",
          "bottom center"
         ],
         "type": "scatter",
         "x": [
          8.9586075,
          8.9586075
         ],
         "xaxis": "x",
         "y": [
          0.1,
          0.1
         ],
         "yaxis": "y"
        },
        {
         "hovertemplate": "Provider=FA<br>Marker=1<br>Test_cost=%{x}<br>Test_acc=%{y}<br>Method=%{text}<extra></extra>",
         "legendgroup": "FA, 1",
         "marker": {
          "color": "#72B7B2",
          "opacity": 0.7,
          "size": 15,
          "symbol": "diamond"
         },
         "mode": "markers+text",
         "name": "FA, 1",
         "orientation": "v",
         "showlegend": false,
         "text": [
          "FQ",
          "FQ"
         ],
         "textposition": [
          "bottom center",
          "bottom center",
          "bottom center",
          "bottom center",
          "bottom center",
          "bottom center",
          "bottom center",
          "bottom center",
          "bottom center",
          "bottom center",
          "bottom center",
          "bottom center",
          "bottom center",
          "bottom center",
          "bottom center",
          "bottom center",
          "bottom center",
          "bottom center",
          "bottom center",
          "bottom center",
          "bottom center",
          "bottom center",
          "bottom center",
          "bottom center",
          "bottom center",
          "bottom center",
          "bottom center",
          "bottom center",
          "bottom center",
          "bottom center",
          "bottom center",
          "bottom center",
          "bottom center",
          "bottom center"
         ],
         "type": "scatter",
         "x": [
          6.6724708,
          6.6724708
         ],
         "xaxis": "x",
         "y": [
          0.1,
          0.1
         ],
         "yaxis": "y"
        },
        {
         "hovertemplate": "Provider=OpenAI<br>Marker=3<br>Test_cost=%{x}<br>Test_acc=%{y}<br>Method=%{text}<extra></extra>",
         "legendgroup": "OpenAI, 3",
         "marker": {
          "color": "#54A24B",
          "opacity": 0.7,
          "size": 15,
          "symbol": "circle"
         },
         "mode": "markers+text",
         "name": "OpenAI, 3",
         "orientation": "v",
         "showlegend": false,
         "text": [
          "GPT-3",
          "GPT-4Turbo",
          "GPT-3",
          "GPT-4Turbo"
         ],
         "textposition": [
          "bottom center",
          "bottom center",
          "bottom center",
          "bottom center",
          "bottom center",
          "bottom center",
          "bottom center",
          "bottom center",
          "bottom center",
          "bottom center",
          "bottom center",
          "bottom center",
          "bottom center",
          "bottom center",
          "bottom center",
          "bottom center",
          "bottom center",
          "bottom center",
          "bottom center",
          "bottom center",
          "bottom center",
          "bottom center",
          "bottom center",
          "bottom center",
          "bottom center",
          "bottom center",
          "bottom center",
          "bottom center",
          "bottom center",
          "bottom center",
          "bottom center",
          "bottom center",
          "bottom center",
          "bottom center"
         ],
         "type": "scatter",
         "x": [
          2.1,
          94.991565,
          2.1,
          16.652775000000002
         ],
         "xaxis": "x",
         "y": [
          0.1,
          0.7785579722555233,
          0.1,
          0.8558
         ],
         "yaxis": "y"
        },
        {
         "hovertemplate": "Provider=OpenAI<br>Marker=2<br>Test_cost=%{x}<br>Test_acc=%{y}<br>Method=%{text}<extra></extra>",
         "legendgroup": "OpenAI, 2",
         "marker": {
          "color": "#54A24B",
          "opacity": 0.7,
          "size": 15,
          "symbol": "square"
         },
         "mode": "markers+text",
         "name": "OpenAI, 2",
         "orientation": "v",
         "showlegend": false,
         "text": [
          "ChatGPT",
          "             GPT-4o",
          "ChatGPT",
          "             GPT-4o"
         ],
         "textposition": [
          "bottom center",
          "bottom center",
          "bottom center",
          "bottom center",
          "bottom center",
          "bottom center",
          "bottom center",
          "bottom center",
          "bottom center",
          "bottom center",
          "bottom center",
          "bottom center",
          "bottom center",
          "bottom center",
          "bottom center",
          "bottom center",
          "bottom center",
          "bottom center",
          "bottom center",
          "bottom center",
          "bottom center",
          "bottom center",
          "bottom center",
          "bottom center",
          "bottom center",
          "bottom center",
          "bottom center",
          "bottom center",
          "bottom center",
          "bottom center",
          "bottom center",
          "bottom center",
          "bottom center",
          "bottom center"
         ],
         "type": "scatter",
         "x": [
          2.221348,
          31.56368000000001,
          2.221348,
          5.499465000000001
         ],
         "xaxis": "x",
         "y": [
          0.1,
          0.7717074841582463,
          0.1,
          0.8324
         ],
         "yaxis": "y"
        },
        {
         "hovertemplate": "Provider=OpenAI<br>Marker=1<br>Test_cost=%{x}<br>Test_acc=%{y}<br>Method=%{text}<extra></extra>",
         "legendgroup": "OpenAI, 1",
         "marker": {
          "color": "#54A24B",
          "opacity": 0.7,
          "size": 15,
          "symbol": "diamond"
         },
         "mode": "markers+text",
         "name": "OpenAI, 1",
         "orientation": "v",
         "showlegend": false,
         "text": [
          "GPT-C",
          "                                          GPT-4o-mini",
          "GPT-C",
          "                                          GPT-4o-mini"
         ],
         "textposition": [
          "bottom center",
          "bottom center",
          "bottom center",
          "bottom center",
          "bottom center",
          "bottom center",
          "bottom center",
          "bottom center",
          "bottom center",
          "bottom center",
          "bottom center",
          "bottom center",
          "bottom center",
          "bottom center",
          "bottom center",
          "bottom center",
          "bottom center",
          "bottom center",
          "bottom center",
          "bottom center",
          "bottom center",
          "bottom center",
          "bottom center",
          "bottom center",
          "bottom center",
          "bottom center",
          "bottom center",
          "bottom center",
          "bottom center",
          "bottom center",
          "bottom center",
          "bottom center",
          "bottom center",
          "bottom center"
         ],
         "type": "scatter",
         "x": [
          2.280752,
          0.9493557,
          2.280752,
          0.16567335
         ],
         "xaxis": "x",
         "y": [
          0.1,
          0.7557800993320775,
          0.1,
          0.8478
         ],
         "yaxis": "y"
        },
        {
         "hovertemplate": "Provider=OpenAI<br>Marker=4<br>Test_cost=%{x}<br>Test_acc=%{y}<br>Method=%{text}<extra></extra>",
         "legendgroup": "OpenAI, 4",
         "marker": {
          "color": "#54A24B",
          "opacity": 0.7,
          "size": 15,
          "symbol": "star"
         },
         "mode": "markers+text",
         "name": "OpenAI, 4",
         "orientation": "v",
         "showlegend": false,
         "text": [
          "GPT-4",
          "GPT-4"
         ],
         "textposition": [
          "bottom center",
          "bottom center",
          "bottom center",
          "bottom center",
          "bottom center",
          "bottom center",
          "bottom center",
          "bottom center",
          "bottom center",
          "bottom center",
          "bottom center",
          "bottom center",
          "bottom center",
          "bottom center",
          "bottom center",
          "bottom center",
          "bottom center",
          "bottom center",
          "bottom center",
          "bottom center",
          "bottom center",
          "bottom center",
          "bottom center",
          "bottom center",
          "bottom center",
          "bottom center",
          "bottom center",
          "bottom center",
          "bottom center",
          "bottom center",
          "bottom center",
          "bottom center",
          "bottom center",
          "bottom center"
         ],
         "type": "scatter",
         "x": [
          20.1,
          20.1
         ],
         "xaxis": "x",
         "y": [
          0.1,
          0.1
         ],
         "yaxis": "y"
        },
        {
         "hovertemplate": "Provider=togetherai<br>Marker=2<br>Test_cost=%{x}<br>Test_acc=%{y}<br>Method=%{text}<extra></extra>",
         "legendgroup": "togetherai, 2",
         "marker": {
          "color": "#EECA3B",
          "opacity": 0.7,
          "size": 15,
          "symbol": "square"
         },
         "mode": "markers+text",
         "name": "togetherai, 2",
         "orientation": "v",
         "showlegend": false,
         "text": [
          "      GM2 (9B)",
          "      GM2 (9B)"
         ],
         "textposition": [
          "bottom center",
          "bottom center",
          "bottom center",
          "bottom center",
          "bottom center",
          "bottom center",
          "bottom center",
          "bottom center",
          "bottom center",
          "bottom center",
          "bottom center",
          "bottom center",
          "bottom center",
          "bottom center",
          "bottom center",
          "bottom center",
          "bottom center",
          "bottom center",
          "bottom center",
          "bottom center",
          "bottom center",
          "bottom center",
          "bottom center",
          "bottom center",
          "bottom center",
          "bottom center",
          "bottom center",
          "bottom center",
          "bottom center",
          "bottom center",
          "bottom center",
          "bottom center",
          "bottom center",
          "bottom center"
         ],
         "type": "scatter",
         "x": [
          1.8594132,
          0.3520268999999999
         ],
         "xaxis": "x",
         "y": [
          0.7535536907004624,
          0.832
         ],
         "yaxis": "y"
        },
        {
         "hovertemplate": "Provider=togetherai<br>Marker=1<br>Test_cost=%{x}<br>Test_acc=%{y}<br>Method=%{text}<extra></extra>",
         "legendgroup": "togetherai, 1",
         "marker": {
          "color": "#EECA3B",
          "opacity": 0.7,
          "size": 15,
          "symbol": "diamond"
         },
         "mode": "markers+text",
         "name": "togetherai, 1",
         "orientation": "v",
         "showlegend": false,
         "text": [
          "              Llama 3 (70B)",
          "              Llama 3 (70B)"
         ],
         "textposition": [
          "bottom center",
          "bottom center",
          "bottom center",
          "bottom center",
          "bottom center",
          "bottom center",
          "bottom center",
          "bottom center",
          "bottom center",
          "bottom center",
          "bottom center",
          "bottom center",
          "bottom center",
          "bottom center",
          "bottom center",
          "bottom center",
          "bottom center",
          "bottom center",
          "bottom center",
          "bottom center",
          "bottom center",
          "bottom center",
          "bottom center",
          "bottom center",
          "bottom center",
          "bottom center",
          "bottom center",
          "bottom center",
          "bottom center",
          "bottom center",
          "bottom center",
          "bottom center",
          "bottom center",
          "bottom center"
         ],
         "type": "scatter",
         "x": [
          5.60205184,
          1.00351
         ],
         "xaxis": "x",
         "y": [
          0.2411371810241479,
          0.8264
         ],
         "yaxis": "y"
        },
        {
         "line": {
          "color": "red",
          "width": 5
         },
         "marker": {
          "color": "red",
          "opacity": 0.7,
          "size": 15
         },
         "mode": "lines+markers",
         "name": "FrugalGPT",
         "showlegend": true,
         "type": "scatter",
         "x": [
          0.9926300000000001,
          6.164751970999999,
          11.336879781,
          16.509001752,
          21.681129562,
          26.853251532999998,
          32.025379343,
          37.197501314,
          42.369629124,
          47.541751095,
          52.713878904999994,
          57.886000876000004,
          63.0581268421051,
          68.23025157894716,
          73.4023763157892,
          78.57450105263125,
          83.74662578947328,
          88.918750219,
          94.090878029,
          99.263
         ],
         "y": [
          0.7557800993320775,
          0.7845521493406405,
          0.7845521493406405,
          0.7850659359479363,
          0.7850659359479363,
          0.7850659359479363,
          0.7850659359479363,
          0.7850659359479363,
          0.7850659359479363,
          0.7871210823771194,
          0.7871210823771194,
          0.7871210823771194,
          0.7871210823771194,
          0.7871210823771194,
          0.7871210823771194,
          0.7871210823771194,
          0.7871210823771194,
          0.7871210823771194,
          0.7871210823771194,
          0.7871210823771194
         ]
        }
       ],
       "layout": {
        "font": {
         "family": "Arial",
         "size": 25
        },
        "height": 400,
        "legend": {
         "title": {
          "text": ""
         },
         "tracegroupgap": 0,
         "traceorder": "reversed",
         "x": 0.5,
         "xanchor": "center",
         "y": 1.1,
         "yanchor": "top"
        },
        "margin": {
         "b": 0,
         "l": 0,
         "r": 0,
         "t": 0
        },
        "plot_bgcolor": "white",
        "template": {
         "data": {
          "bar": [
           {
            "error_x": {
             "color": "#2a3f5f"
            },
            "error_y": {
             "color": "#2a3f5f"
            },
            "marker": {
             "line": {
              "color": "#E5ECF6",
              "width": 0.5
             },
             "pattern": {
              "fillmode": "overlay",
              "size": 10,
              "solidity": 0.2
             }
            },
            "type": "bar"
           }
          ],
          "barpolar": [
           {
            "marker": {
             "line": {
              "color": "#E5ECF6",
              "width": 0.5
             },
             "pattern": {
              "fillmode": "overlay",
              "size": 10,
              "solidity": 0.2
             }
            },
            "type": "barpolar"
           }
          ],
          "carpet": [
           {
            "aaxis": {
             "endlinecolor": "#2a3f5f",
             "gridcolor": "white",
             "linecolor": "white",
             "minorgridcolor": "white",
             "startlinecolor": "#2a3f5f"
            },
            "baxis": {
             "endlinecolor": "#2a3f5f",
             "gridcolor": "white",
             "linecolor": "white",
             "minorgridcolor": "white",
             "startlinecolor": "#2a3f5f"
            },
            "type": "carpet"
           }
          ],
          "choropleth": [
           {
            "colorbar": {
             "outlinewidth": 0,
             "ticks": ""
            },
            "type": "choropleth"
           }
          ],
          "contour": [
           {
            "colorbar": {
             "outlinewidth": 0,
             "ticks": ""
            },
            "colorscale": [
             [
              0,
              "#0d0887"
             ],
             [
              0.1111111111111111,
              "#46039f"
             ],
             [
              0.2222222222222222,
              "#7201a8"
             ],
             [
              0.3333333333333333,
              "#9c179e"
             ],
             [
              0.4444444444444444,
              "#bd3786"
             ],
             [
              0.5555555555555556,
              "#d8576b"
             ],
             [
              0.6666666666666666,
              "#ed7953"
             ],
             [
              0.7777777777777778,
              "#fb9f3a"
             ],
             [
              0.8888888888888888,
              "#fdca26"
             ],
             [
              1,
              "#f0f921"
             ]
            ],
            "type": "contour"
           }
          ],
          "contourcarpet": [
           {
            "colorbar": {
             "outlinewidth": 0,
             "ticks": ""
            },
            "type": "contourcarpet"
           }
          ],
          "heatmap": [
           {
            "colorbar": {
             "outlinewidth": 0,
             "ticks": ""
            },
            "colorscale": [
             [
              0,
              "#0d0887"
             ],
             [
              0.1111111111111111,
              "#46039f"
             ],
             [
              0.2222222222222222,
              "#7201a8"
             ],
             [
              0.3333333333333333,
              "#9c179e"
             ],
             [
              0.4444444444444444,
              "#bd3786"
             ],
             [
              0.5555555555555556,
              "#d8576b"
             ],
             [
              0.6666666666666666,
              "#ed7953"
             ],
             [
              0.7777777777777778,
              "#fb9f3a"
             ],
             [
              0.8888888888888888,
              "#fdca26"
             ],
             [
              1,
              "#f0f921"
             ]
            ],
            "type": "heatmap"
           }
          ],
          "heatmapgl": [
           {
            "colorbar": {
             "outlinewidth": 0,
             "ticks": ""
            },
            "colorscale": [
             [
              0,
              "#0d0887"
             ],
             [
              0.1111111111111111,
              "#46039f"
             ],
             [
              0.2222222222222222,
              "#7201a8"
             ],
             [
              0.3333333333333333,
              "#9c179e"
             ],
             [
              0.4444444444444444,
              "#bd3786"
             ],
             [
              0.5555555555555556,
              "#d8576b"
             ],
             [
              0.6666666666666666,
              "#ed7953"
             ],
             [
              0.7777777777777778,
              "#fb9f3a"
             ],
             [
              0.8888888888888888,
              "#fdca26"
             ],
             [
              1,
              "#f0f921"
             ]
            ],
            "type": "heatmapgl"
           }
          ],
          "histogram": [
           {
            "marker": {
             "pattern": {
              "fillmode": "overlay",
              "size": 10,
              "solidity": 0.2
             }
            },
            "type": "histogram"
           }
          ],
          "histogram2d": [
           {
            "colorbar": {
             "outlinewidth": 0,
             "ticks": ""
            },
            "colorscale": [
             [
              0,
              "#0d0887"
             ],
             [
              0.1111111111111111,
              "#46039f"
             ],
             [
              0.2222222222222222,
              "#7201a8"
             ],
             [
              0.3333333333333333,
              "#9c179e"
             ],
             [
              0.4444444444444444,
              "#bd3786"
             ],
             [
              0.5555555555555556,
              "#d8576b"
             ],
             [
              0.6666666666666666,
              "#ed7953"
             ],
             [
              0.7777777777777778,
              "#fb9f3a"
             ],
             [
              0.8888888888888888,
              "#fdca26"
             ],
             [
              1,
              "#f0f921"
             ]
            ],
            "type": "histogram2d"
           }
          ],
          "histogram2dcontour": [
           {
            "colorbar": {
             "outlinewidth": 0,
             "ticks": ""
            },
            "colorscale": [
             [
              0,
              "#0d0887"
             ],
             [
              0.1111111111111111,
              "#46039f"
             ],
             [
              0.2222222222222222,
              "#7201a8"
             ],
             [
              0.3333333333333333,
              "#9c179e"
             ],
             [
              0.4444444444444444,
              "#bd3786"
             ],
             [
              0.5555555555555556,
              "#d8576b"
             ],
             [
              0.6666666666666666,
              "#ed7953"
             ],
             [
              0.7777777777777778,
              "#fb9f3a"
             ],
             [
              0.8888888888888888,
              "#fdca26"
             ],
             [
              1,
              "#f0f921"
             ]
            ],
            "type": "histogram2dcontour"
           }
          ],
          "mesh3d": [
           {
            "colorbar": {
             "outlinewidth": 0,
             "ticks": ""
            },
            "type": "mesh3d"
           }
          ],
          "parcoords": [
           {
            "line": {
             "colorbar": {
              "outlinewidth": 0,
              "ticks": ""
             }
            },
            "type": "parcoords"
           }
          ],
          "pie": [
           {
            "automargin": true,
            "type": "pie"
           }
          ],
          "scatter": [
           {
            "fillpattern": {
             "fillmode": "overlay",
             "size": 10,
             "solidity": 0.2
            },
            "type": "scatter"
           }
          ],
          "scatter3d": [
           {
            "line": {
             "colorbar": {
              "outlinewidth": 0,
              "ticks": ""
             }
            },
            "marker": {
             "colorbar": {
              "outlinewidth": 0,
              "ticks": ""
             }
            },
            "type": "scatter3d"
           }
          ],
          "scattercarpet": [
           {
            "marker": {
             "colorbar": {
              "outlinewidth": 0,
              "ticks": ""
             }
            },
            "type": "scattercarpet"
           }
          ],
          "scattergeo": [
           {
            "marker": {
             "colorbar": {
              "outlinewidth": 0,
              "ticks": ""
             }
            },
            "type": "scattergeo"
           }
          ],
          "scattergl": [
           {
            "marker": {
             "colorbar": {
              "outlinewidth": 0,
              "ticks": ""
             }
            },
            "type": "scattergl"
           }
          ],
          "scattermapbox": [
           {
            "marker": {
             "colorbar": {
              "outlinewidth": 0,
              "ticks": ""
             }
            },
            "type": "scattermapbox"
           }
          ],
          "scatterpolar": [
           {
            "marker": {
             "colorbar": {
              "outlinewidth": 0,
              "ticks": ""
             }
            },
            "type": "scatterpolar"
           }
          ],
          "scatterpolargl": [
           {
            "marker": {
             "colorbar": {
              "outlinewidth": 0,
              "ticks": ""
             }
            },
            "type": "scatterpolargl"
           }
          ],
          "scatterternary": [
           {
            "marker": {
             "colorbar": {
              "outlinewidth": 0,
              "ticks": ""
             }
            },
            "type": "scatterternary"
           }
          ],
          "surface": [
           {
            "colorbar": {
             "outlinewidth": 0,
             "ticks": ""
            },
            "colorscale": [
             [
              0,
              "#0d0887"
             ],
             [
              0.1111111111111111,
              "#46039f"
             ],
             [
              0.2222222222222222,
              "#7201a8"
             ],
             [
              0.3333333333333333,
              "#9c179e"
             ],
             [
              0.4444444444444444,
              "#bd3786"
             ],
             [
              0.5555555555555556,
              "#d8576b"
             ],
             [
              0.6666666666666666,
              "#ed7953"
             ],
             [
              0.7777777777777778,
              "#fb9f3a"
             ],
             [
              0.8888888888888888,
              "#fdca26"
             ],
             [
              1,
              "#f0f921"
             ]
            ],
            "type": "surface"
           }
          ],
          "table": [
           {
            "cells": {
             "fill": {
              "color": "#EBF0F8"
             },
             "line": {
              "color": "white"
             }
            },
            "header": {
             "fill": {
              "color": "#C8D4E3"
             },
             "line": {
              "color": "white"
             }
            },
            "type": "table"
           }
          ]
         },
         "layout": {
          "annotationdefaults": {
           "arrowcolor": "#2a3f5f",
           "arrowhead": 0,
           "arrowwidth": 1
          },
          "autotypenumbers": "strict",
          "coloraxis": {
           "colorbar": {
            "outlinewidth": 0,
            "ticks": ""
           }
          },
          "colorscale": {
           "diverging": [
            [
             0,
             "#8e0152"
            ],
            [
             0.1,
             "#c51b7d"
            ],
            [
             0.2,
             "#de77ae"
            ],
            [
             0.3,
             "#f1b6da"
            ],
            [
             0.4,
             "#fde0ef"
            ],
            [
             0.5,
             "#f7f7f7"
            ],
            [
             0.6,
             "#e6f5d0"
            ],
            [
             0.7,
             "#b8e186"
            ],
            [
             0.8,
             "#7fbc41"
            ],
            [
             0.9,
             "#4d9221"
            ],
            [
             1,
             "#276419"
            ]
           ],
           "sequential": [
            [
             0,
             "#0d0887"
            ],
            [
             0.1111111111111111,
             "#46039f"
            ],
            [
             0.2222222222222222,
             "#7201a8"
            ],
            [
             0.3333333333333333,
             "#9c179e"
            ],
            [
             0.4444444444444444,
             "#bd3786"
            ],
            [
             0.5555555555555556,
             "#d8576b"
            ],
            [
             0.6666666666666666,
             "#ed7953"
            ],
            [
             0.7777777777777778,
             "#fb9f3a"
            ],
            [
             0.8888888888888888,
             "#fdca26"
            ],
            [
             1,
             "#f0f921"
            ]
           ],
           "sequentialminus": [
            [
             0,
             "#0d0887"
            ],
            [
             0.1111111111111111,
             "#46039f"
            ],
            [
             0.2222222222222222,
             "#7201a8"
            ],
            [
             0.3333333333333333,
             "#9c179e"
            ],
            [
             0.4444444444444444,
             "#bd3786"
            ],
            [
             0.5555555555555556,
             "#d8576b"
            ],
            [
             0.6666666666666666,
             "#ed7953"
            ],
            [
             0.7777777777777778,
             "#fb9f3a"
            ],
            [
             0.8888888888888888,
             "#fdca26"
            ],
            [
             1,
             "#f0f921"
            ]
           ]
          },
          "colorway": [
           "#636efa",
           "#EF553B",
           "#00cc96",
           "#ab63fa",
           "#FFA15A",
           "#19d3f3",
           "#FF6692",
           "#B6E880",
           "#FF97FF",
           "#FECB52"
          ],
          "font": {
           "color": "#2a3f5f"
          },
          "geo": {
           "bgcolor": "white",
           "lakecolor": "white",
           "landcolor": "#E5ECF6",
           "showlakes": true,
           "showland": true,
           "subunitcolor": "white"
          },
          "hoverlabel": {
           "align": "left"
          },
          "hovermode": "closest",
          "mapbox": {
           "style": "light"
          },
          "paper_bgcolor": "white",
          "plot_bgcolor": "#E5ECF6",
          "polar": {
           "angularaxis": {
            "gridcolor": "white",
            "linecolor": "white",
            "ticks": ""
           },
           "bgcolor": "#E5ECF6",
           "radialaxis": {
            "gridcolor": "white",
            "linecolor": "white",
            "ticks": ""
           }
          },
          "scene": {
           "xaxis": {
            "backgroundcolor": "#E5ECF6",
            "gridcolor": "white",
            "gridwidth": 2,
            "linecolor": "white",
            "showbackground": true,
            "ticks": "",
            "zerolinecolor": "white"
           },
           "yaxis": {
            "backgroundcolor": "#E5ECF6",
            "gridcolor": "white",
            "gridwidth": 2,
            "linecolor": "white",
            "showbackground": true,
            "ticks": "",
            "zerolinecolor": "white"
           },
           "zaxis": {
            "backgroundcolor": "#E5ECF6",
            "gridcolor": "white",
            "gridwidth": 2,
            "linecolor": "white",
            "showbackground": true,
            "ticks": "",
            "zerolinecolor": "white"
           }
          },
          "shapedefaults": {
           "line": {
            "color": "#2a3f5f"
           }
          },
          "ternary": {
           "aaxis": {
            "gridcolor": "white",
            "linecolor": "white",
            "ticks": ""
           },
           "baxis": {
            "gridcolor": "white",
            "linecolor": "white",
            "ticks": ""
           },
           "bgcolor": "#E5ECF6",
           "caxis": {
            "gridcolor": "white",
            "linecolor": "white",
            "ticks": ""
           }
          },
          "title": {
           "x": 0.05
          },
          "xaxis": {
           "automargin": true,
           "gridcolor": "white",
           "linecolor": "white",
           "ticks": "",
           "title": {
            "standoff": 15
           },
           "zerolinecolor": "white",
           "zerolinewidth": 2
          },
          "yaxis": {
           "automargin": true,
           "gridcolor": "white",
           "linecolor": "white",
           "ticks": "",
           "title": {
            "standoff": 15
           },
           "zerolinecolor": "white",
           "zerolinewidth": 2
          }
         }
        },
        "width": 500,
        "xaxis": {
         "anchor": "y",
         "autorange": true,
         "domain": [
          0,
          1
         ],
         "gridcolor": "lightgrey",
         "linecolor": "black",
         "linewidth": 2,
         "range": [
          -9.219653313807575,
          119.38532666380758
         ],
         "showline": true,
         "title": {
          "text": "Cost ($)"
         },
         "type": "linear"
        },
        "yaxis": {
         "anchor": "x",
         "domain": [
          0,
          1
         ],
         "gridcolor": "lightgrey",
         "linecolor": "black",
         "linewidth": 2,
         "range": [
          0.74,
          0.795
         ],
         "showline": true,
         "title": {
          "text": "Accuracy"
         },
         "type": "linear"
        }
       }
      },
      "image/png": "[encoded data removed]",
      "text/html": [
       "<div>                            <div id=\"13807bc5-d7b1-46a9-9ee0-814526cab319\" class=\"plotly-graph-div\" style=\"height:400px; width:500px;\"></div>            <script type=\"text/javascript\">                require([\"plotly\"], function(Plotly) {                    window.PLOTLYENV=window.PLOTLYENV || {};                                    if (document.getElementById(\"13807bc5-d7b1-46a9-9ee0-814526cab319\")) {                    Plotly.newPlot(                        \"13807bc5-d7b1-46a9-9ee0-814526cab319\",                        [{\"hovertemplate\":\"Provider=Textsynth\\u003cbr\\u003eMarker=3\\u003cbr\\u003eTest_cost=%{x}\\u003cbr\\u003eTest_acc=%{y}\\u003cbr\\u003eMethod=%{text}\\u003cextra\\u003e\\u003c\\u002fextra\\u003e\",\"legendgroup\":\"Textsynth, 3\",\"marker\":{\"color\":\"#4C78A8\",\"symbol\":\"circle\",\"size\":15,\"opacity\":0.7},\"mode\":\"markers+text\",\"name\":\"Textsynth, 3\",\"orientation\":\"v\",\"showlegend\":false,\"text\":[\"GPT-Neo\",\"GPT-Neo\"],\"x\":[110.0,1.9486362],\"xaxis\":\"x\",\"y\":[0.1,0.1],\"yaxis\":\"y\",\"type\":\"scatter\",\"textposition\":[\"bottom center\",\"bottom center\",\"bottom center\",\"bottom center\",\"bottom center\",\"bottom center\",\"bottom center\",\"bottom center\",\"bottom center\",\"bottom center\",\"bottom center\",\"bottom center\",\"bottom center\",\"bottom center\",\"bottom center\",\"bottom center\",\"bottom center\",\"bottom center\",\"bottom center\",\"bottom center\",\"bottom center\",\"bottom center\",\"bottom center\",\"bottom center\",\"bottom center\",\"bottom center\",\"bottom center\",\"bottom center\",\"bottom center\",\"bottom center\",\"bottom center\",\"bottom center\",\"bottom center\",\"bottom center\"]},{\"hovertemplate\":\"Provider=Textsynth\\u003cbr\\u003eMarker=2\\u003cbr\\u003eTest_cost=%{x}\\u003cbr\\u003eTest_acc=%{y}\\u003cbr\\u003eMethod=%{text}\\u003cextra\\u003e\\u003c\\u002fextra\\u003e\",\"legendgroup\":\"Textsynth, 2\",\"marker\":{\"color\":\"#4C78A8\",\"symbol\":\"square\",\"size\":15,\"opacity\":0.7},\"mode\":\"markers+text\",\"name\":\"Textsynth, 2\",\"orientation\":\"v\",\"showlegend\":false,\"text\":[\"FSQ\",\"FSQ\"],\"x\":[0.8044752,0.8044752],\"xaxis\":\"x\",\"y\":[0.1,0.1],\"yaxis\":\"y\",\"type\":\"scatter\",\"textposition\":[\"bottom center\",\"bottom center\",\"bottom center\",\"bottom center\",\"bottom center\",\"bottom center\",\"bottom center\",\"bottom center\",\"bottom center\",\"bottom center\",\"bottom center\",\"bottom center\",\"bottom center\",\"bottom center\",\"bottom center\",\"bottom center\",\"bottom center\",\"bottom center\",\"bottom center\",\"bottom center\",\"bottom center\",\"bottom center\",\"bottom center\",\"bottom center\",\"bottom center\",\"bottom center\",\"bottom center\",\"bottom center\",\"bottom center\",\"bottom center\",\"bottom center\",\"bottom center\",\"bottom center\",\"bottom center\"]},{\"hovertemplate\":\"Provider=Textsynth\\u003cbr\\u003eMarker=1\\u003cbr\\u003eTest_cost=%{x}\\u003cbr\\u003eTest_acc=%{y}\\u003cbr\\u003eMethod=%{text}\\u003cextra\\u003e\\u003c\\u002fextra\\u003e\",\"legendgroup\":\"Textsynth, 1\",\"marker\":{\"color\":\"#4C78A8\",\"symbol\":\"diamond\",\"size\":15,\"opacity\":0.7},\"mode\":\"markers+text\",\"name\":\"Textsynth, 1\",\"orientation\":\"v\",\"showlegend\":false,\"text\":[\"GPT-J\",\"GPT-J\"],\"x\":[0.2773536,0.2773536],\"xaxis\":\"x\",\"y\":[0.1,0.1],\"yaxis\":\"y\",\"type\":\"scatter\",\"textposition\":[\"bottom center\",\"bottom center\",\"bottom center\",\"bottom center\",\"bottom center\",\"bottom center\",\"bottom center\",\"bottom center\",\"bottom center\",\"bottom center\",\"bottom center\",\"bottom center\",\"bottom center\",\"bottom center\",\"bottom center\",\"bottom center\",\"bottom center\",\"bottom center\",\"bottom center\",\"bottom center\",\"bottom center\",\"bottom center\",\"bottom center\",\"bottom center\",\"bottom center\",\"bottom center\",\"bottom center\",\"bottom center\",\"bottom center\",\"bottom center\",\"bottom center\",\"bottom center\",\"bottom center\",\"bottom center\"]},{\"hovertemplate\":\"Provider=AI21\\u003cbr\\u003eMarker=3\\u003cbr\\u003eTest_cost=%{x}\\u003cbr\\u003eTest_acc=%{y}\\u003cbr\\u003eMethod=%{text}\\u003cextra\\u003e\\u003c\\u002fextra\\u003e\",\"legendgroup\":\"AI21, 3\",\"marker\":{\"color\":\"#F58518\",\"symbol\":\"circle\",\"size\":15,\"opacity\":0.7},\"mode\":\"markers+text\",\"name\":\"AI21, 3\",\"orientation\":\"v\",\"showlegend\":false,\"text\":[\"   J1\",\"   J1\"],\"x\":[2.5,2.5],\"xaxis\":\"x\",\"y\":[0.1,0.1],\"yaxis\":\"y\",\"type\":\"scatter\",\"textposition\":[\"bottom center\",\"bottom center\",\"bottom center\",\"bottom center\",\"bottom center\",\"bottom center\",\"bottom center\",\"bottom center\",\"bottom center\",\"bottom center\",\"bottom center\",\"bottom center\",\"bottom center\",\"bottom center\",\"bottom center\",\"bottom center\",\"bottom center\",\"bottom center\",\"bottom center\",\"bottom center\",\"bottom center\",\"bottom center\",\"bottom center\",\"bottom center\",\"bottom center\",\"bottom center\",\"bottom center\",\"bottom center\",\"bottom center\",\"bottom center\",\"bottom center\",\"bottom center\",\"bottom center\",\"bottom center\"]},{\"hovertemplate\":\"Provider=AI21\\u003cbr\\u003eMarker=2\\u003cbr\\u003eTest_cost=%{x}\\u003cbr\\u003eTest_acc=%{y}\\u003cbr\\u003eMethod=%{text}\\u003cextra\\u003e\\u003c\\u002fextra\\u003e\",\"legendgroup\":\"AI21, 2\",\"marker\":{\"color\":\"#F58518\",\"symbol\":\"square\",\"size\":15,\"opacity\":0.7},\"mode\":\"markers+text\",\"name\":\"AI21, 2\",\"orientation\":\"v\",\"showlegend\":false,\"text\":[\"J1-G\",\"J1-G\"],\"x\":[4.80016,4.80016],\"xaxis\":\"x\",\"y\":[0.1,0.1],\"yaxis\":\"y\",\"type\":\"scatter\",\"textposition\":[\"bottom center\",\"bottom center\",\"bottom center\",\"bottom center\",\"bottom center\",\"bottom center\",\"bottom center\",\"bottom center\",\"bottom center\",\"bottom center\",\"bottom center\",\"bottom center\",\"bottom center\",\"bottom center\",\"bottom center\",\"bottom center\",\"bottom center\",\"bottom center\",\"bottom center\",\"bottom center\",\"bottom center\",\"bottom center\",\"bottom center\",\"bottom center\",\"bottom center\",\"bottom center\",\"bottom center\",\"bottom center\",\"bottom center\",\"bottom center\",\"bottom center\",\"bottom center\",\"bottom center\",\"bottom center\"]},{\"hovertemplate\":\"Provider=AI21\\u003cbr\\u003eMarker=1\\u003cbr\\u003eTest_cost=%{x}\\u003cbr\\u003eTest_acc=%{y}\\u003cbr\\u003eMethod=%{text}\\u003cextra\\u003e\\u003c\\u002fextra\\u003e\",\"legendgroup\":\"AI21, 1\",\"marker\":{\"color\":\"#F58518\",\"symbol\":\"diamond\",\"size\":15,\"opacity\":0.7},\"mode\":\"markers+text\",\"name\":\"AI21, 1\",\"orientation\":\"v\",\"showlegend\":false,\"text\":[\"J1-L\",\"J1-L\"],\"x\":[1.80042,1.80042],\"xaxis\":\"x\",\"y\":[0.1,0.1],\"yaxis\":\"y\",\"type\":\"scatter\",\"textposition\":[\"bottom center\",\"bottom center\",\"bottom center\",\"bottom center\",\"bottom center\",\"bottom center\",\"bottom center\",\"bottom center\",\"bottom center\",\"bottom center\",\"bottom center\",\"bottom center\",\"bottom center\",\"bottom center\",\"bottom center\",\"bottom center\",\"bottom center\",\"bottom center\",\"bottom center\",\"bottom center\",\"bottom center\",\"bottom center\",\"bottom center\",\"bottom center\",\"bottom center\",\"bottom center\",\"bottom center\",\"bottom center\",\"bottom center\",\"bottom center\",\"bottom center\",\"bottom center\",\"bottom center\",\"bottom center\"]},{\"hovertemplate\":\"Provider= CoHere\\u003cbr\\u003eMarker=2\\u003cbr\\u003eTest_cost=%{x}\\u003cbr\\u003eTest_acc=%{y}\\u003cbr\\u003eMethod=%{text}\\u003cextra\\u003e\\u003c\\u002fextra\\u003e\",\"legendgroup\":\" CoHere, 2\",\"marker\":{\"color\":\"#E45756\",\"symbol\":\"square\",\"size\":15,\"opacity\":0.7},\"mode\":\"markers+text\",\"name\":\" CoHere, 2\",\"orientation\":\"v\",\"showlegend\":false,\"text\":[\" CoHere\",\" CoHere\"],\"x\":[8.9586075,8.9586075],\"xaxis\":\"x\",\"y\":[0.1,0.1],\"yaxis\":\"y\",\"type\":\"scatter\",\"textposition\":[\"bottom center\",\"bottom center\",\"bottom center\",\"bottom center\",\"bottom center\",\"bottom center\",\"bottom center\",\"bottom center\",\"bottom center\",\"bottom center\",\"bottom center\",\"bottom center\",\"bottom center\",\"bottom center\",\"bottom center\",\"bottom center\",\"bottom center\",\"bottom center\",\"bottom center\",\"bottom center\",\"bottom center\",\"bottom center\",\"bottom center\",\"bottom center\",\"bottom center\",\"bottom center\",\"bottom center\",\"bottom center\",\"bottom center\",\"bottom center\",\"bottom center\",\"bottom center\",\"bottom center\",\"bottom center\"]},{\"hovertemplate\":\"Provider=FA\\u003cbr\\u003eMarker=1\\u003cbr\\u003eTest_cost=%{x}\\u003cbr\\u003eTest_acc=%{y}\\u003cbr\\u003eMethod=%{text}\\u003cextra\\u003e\\u003c\\u002fextra\\u003e\",\"legendgroup\":\"FA, 1\",\"marker\":{\"color\":\"#72B7B2\",\"symbol\":\"diamond\",\"size\":15,\"opacity\":0.7},\"mode\":\"markers+text\",\"name\":\"FA, 1\",\"orientation\":\"v\",\"showlegend\":false,\"text\":[\"FQ\",\"FQ\"],\"x\":[6.6724708,6.6724708],\"xaxis\":\"x\",\"y\":[0.1,0.1],\"yaxis\":\"y\",\"type\":\"scatter\",\"textposition\":[\"bottom center\",\"bottom center\",\"bottom center\",\"bottom center\",\"bottom center\",\"bottom center\",\"bottom center\",\"bottom center\",\"bottom center\",\"bottom center\",\"bottom center\",\"bottom center\",\"bottom center\",\"bottom center\",\"bottom center\",\"bottom center\",\"bottom center\",\"bottom center\",\"bottom center\",\"bottom center\",\"bottom center\",\"bottom center\",\"bottom center\",\"bottom center\",\"bottom center\",\"bottom center\",\"bottom center\",\"bottom center\",\"bottom center\",\"bottom center\",\"bottom center\",\"bottom center\",\"bottom center\",\"bottom center\"]},{\"hovertemplate\":\"Provider=OpenAI\\u003cbr\\u003eMarker=3\\u003cbr\\u003eTest_cost=%{x}\\u003cbr\\u003eTest_acc=%{y}\\u003cbr\\u003eMethod=%{text}\\u003cextra\\u003e\\u003c\\u002fextra\\u003e\",\"legendgroup\":\"OpenAI, 3\",\"marker\":{\"color\":\"#54A24B\",\"symbol\":\"circle\",\"size\":15,\"opacity\":0.7},\"mode\":\"markers+text\",\"name\":\"OpenAI, 3\",\"orientation\":\"v\",\"showlegend\":false,\"text\":[\"GPT-3\",\"GPT-4Turbo\",\"GPT-3\",\"GPT-4Turbo\"],\"x\":[2.1,94.991565,2.1,16.652775000000002],\"xaxis\":\"x\",\"y\":[0.1,0.7785579722555233,0.1,0.8558],\"yaxis\":\"y\",\"type\":\"scatter\",\"textposition\":[\"bottom center\",\"bottom center\",\"bottom center\",\"bottom center\",\"bottom center\",\"bottom center\",\"bottom center\",\"bottom center\",\"bottom center\",\"bottom center\",\"bottom center\",\"bottom center\",\"bottom center\",\"bottom center\",\"bottom center\",\"bottom center\",\"bottom center\",\"bottom center\",\"bottom center\",\"bottom center\",\"bottom center\",\"bottom center\",\"bottom center\",\"bottom center\",\"bottom center\",\"bottom center\",\"bottom center\",\"bottom center\",\"bottom center\",\"bottom center\",\"bottom center\",\"bottom center\",\"bottom center\",\"bottom center\"]},{\"hovertemplate\":\"Provider=OpenAI\\u003cbr\\u003eMarker=2\\u003cbr\\u003eTest_cost=%{x}\\u003cbr\\u003eTest_acc=%{y}\\u003cbr\\u003eMethod=%{text}\\u003cextra\\u003e\\u003c\\u002fextra\\u003e\",\"legendgroup\":\"OpenAI, 2\",\"marker\":{\"color\":\"#54A24B\",\"symbol\":\"square\",\"size\":15,\"opacity\":0.7},\"mode\":\"markers+text\",\"name\":\"OpenAI, 2\",\"orientation\":\"v\",\"showlegend\":false,\"text\":[\"ChatGPT\",\"             GPT-4o\",\"ChatGPT\",\"             GPT-4o\"],\"x\":[2.221348,31.56368000000001,2.221348,5.499465000000001],\"xaxis\":\"x\",\"y\":[0.1,0.7717074841582463,0.1,0.8324],\"yaxis\":\"y\",\"type\":\"scatter\",\"textposition\":[\"bottom center\",\"bottom center\",\"bottom center\",\"bottom center\",\"bottom center\",\"bottom center\",\"bottom center\",\"bottom center\",\"bottom center\",\"bottom center\",\"bottom center\",\"bottom center\",\"bottom center\",\"bottom center\",\"bottom center\",\"bottom center\",\"bottom center\",\"bottom center\",\"bottom center\",\"bottom center\",\"bottom center\",\"bottom center\",\"bottom center\",\"bottom center\",\"bottom center\",\"bottom center\",\"bottom center\",\"bottom center\",\"bottom center\",\"bottom center\",\"bottom center\",\"bottom center\",\"bottom center\",\"bottom center\"]},{\"hovertemplate\":\"Provider=OpenAI\\u003cbr\\u003eMarker=1\\u003cbr\\u003eTest_cost=%{x}\\u003cbr\\u003eTest_acc=%{y}\\u003cbr\\u003eMethod=%{text}\\u003cextra\\u003e\\u003c\\u002fextra\\u003e\",\"legendgroup\":\"OpenAI, 1\",\"marker\":{\"color\":\"#54A24B\",\"symbol\":\"diamond\",\"size\":15,\"opacity\":0.7},\"mode\":\"markers+text\",\"name\":\"OpenAI, 1\",\"orientation\":\"v\",\"showlegend\":false,\"text\":[\"GPT-C\",\"                                          GPT-4o-mini\",\"GPT-C\",\"                                          GPT-4o-mini\"],\"x\":[2.280752,0.9493557,2.280752,0.16567335],\"xaxis\":\"x\",\"y\":[0.1,0.7557800993320775,0.1,0.8478],\"yaxis\":\"y\",\"type\":\"scatter\",\"textposition\":[\"bottom center\",\"bottom center\",\"bottom center\",\"bottom center\",\"bottom center\",\"bottom center\",\"bottom center\",\"bottom center\",\"bottom center\",\"bottom center\",\"bottom center\",\"bottom center\",\"bottom center\",\"bottom center\",\"bottom center\",\"bottom center\",\"bottom center\",\"bottom center\",\"bottom center\",\"bottom center\",\"bottom center\",\"bottom center\",\"bottom center\",\"bottom center\",\"bottom center\",\"bottom center\",\"bottom center\",\"bottom center\",\"bottom center\",\"bottom center\",\"bottom center\",\"bottom center\",\"bottom center\",\"bottom center\"]},{\"hovertemplate\":\"Provider=OpenAI\\u003cbr\\u003eMarker=4\\u003cbr\\u003eTest_cost=%{x}\\u003cbr\\u003eTest_acc=%{y}\\u003cbr\\u003eMethod=%{text}\\u003cextra\\u003e\\u003c\\u002fextra\\u003e\",\"legendgroup\":\"OpenAI, 4\",\"marker\":{\"color\":\"#54A24B\",\"symbol\":\"star\",\"size\":15,\"opacity\":0.7},\"mode\":\"markers+text\",\"name\":\"OpenAI, 4\",\"orientation\":\"v\",\"showlegend\":false,\"text\":[\"GPT-4\",\"GPT-4\"],\"x\":[20.1,20.1],\"xaxis\":\"x\",\"y\":[0.1,0.1],\"yaxis\":\"y\",\"type\":\"scatter\",\"textposition\":[\"bottom center\",\"bottom center\",\"bottom center\",\"bottom center\",\"bottom center\",\"bottom center\",\"bottom center\",\"bottom center\",\"bottom center\",\"bottom center\",\"bottom center\",\"bottom center\",\"bottom center\",\"bottom center\",\"bottom center\",\"bottom center\",\"bottom center\",\"bottom center\",\"bottom center\",\"bottom center\",\"bottom center\",\"bottom center\",\"bottom center\",\"bottom center\",\"bottom center\",\"bottom center\",\"bottom center\",\"bottom center\",\"bottom center\",\"bottom center\",\"bottom center\",\"bottom center\",\"bottom center\",\"bottom center\"]},{\"hovertemplate\":\"Provider=togetherai\\u003cbr\\u003eMarker=2\\u003cbr\\u003eTest_cost=%{x}\\u003cbr\\u003eTest_acc=%{y}\\u003cbr\\u003eMethod=%{text}\\u003cextra\\u003e\\u003c\\u002fextra\\u003e\",\"legendgroup\":\"togetherai, 2\",\"marker\":{\"color\":\"#EECA3B\",\"symbol\":\"square\",\"size\":15,\"opacity\":0.7},\"mode\":\"markers+text\",\"name\":\"togetherai, 2\",\"orientation\":\"v\",\"showlegend\":false,\"text\":[\"      GM2 (9B)\",\"      GM2 (9B)\"],\"x\":[1.8594132,0.3520268999999999],\"xaxis\":\"x\",\"y\":[0.7535536907004624,0.832],\"yaxis\":\"y\",\"type\":\"scatter\",\"textposition\":[\"bottom center\",\"bottom center\",\"bottom center\",\"bottom center\",\"bottom center\",\"bottom center\",\"bottom center\",\"bottom center\",\"bottom center\",\"bottom center\",\"bottom center\",\"bottom center\",\"bottom center\",\"bottom center\",\"bottom center\",\"bottom center\",\"bottom center\",\"bottom center\",\"bottom center\",\"bottom center\",\"bottom center\",\"bottom center\",\"bottom center\",\"bottom center\",\"bottom center\",\"bottom center\",\"bottom center\",\"bottom center\",\"bottom center\",\"bottom center\",\"bottom center\",\"bottom center\",\"bottom center\",\"bottom center\"]},{\"hovertemplate\":\"Provider=togetherai\\u003cbr\\u003eMarker=1\\u003cbr\\u003eTest_cost=%{x}\\u003cbr\\u003eTest_acc=%{y}\\u003cbr\\u003eMethod=%{text}\\u003cextra\\u003e\\u003c\\u002fextra\\u003e\",\"legendgroup\":\"togetherai, 1\",\"marker\":{\"color\":\"#EECA3B\",\"symbol\":\"diamond\",\"size\":15,\"opacity\":0.7},\"mode\":\"markers+text\",\"name\":\"togetherai, 1\",\"orientation\":\"v\",\"showlegend\":false,\"text\":[\"              Llama 3 (70B)\",\"              Llama 3 (70B)\"],\"x\":[5.60205184,1.00351],\"xaxis\":\"x\",\"y\":[0.2411371810241479,0.8264],\"yaxis\":\"y\",\"type\":\"scatter\",\"textposition\":[\"bottom center\",\"bottom center\",\"bottom center\",\"bottom center\",\"bottom center\",\"bottom center\",\"bottom center\",\"bottom center\",\"bottom center\",\"bottom center\",\"bottom center\",\"bottom center\",\"bottom center\",\"bottom center\",\"bottom center\",\"bottom center\",\"bottom center\",\"bottom center\",\"bottom center\",\"bottom center\",\"bottom center\",\"bottom center\",\"bottom center\",\"bottom center\",\"bottom center\",\"bottom center\",\"bottom center\",\"bottom center\",\"bottom center\",\"bottom center\",\"bottom center\",\"bottom center\",\"bottom center\",\"bottom center\"]},{\"line\":{\"color\":\"red\",\"width\":5},\"marker\":{\"color\":\"red\",\"size\":15,\"opacity\":0.7},\"mode\":\"lines+markers\",\"name\":\"FrugalGPT\",\"showlegend\":true,\"x\":[0.9926300000000001,6.164751970999999,11.336879781,16.509001752,21.681129562,26.853251532999998,32.025379343,37.197501314,42.369629124,47.541751095,52.713878904999994,57.886000876000004,63.0581268421051,68.23025157894716,73.4023763157892,78.57450105263125,83.74662578947328,88.918750219,94.090878029,99.263],\"y\":[0.7557800993320775,0.7845521493406405,0.7845521493406405,0.7850659359479363,0.7850659359479363,0.7850659359479363,0.7850659359479363,0.7850659359479363,0.7850659359479363,0.7871210823771194,0.7871210823771194,0.7871210823771194,0.7871210823771194,0.7871210823771194,0.7871210823771194,0.7871210823771194,0.7871210823771194,0.7871210823771194,0.7871210823771194,0.7871210823771194],\"type\":\"scatter\"}],                        {\"template\":{\"data\":{\"histogram2dcontour\":[{\"type\":\"histogram2dcontour\",\"colorbar\":{\"outlinewidth\":0,\"ticks\":\"\"},\"colorscale\":[[0.0,\"#0d0887\"],[0.1111111111111111,\"#46039f\"],[0.2222222222222222,\"#7201a8\"],[0.3333333333333333,\"#9c179e\"],[0.4444444444444444,\"#bd3786\"],[0.5555555555555556,\"#d8576b\"],[0.6666666666666666,\"#ed7953\"],[0.7777777777777778,\"#fb9f3a\"],[0.8888888888888888,\"#fdca26\"],[1.0,\"#f0f921\"]]}],\"choropleth\":[{\"type\":\"choropleth\",\"colorbar\":{\"outlinewidth\":0,\"ticks\":\"\"}}],\"histogram2d\":[{\"type\":\"histogram2d\",\"colorbar\":{\"outlinewidth\":0,\"ticks\":\"\"},\"colorscale\":[[0.0,\"#0d0887\"],[0.1111111111111111,\"#46039f\"],[0.2222222222222222,\"#7201a8\"],[0.3333333333333333,\"#9c179e\"],[0.4444444444444444,\"#bd3786\"],[0.5555555555555556,\"#d8576b\"],[0.6666666666666666,\"#ed7953\"],[0.7777777777777778,\"#fb9f3a\"],[0.8888888888888888,\"#fdca26\"],[1.0,\"#f0f921\"]]}],\"heatmap\":[{\"type\":\"heatmap\",\"colorbar\":{\"outlinewidth\":0,\"ticks\":\"\"},\"colorscale\":[[0.0,\"#0d0887\"],[0.1111111111111111,\"#46039f\"],[0.2222222222222222,\"#7201a8\"],[0.3333333333333333,\"#9c179e\"],[0.4444444444444444,\"#bd3786\"],[0.5555555555555556,\"#d8576b\"],[0.6666666666666666,\"#ed7953\"],[0.7777777777777778,\"#fb9f3a\"],[0.8888888888888888,\"#fdca26\"],[1.0,\"#f0f921\"]]}],\"heatmapgl\":[{\"type\":\"heatmapgl\",\"colorbar\":{\"outlinewidth\":0,\"ticks\":\"\"},\"colorscale\":[[0.0,\"#0d0887\"],[0.1111111111111111,\"#46039f\"],[0.2222222222222222,\"#7201a8\"],[0.3333333333333333,\"#9c179e\"],[0.4444444444444444,\"#bd3786\"],[0.5555555555555556,\"#d8576b\"],[0.6666666666666666,\"#ed7953\"],[0.7777777777777778,\"#fb9f3a\"],[0.8888888888888888,\"#fdca26\"],[1.0,\"#f0f921\"]]}],\"contourcarpet\":[{\"type\":\"contourcarpet\",\"colorbar\":{\"outlinewidth\":0,\"ticks\":\"\"}}],\"contour\":[{\"type\":\"contour\",\"colorbar\":{\"outlinewidth\":0,\"ticks\":\"\"},\"colorscale\":[[0.0,\"#0d0887\"],[0.1111111111111111,\"#46039f\"],[0.2222222222222222,\"#7201a8\"],[0.3333333333333333,\"#9c179e\"],[0.4444444444444444,\"#bd3786\"],[0.5555555555555556,\"#d8576b\"],[0.6666666666666666,\"#ed7953\"],[0.7777777777777778,\"#fb9f3a\"],[0.8888888888888888,\"#fdca26\"],[1.0,\"#f0f921\"]]}],\"surface\":[{\"type\":\"surface\",\"colorbar\":{\"outlinewidth\":0,\"ticks\":\"\"},\"colorscale\":[[0.0,\"#0d0887\"],[0.1111111111111111,\"#46039f\"],[0.2222222222222222,\"#7201a8\"],[0.3333333333333333,\"#9c179e\"],[0.4444444444444444,\"#bd3786\"],[0.5555555555555556,\"#d8576b\"],[0.6666666666666666,\"#ed7953\"],[0.7777777777777778,\"#fb9f3a\"],[0.8888888888888888,\"#fdca26\"],[1.0,\"#f0f921\"]]}],\"mesh3d\":[{\"type\":\"mesh3d\",\"colorbar\":{\"outlinewidth\":0,\"ticks\":\"\"}}],\"scatter\":[{\"fillpattern\":{\"fillmode\":\"overlay\",\"size\":10,\"solidity\":0.2},\"type\":\"scatter\"}],\"parcoords\":[{\"type\":\"parcoords\",\"line\":{\"colorbar\":{\"outlinewidth\":0,\"ticks\":\"\"}}}],\"scatterpolargl\":[{\"type\":\"scatterpolargl\",\"marker\":{\"colorbar\":{\"outlinewidth\":0,\"ticks\":\"\"}}}],\"bar\":[{\"error_x\":{\"color\":\"#2a3f5f\"},\"error_y\":{\"color\":\"#2a3f5f\"},\"marker\":{\"line\":{\"color\":\"#E5ECF6\",\"width\":0.5},\"pattern\":{\"fillmode\":\"overlay\",\"size\":10,\"solidity\":0.2}},\"type\":\"bar\"}],\"scattergeo\":[{\"type\":\"scattergeo\",\"marker\":{\"colorbar\":{\"outlinewidth\":0,\"ticks\":\"\"}}}],\"scatterpolar\":[{\"type\":\"scatterpolar\",\"marker\":{\"colorbar\":{\"outlinewidth\":0,\"ticks\":\"\"}}}],\"histogram\":[{\"marker\":{\"pattern\":{\"fillmode\":\"overlay\",\"size\":10,\"solidity\":0.2}},\"type\":\"histogram\"}],\"scattergl\":[{\"type\":\"scattergl\",\"marker\":{\"colorbar\":{\"outlinewidth\":0,\"ticks\":\"\"}}}],\"scatter3d\":[{\"type\":\"scatter3d\",\"line\":{\"colorbar\":{\"outlinewidth\":0,\"ticks\":\"\"}},\"marker\":{\"colorbar\":{\"outlinewidth\":0,\"ticks\":\"\"}}}],\"scattermapbox\":[{\"type\":\"scattermapbox\",\"marker\":{\"colorbar\":{\"outlinewidth\":0,\"ticks\":\"\"}}}],\"scatterternary\":[{\"type\":\"scatterternary\",\"marker\":{\"colorbar\":{\"outlinewidth\":0,\"ticks\":\"\"}}}],\"scattercarpet\":[{\"type\":\"scattercarpet\",\"marker\":{\"colorbar\":{\"outlinewidth\":0,\"ticks\":\"\"}}}],\"carpet\":[{\"aaxis\":{\"endlinecolor\":\"#2a3f5f\",\"gridcolor\":\"white\",\"linecolor\":\"white\",\"minorgridcolor\":\"white\",\"startlinecolor\":\"#2a3f5f\"},\"baxis\":{\"endlinecolor\":\"#2a3f5f\",\"gridcolor\":\"white\",\"linecolor\":\"white\",\"minorgridcolor\":\"white\",\"startlinecolor\":\"#2a3f5f\"},\"type\":\"carpet\"}],\"table\":[{\"cells\":{\"fill\":{\"color\":\"#EBF0F8\"},\"line\":{\"color\":\"white\"}},\"header\":{\"fill\":{\"color\":\"#C8D4E3\"},\"line\":{\"color\":\"white\"}},\"type\":\"table\"}],\"barpolar\":[{\"marker\":{\"line\":{\"color\":\"#E5ECF6\",\"width\":0.5},\"pattern\":{\"fillmode\":\"overlay\",\"size\":10,\"solidity\":0.2}},\"type\":\"barpolar\"}],\"pie\":[{\"automargin\":true,\"type\":\"pie\"}]},\"layout\":{\"autotypenumbers\":\"strict\",\"colorway\":[\"#636efa\",\"#EF553B\",\"#00cc96\",\"#ab63fa\",\"#FFA15A\",\"#19d3f3\",\"#FF6692\",\"#B6E880\",\"#FF97FF\",\"#FECB52\"],\"font\":{\"color\":\"#2a3f5f\"},\"hovermode\":\"closest\",\"hoverlabel\":{\"align\":\"left\"},\"paper_bgcolor\":\"white\",\"plot_bgcolor\":\"#E5ECF6\",\"polar\":{\"bgcolor\":\"#E5ECF6\",\"angularaxis\":{\"gridcolor\":\"white\",\"linecolor\":\"white\",\"ticks\":\"\"},\"radialaxis\":{\"gridcolor\":\"white\",\"linecolor\":\"white\",\"ticks\":\"\"}},\"ternary\":{\"bgcolor\":\"#E5ECF6\",\"aaxis\":{\"gridcolor\":\"white\",\"linecolor\":\"white\",\"ticks\":\"\"},\"baxis\":{\"gridcolor\":\"white\",\"linecolor\":\"white\",\"ticks\":\"\"},\"caxis\":{\"gridcolor\":\"white\",\"linecolor\":\"white\",\"ticks\":\"\"}},\"coloraxis\":{\"colorbar\":{\"outlinewidth\":0,\"ticks\":\"\"}},\"colorscale\":{\"sequential\":[[0.0,\"#0d0887\"],[0.1111111111111111,\"#46039f\"],[0.2222222222222222,\"#7201a8\"],[0.3333333333333333,\"#9c179e\"],[0.4444444444444444,\"#bd3786\"],[0.5555555555555556,\"#d8576b\"],[0.6666666666666666,\"#ed7953\"],[0.7777777777777778,\"#fb9f3a\"],[0.8888888888888888,\"#fdca26\"],[1.0,\"#f0f921\"]],\"sequentialminus\":[[0.0,\"#0d0887\"],[0.1111111111111111,\"#46039f\"],[0.2222222222222222,\"#7201a8\"],[0.3333333333333333,\"#9c179e\"],[0.4444444444444444,\"#bd3786\"],[0.5555555555555556,\"#d8576b\"],[0.6666666666666666,\"#ed7953\"],[0.7777777777777778,\"#fb9f3a\"],[0.8888888888888888,\"#fdca26\"],[1.0,\"#f0f921\"]],\"diverging\":[[0,\"#8e0152\"],[0.1,\"#c51b7d\"],[0.2,\"#de77ae\"],[0.3,\"#f1b6da\"],[0.4,\"#fde0ef\"],[0.5,\"#f7f7f7\"],[0.6,\"#e6f5d0\"],[0.7,\"#b8e186\"],[0.8,\"#7fbc41\"],[0.9,\"#4d9221\"],[1,\"#276419\"]]},\"xaxis\":{\"gridcolor\":\"white\",\"linecolor\":\"white\",\"ticks\":\"\",\"title\":{\"standoff\":15},\"zerolinecolor\":\"white\",\"automargin\":true,\"zerolinewidth\":2},\"yaxis\":{\"gridcolor\":\"white\",\"linecolor\":\"white\",\"ticks\":\"\",\"title\":{\"standoff\":15},\"zerolinecolor\":\"white\",\"automargin\":true,\"zerolinewidth\":2},\"scene\":{\"xaxis\":{\"backgroundcolor\":\"#E5ECF6\",\"gridcolor\":\"white\",\"linecolor\":\"white\",\"showbackground\":true,\"ticks\":\"\",\"zerolinecolor\":\"white\",\"gridwidth\":2},\"yaxis\":{\"backgroundcolor\":\"#E5ECF6\",\"gridcolor\":\"white\",\"linecolor\":\"white\",\"showbackground\":true,\"ticks\":\"\",\"zerolinecolor\":\"white\",\"gridwidth\":2},\"zaxis\":{\"backgroundcolor\":\"#E5ECF6\",\"gridcolor\":\"white\",\"linecolor\":\"white\",\"showbackground\":true,\"ticks\":\"\",\"zerolinecolor\":\"white\",\"gridwidth\":2}},\"shapedefaults\":{\"line\":{\"color\":\"#2a3f5f\"}},\"annotationdefaults\":{\"arrowcolor\":\"#2a3f5f\",\"arrowhead\":0,\"arrowwidth\":1},\"geo\":{\"bgcolor\":\"white\",\"landcolor\":\"#E5ECF6\",\"subunitcolor\":\"white\",\"showland\":true,\"showlakes\":true,\"lakecolor\":\"white\"},\"title\":{\"x\":0.05},\"mapbox\":{\"style\":\"light\"}}},\"xaxis\":{\"anchor\":\"y\",\"domain\":[0.0,1.0],\"title\":{\"text\":\"Cost ($)\"},\"showline\":true,\"linewidth\":2,\"linecolor\":\"black\",\"gridcolor\":\"lightgrey\"},\"yaxis\":{\"anchor\":\"x\",\"domain\":[0.0,1.0],\"title\":{\"text\":\"Accuracy\"},\"showline\":true,\"linewidth\":2,\"linecolor\":\"black\",\"gridcolor\":\"lightgrey\",\"range\":[0.74,0.795]},\"legend\":{\"title\":{\"text\":\"\"},\"tracegroupgap\":0,\"yanchor\":\"top\",\"y\":1.1,\"xanchor\":\"center\",\"x\":0.5,\"traceorder\":\"reversed\"},\"margin\":{\"t\":0,\"l\":0,\"r\":0,\"b\":0},\"height\":400,\"width\":500,\"font\":{\"family\":\"Arial\",\"size\":25},\"plot_bgcolor\":\"white\"},                        {\"responsive\": true}                    ).then(function(){\n",
       "                            \n",
       "var gd = document.getElementById('13807bc5-d7b1-46a9-9ee0-814526cab319');\n",
       "var x = new MutationObserver(function (mutations, observer) {{\n",
       "        var display = window.getComputedStyle(gd).display;\n",
       "        if (!display || display === 'none') {{\n",
       "            console.log([gd, 'removed!']);\n",
       "            Plotly.purge(gd);\n",
       "            observer.disconnect();\n",
       "        }}\n",
       "}});\n",
       "\n",
       "// Listen for the removal of the full notebook cells\n",
       "var notebookContainer = gd.closest('#notebook-container');\n",
       "if (notebookContainer) {{\n",
       "    x.observe(notebookContainer, {childList: true});\n",
       "}}\n",
       "\n",
       "// Listen for the clearing of the current output cell\n",
       "var outputEl = gd.closest('.output');\n",
       "if (outputEl) {{\n",
       "    x.observe(outputEl, {childList: true});\n",
       "}}\n",
       "\n",
       "                        })                };                });            </script>        </div>"
      ]
     },
     "metadata": {},
     "output_type": "display_data"
    },
    {
     "data": {
      "application/vnd.plotly.v1+json": {
       "config": {
        "plotlyServerURL": "https://plot.ly"
       },
       "data": [
        {
         "hovertemplate": "Provider=Textsynth<br>Marker=3<br>Test_cost=%{x}<br>Test_acc=%{y}<br>Method=%{text}<extra></extra>",
         "legendgroup": "Textsynth, 3",
         "marker": {
          "color": "#4C78A8",
          "opacity": 0.7,
          "size": 15,
          "symbol": "circle"
         },
         "mode": "markers+text",
         "name": "Textsynth, 3",
         "orientation": "v",
         "showlegend": false,
         "text": [
          "GPT-Neo",
          "GPT-Neo"
         ],
         "textposition": [
          "bottom center",
          "bottom center",
          "bottom center",
          "bottom center",
          "bottom center",
          "bottom center",
          "bottom center",
          "bottom center",
          "bottom center",
          "bottom center",
          "bottom center",
          "bottom center",
          "bottom center",
          "bottom center",
          "bottom center",
          "bottom center",
          "bottom center",
          "bottom center",
          "bottom center",
          "bottom center",
          "bottom center",
          "bottom center",
          "bottom center",
          "bottom center",
          "bottom center",
          "bottom center",
          "bottom center",
          "bottom center",
          "bottom center",
          "bottom center",
          "bottom center",
          "bottom center",
          "bottom center",
          "bottom center"
         ],
         "type": "scatter",
         "x": [
          110,
          1.9486362
         ],
         "xaxis": "x",
         "y": [
          0.1,
          0.1
         ],
         "yaxis": "y"
        },
        {
         "hovertemplate": "Provider=Textsynth<br>Marker=2<br>Test_cost=%{x}<br>Test_acc=%{y}<br>Method=%{text}<extra></extra>",
         "legendgroup": "Textsynth, 2",
         "marker": {
          "color": "#4C78A8",
          "opacity": 0.7,
          "size": 15,
          "symbol": "square"
         },
         "mode": "markers+text",
         "name": "Textsynth, 2",
         "orientation": "v",
         "showlegend": false,
         "text": [
          "FSQ",
          "FSQ"
         ],
         "textposition": [
          "bottom center",
          "bottom center",
          "bottom center",
          "bottom center",
          "bottom center",
          "bottom center",
          "bottom center",
          "bottom center",
          "bottom center",
          "bottom center",
          "bottom center",
          "bottom center",
          "bottom center",
          "bottom center",
          "bottom center",
          "bottom center",
          "bottom center",
          "bottom center",
          "bottom center",
          "bottom center",
          "bottom center",
          "bottom center",
          "bottom center",
          "bottom center",
          "bottom center",
          "bottom center",
          "bottom center",
          "bottom center",
          "bottom center",
          "bottom center",
          "bottom center",
          "bottom center",
          "bottom center",
          "bottom center"
         ],
         "type": "scatter",
         "x": [
          0.8044752,
          0.8044752
         ],
         "xaxis": "x",
         "y": [
          0.1,
          0.1
         ],
         "yaxis": "y"
        },
        {
         "hovertemplate": "Provider=Textsynth<br>Marker=1<br>Test_cost=%{x}<br>Test_acc=%{y}<br>Method=%{text}<extra></extra>",
         "legendgroup": "Textsynth, 1",
         "marker": {
          "color": "#4C78A8",
          "opacity": 0.7,
          "size": 15,
          "symbol": "diamond"
         },
         "mode": "markers+text",
         "name": "Textsynth, 1",
         "orientation": "v",
         "showlegend": false,
         "text": [
          "GPT-J",
          "GPT-J"
         ],
         "textposition": [
          "bottom center",
          "bottom center",
          "bottom center",
          "bottom center",
          "bottom center",
          "bottom center",
          "bottom center",
          "bottom center",
          "bottom center",
          "bottom center",
          "bottom center",
          "bottom center",
          "bottom center",
          "bottom center",
          "bottom center",
          "bottom center",
          "bottom center",
          "bottom center",
          "bottom center",
          "bottom center",
          "bottom center",
          "bottom center",
          "bottom center",
          "bottom center",
          "bottom center",
          "bottom center",
          "bottom center",
          "bottom center",
          "bottom center",
          "bottom center",
          "bottom center",
          "bottom center",
          "bottom center",
          "bottom center"
         ],
         "type": "scatter",
         "x": [
          0.2773536,
          0.2773536
         ],
         "xaxis": "x",
         "y": [
          0.1,
          0.1
         ],
         "yaxis": "y"
        },
        {
         "hovertemplate": "Provider=AI21<br>Marker=3<br>Test_cost=%{x}<br>Test_acc=%{y}<br>Method=%{text}<extra></extra>",
         "legendgroup": "AI21, 3",
         "marker": {
          "color": "#F58518",
          "opacity": 0.7,
          "size": 15,
          "symbol": "circle"
         },
         "mode": "markers+text",
         "name": "AI21, 3",
         "orientation": "v",
         "showlegend": false,
         "text": [
          "   J1",
          "   J1"
         ],
         "textposition": [
          "bottom center",
          "bottom center",
          "bottom center",
          "bottom center",
          "bottom center",
          "bottom center",
          "bottom center",
          "bottom center",
          "bottom center",
          "bottom center",
          "bottom center",
          "bottom center",
          "bottom center",
          "bottom center",
          "bottom center",
          "bottom center",
          "bottom center",
          "bottom center",
          "bottom center",
          "bottom center",
          "bottom center",
          "bottom center",
          "bottom center",
          "bottom center",
          "bottom center",
          "bottom center",
          "bottom center",
          "bottom center",
          "bottom center",
          "bottom center",
          "bottom center",
          "bottom center",
          "bottom center",
          "bottom center"
         ],
         "type": "scatter",
         "x": [
          2.5,
          2.5
         ],
         "xaxis": "x",
         "y": [
          0.1,
          0.1
         ],
         "yaxis": "y"
        },
        {
         "hovertemplate": "Provider=AI21<br>Marker=2<br>Test_cost=%{x}<br>Test_acc=%{y}<br>Method=%{text}<extra></extra>",
         "legendgroup": "AI21, 2",
         "marker": {
          "color": "#F58518",
          "opacity": 0.7,
          "size": 15,
          "symbol": "square"
         },
         "mode": "markers+text",
         "name": "AI21, 2",
         "orientation": "v",
         "showlegend": false,
         "text": [
          "J1-G",
          "J1-G"
         ],
         "textposition": [
          "bottom center",
          "bottom center",
          "bottom center",
          "bottom center",
          "bottom center",
          "bottom center",
          "bottom center",
          "bottom center",
          "bottom center",
          "bottom center",
          "bottom center",
          "bottom center",
          "bottom center",
          "bottom center",
          "bottom center",
          "bottom center",
          "bottom center",
          "bottom center",
          "bottom center",
          "bottom center",
          "bottom center",
          "bottom center",
          "bottom center",
          "bottom center",
          "bottom center",
          "bottom center",
          "bottom center",
          "bottom center",
          "bottom center",
          "bottom center",
          "bottom center",
          "bottom center",
          "bottom center",
          "bottom center"
         ],
         "type": "scatter",
         "x": [
          4.80016,
          4.80016
         ],
         "xaxis": "x",
         "y": [
          0.1,
          0.1
         ],
         "yaxis": "y"
        },
        {
         "hovertemplate": "Provider=AI21<br>Marker=1<br>Test_cost=%{x}<br>Test_acc=%{y}<br>Method=%{text}<extra></extra>",
         "legendgroup": "AI21, 1",
         "marker": {
          "color": "#F58518",
          "opacity": 0.7,
          "size": 15,
          "symbol": "diamond"
         },
         "mode": "markers+text",
         "name": "AI21, 1",
         "orientation": "v",
         "showlegend": false,
         "text": [
          "J1-L",
          "J1-L"
         ],
         "textposition": [
          "bottom center",
          "bottom center",
          "bottom center",
          "bottom center",
          "bottom center",
          "bottom center",
          "bottom center",
          "bottom center",
          "bottom center",
          "bottom center",
          "bottom center",
          "bottom center",
          "bottom center",
          "bottom center",
          "bottom center",
          "bottom center",
          "bottom center",
          "bottom center",
          "bottom center",
          "bottom center",
          "bottom center",
          "bottom center",
          "bottom center",
          "bottom center",
          "bottom center",
          "bottom center",
          "bottom center",
          "bottom center",
          "bottom center",
          "bottom center",
          "bottom center",
          "bottom center",
          "bottom center",
          "bottom center"
         ],
         "type": "scatter",
         "x": [
          1.80042,
          1.80042
         ],
         "xaxis": "x",
         "y": [
          0.1,
          0.1
         ],
         "yaxis": "y"
        },
        {
         "hovertemplate": "Provider= CoHere<br>Marker=2<br>Test_cost=%{x}<br>Test_acc=%{y}<br>Method=%{text}<extra></extra>",
         "legendgroup": " CoHere, 2",
         "marker": {
          "color": "#E45756",
          "opacity": 0.7,
          "size": 15,
          "symbol": "square"
         },
         "mode": "markers+text",
         "name": " CoHere, 2",
         "orientation": "v",
         "showlegend": false,
         "text": [
          " CoHere",
          " CoHere"
         ],
         "textposition": [
          "bottom center",
          "bottom center",
          "bottom center",
          "bottom center",
          "bottom center",
          "bottom center",
          "bottom center",
          "bottom center",
          "bottom center",
          "bottom center",
          "bottom center",
          "bottom center",
          "bottom center",
          "bottom center",
          "bottom center",
          "bottom center",
          "bottom center",
          "bottom center",
          "bottom center",
          "bottom center",
          "bottom center",
          "bottom center",
          "bottom center",
          "bottom center",
          "bottom center",
          "bottom center",
          "bottom center",
          "bottom center",
          "bottom center",
          "bottom center",
          "bottom center",
          "bottom center",
          "bottom center",
          "bottom center"
         ],
         "type": "scatter",
         "x": [
          8.9586075,
          8.9586075
         ],
         "xaxis": "x",
         "y": [
          0.1,
          0.1
         ],
         "yaxis": "y"
        },
        {
         "hovertemplate": "Provider=FA<br>Marker=1<br>Test_cost=%{x}<br>Test_acc=%{y}<br>Method=%{text}<extra></extra>",
         "legendgroup": "FA, 1",
         "marker": {
          "color": "#72B7B2",
          "opacity": 0.7,
          "size": 15,
          "symbol": "diamond"
         },
         "mode": "markers+text",
         "name": "FA, 1",
         "orientation": "v",
         "showlegend": false,
         "text": [
          "FQ",
          "FQ"
         ],
         "textposition": [
          "bottom center",
          "bottom center",
          "bottom center",
          "bottom center",
          "bottom center",
          "bottom center",
          "bottom center",
          "bottom center",
          "bottom center",
          "bottom center",
          "bottom center",
          "bottom center",
          "bottom center",
          "bottom center",
          "bottom center",
          "bottom center",
          "bottom center",
          "bottom center",
          "bottom center",
          "bottom center",
          "bottom center",
          "bottom center",
          "bottom center",
          "bottom center",
          "bottom center",
          "bottom center",
          "bottom center",
          "bottom center",
          "bottom center",
          "bottom center",
          "bottom center",
          "bottom center",
          "bottom center",
          "bottom center"
         ],
         "type": "scatter",
         "x": [
          6.6724708,
          6.6724708
         ],
         "xaxis": "x",
         "y": [
          0.1,
          0.1
         ],
         "yaxis": "y"
        },
        {
         "hovertemplate": "Provider=OpenAI<br>Marker=3<br>Test_cost=%{x}<br>Test_acc=%{y}<br>Method=%{text}<extra></extra>",
         "legendgroup": "OpenAI, 3",
         "marker": {
          "color": "#54A24B",
          "opacity": 0.7,
          "size": 15,
          "symbol": "circle"
         },
         "mode": "markers+text",
         "name": "OpenAI, 3",
         "orientation": "v",
         "showlegend": false,
         "text": [
          "GPT-3",
          "GPT-4Turbo",
          "GPT-3",
          "GPT-4Turbo"
         ],
         "textposition": [
          "bottom center",
          "bottom center",
          "bottom center",
          "bottom center",
          "bottom center",
          "bottom center",
          "bottom center",
          "bottom center",
          "bottom center",
          "bottom center",
          "bottom center",
          "bottom center",
          "bottom center",
          "bottom center",
          "bottom center",
          "bottom center",
          "bottom center",
          "bottom center",
          "bottom center",
          "bottom center",
          "bottom center",
          "bottom center",
          "bottom center",
          "bottom center",
          "bottom center",
          "bottom center",
          "bottom center",
          "bottom center",
          "bottom center",
          "bottom center",
          "bottom center",
          "bottom center",
          "bottom center",
          "bottom center"
         ],
         "type": "scatter",
         "x": [
          2.1,
          94.991565,
          2.1,
          16.652775000000002
         ],
         "xaxis": "x",
         "y": [
          0.1,
          0.7785579722555233,
          0.1,
          0.8558
         ],
         "yaxis": "y"
        },
        {
         "hovertemplate": "Provider=OpenAI<br>Marker=2<br>Test_cost=%{x}<br>Test_acc=%{y}<br>Method=%{text}<extra></extra>",
         "legendgroup": "OpenAI, 2",
         "marker": {
          "color": "#54A24B",
          "opacity": 0.7,
          "size": 15,
          "symbol": "square"
         },
         "mode": "markers+text",
         "name": "OpenAI, 2",
         "orientation": "v",
         "showlegend": false,
         "text": [
          "ChatGPT",
          "             GPT-4o",
          "ChatGPT",
          "             GPT-4o"
         ],
         "textposition": [
          "bottom center",
          "bottom center",
          "bottom center",
          "bottom center",
          "bottom center",
          "bottom center",
          "bottom center",
          "bottom center",
          "bottom center",
          "bottom center",
          "bottom center",
          "bottom center",
          "bottom center",
          "bottom center",
          "bottom center",
          "bottom center",
          "bottom center",
          "bottom center",
          "bottom center",
          "bottom center",
          "bottom center",
          "bottom center",
          "bottom center",
          "bottom center",
          "bottom center",
          "bottom center",
          "bottom center",
          "bottom center",
          "bottom center",
          "bottom center",
          "bottom center",
          "bottom center",
          "bottom center",
          "bottom center"
         ],
         "type": "scatter",
         "x": [
          2.221348,
          31.56368000000001,
          2.221348,
          5.499465000000001
         ],
         "xaxis": "x",
         "y": [
          0.1,
          0.7717074841582463,
          0.1,
          0.8324
         ],
         "yaxis": "y"
        },
        {
         "hovertemplate": "Provider=OpenAI<br>Marker=1<br>Test_cost=%{x}<br>Test_acc=%{y}<br>Method=%{text}<extra></extra>",
         "legendgroup": "OpenAI, 1",
         "marker": {
          "color": "#54A24B",
          "opacity": 0.7,
          "size": 15,
          "symbol": "diamond"
         },
         "mode": "markers+text",
         "name": "OpenAI, 1",
         "orientation": "v",
         "showlegend": false,
         "text": [
          "GPT-C",
          "                                          GPT-4o-mini",
          "GPT-C",
          "                                          GPT-4o-mini"
         ],
         "textposition": [
          "bottom center",
          "bottom center",
          "bottom center",
          "bottom center",
          "bottom center",
          "bottom center",
          "bottom center",
          "bottom center",
          "bottom center",
          "bottom center",
          "bottom center",
          "bottom center",
          "bottom center",
          "bottom center",
          "bottom center",
          "bottom center",
          "bottom center",
          "bottom center",
          "bottom center",
          "bottom center",
          "bottom center",
          "bottom center",
          "bottom center",
          "bottom center",
          "bottom center",
          "bottom center",
          "bottom center",
          "bottom center",
          "bottom center",
          "bottom center",
          "bottom center",
          "bottom center",
          "bottom center",
          "bottom center"
         ],
         "type": "scatter",
         "x": [
          2.280752,
          0.9493557,
          2.280752,
          0.16567335
         ],
         "xaxis": "x",
         "y": [
          0.1,
          0.7557800993320775,
          0.1,
          0.8478
         ],
         "yaxis": "y"
        },
        {
         "hovertemplate": "Provider=OpenAI<br>Marker=4<br>Test_cost=%{x}<br>Test_acc=%{y}<br>Method=%{text}<extra></extra>",
         "legendgroup": "OpenAI, 4",
         "marker": {
          "color": "#54A24B",
          "opacity": 0.7,
          "size": 15,
          "symbol": "star"
         },
         "mode": "markers+text",
         "name": "OpenAI, 4",
         "orientation": "v",
         "showlegend": false,
         "text": [
          "GPT-4",
          "GPT-4"
         ],
         "textposition": [
          "bottom center",
          "bottom center",
          "bottom center",
          "bottom center",
          "bottom center",
          "bottom center",
          "bottom center",
          "bottom center",
          "bottom center",
          "bottom center",
          "bottom center",
          "bottom center",
          "bottom center",
          "bottom center",
          "bottom center",
          "bottom center",
          "bottom center",
          "bottom center",
          "bottom center",
          "bottom center",
          "bottom center",
          "bottom center",
          "bottom center",
          "bottom center",
          "bottom center",
          "bottom center",
          "bottom center",
          "bottom center",
          "bottom center",
          "bottom center",
          "bottom center",
          "bottom center",
          "bottom center",
          "bottom center"
         ],
         "type": "scatter",
         "x": [
          20.1,
          20.1
         ],
         "xaxis": "x",
         "y": [
          0.1,
          0.1
         ],
         "yaxis": "y"
        },
        {
         "hovertemplate": "Provider=togetherai<br>Marker=2<br>Test_cost=%{x}<br>Test_acc=%{y}<br>Method=%{text}<extra></extra>",
         "legendgroup": "togetherai, 2",
         "marker": {
          "color": "#EECA3B",
          "opacity": 0.7,
          "size": 15,
          "symbol": "square"
         },
         "mode": "markers+text",
         "name": "togetherai, 2",
         "orientation": "v",
         "showlegend": false,
         "text": [
          "      GM2 (9B)",
          "      GM2 (9B)"
         ],
         "textposition": [
          "bottom center",
          "bottom center",
          "bottom center",
          "bottom center",
          "bottom center",
          "bottom center",
          "bottom center",
          "bottom center",
          "bottom center",
          "bottom center",
          "bottom center",
          "bottom center",
          "bottom center",
          "bottom center",
          "bottom center",
          "bottom center",
          "bottom center",
          "bottom center",
          "bottom center",
          "bottom center",
          "bottom center",
          "bottom center",
          "bottom center",
          "bottom center",
          "bottom center",
          "bottom center",
          "bottom center",
          "bottom center",
          "bottom center",
          "bottom center",
          "bottom center",
          "bottom center",
          "bottom center",
          "bottom center"
         ],
         "type": "scatter",
         "x": [
          1.8594132,
          0.3520268999999999
         ],
         "xaxis": "x",
         "y": [
          0.7535536907004624,
          0.832
         ],
         "yaxis": "y"
        },
        {
         "hovertemplate": "Provider=togetherai<br>Marker=1<br>Test_cost=%{x}<br>Test_acc=%{y}<br>Method=%{text}<extra></extra>",
         "legendgroup": "togetherai, 1",
         "marker": {
          "color": "#EECA3B",
          "opacity": 0.7,
          "size": 15,
          "symbol": "diamond"
         },
         "mode": "markers+text",
         "name": "togetherai, 1",
         "orientation": "v",
         "showlegend": false,
         "text": [
          "              Llama 3 (70B)",
          "              Llama 3 (70B)"
         ],
         "textposition": [
          "bottom center",
          "bottom center",
          "bottom center",
          "bottom center",
          "bottom center",
          "bottom center",
          "bottom center",
          "bottom center",
          "bottom center",
          "bottom center",
          "bottom center",
          "bottom center",
          "bottom center",
          "bottom center",
          "bottom center",
          "bottom center",
          "bottom center",
          "bottom center",
          "bottom center",
          "bottom center",
          "bottom center",
          "bottom center",
          "bottom center",
          "bottom center",
          "bottom center",
          "bottom center",
          "bottom center",
          "bottom center",
          "bottom center",
          "bottom center",
          "bottom center",
          "bottom center",
          "bottom center",
          "bottom center"
         ],
         "type": "scatter",
         "x": [
          5.60205184,
          1.00351
         ],
         "xaxis": "x",
         "y": [
          0.2411371810241479,
          0.8264
         ],
         "yaxis": "y"
        },
        {
         "line": {
          "color": "red",
          "width": 5
         },
         "marker": {
          "color": "red",
          "opacity": 0.7,
          "size": 15
         },
         "mode": "lines+markers",
         "name": "FrugalGPT",
         "showlegend": true,
         "type": "scatter",
         "x": [
          0.9926300000000001,
          6.164751970999999,
          11.336879781,
          16.509001752,
          21.681129562,
          26.853251532999998,
          32.025379343,
          37.197501314,
          42.369629124,
          47.541751095,
          52.713878904999994,
          57.886000876000004,
          63.0581268421051,
          68.23025157894716,
          73.4023763157892,
          78.57450105263125,
          83.74662578947328,
          88.918750219,
          94.090878029,
          99.263
         ],
         "y": [
          0.7557800993320775,
          0.7845521493406405,
          0.7845521493406405,
          0.7850659359479363,
          0.7850659359479363,
          0.7850659359479363,
          0.7850659359479363,
          0.7850659359479363,
          0.7850659359479363,
          0.7871210823771194,
          0.7871210823771194,
          0.7871210823771194,
          0.7871210823771194,
          0.7871210823771194,
          0.7871210823771194,
          0.7871210823771194,
          0.7871210823771194,
          0.7871210823771194,
          0.7871210823771194,
          0.7871210823771194
         ]
        }
       ],
       "layout": {
        "font": {
         "family": "Arial",
         "size": 25
        },
        "height": 400,
        "legend": {
         "title": {
          "text": ""
         },
         "tracegroupgap": 0,
         "traceorder": "reversed",
         "x": 0.5,
         "xanchor": "center",
         "y": 1.1,
         "yanchor": "top"
        },
        "margin": {
         "b": 0,
         "l": 0,
         "r": 0,
         "t": 0
        },
        "plot_bgcolor": "white",
        "template": {
         "data": {
          "bar": [
           {
            "error_x": {
             "color": "#2a3f5f"
            },
            "error_y": {
             "color": "#2a3f5f"
            },
            "marker": {
             "line": {
              "color": "#E5ECF6",
              "width": 0.5
             },
             "pattern": {
              "fillmode": "overlay",
              "size": 10,
              "solidity": 0.2
             }
            },
            "type": "bar"
           }
          ],
          "barpolar": [
           {
            "marker": {
             "line": {
              "color": "#E5ECF6",
              "width": 0.5
             },
             "pattern": {
              "fillmode": "overlay",
              "size": 10,
              "solidity": 0.2
             }
            },
            "type": "barpolar"
           }
          ],
          "carpet": [
           {
            "aaxis": {
             "endlinecolor": "#2a3f5f",
             "gridcolor": "white",
             "linecolor": "white",
             "minorgridcolor": "white",
             "startlinecolor": "#2a3f5f"
            },
            "baxis": {
             "endlinecolor": "#2a3f5f",
             "gridcolor": "white",
             "linecolor": "white",
             "minorgridcolor": "white",
             "startlinecolor": "#2a3f5f"
            },
            "type": "carpet"
           }
          ],
          "choropleth": [
           {
            "colorbar": {
             "outlinewidth": 0,
             "ticks": ""
            },
            "type": "choropleth"
           }
          ],
          "contour": [
           {
            "colorbar": {
             "outlinewidth": 0,
             "ticks": ""
            },
            "colorscale": [
             [
              0,
              "#0d0887"
             ],
             [
              0.1111111111111111,
              "#46039f"
             ],
             [
              0.2222222222222222,
              "#7201a8"
             ],
             [
              0.3333333333333333,
              "#9c179e"
             ],
             [
              0.4444444444444444,
              "#bd3786"
             ],
             [
              0.5555555555555556,
              "#d8576b"
             ],
             [
              0.6666666666666666,
              "#ed7953"
             ],
             [
              0.7777777777777778,
              "#fb9f3a"
             ],
             [
              0.8888888888888888,
              "#fdca26"
             ],
             [
              1,
              "#f0f921"
             ]
            ],
            "type": "contour"
           }
          ],
          "contourcarpet": [
           {
            "colorbar": {
             "outlinewidth": 0,
             "ticks": ""
            },
            "type": "contourcarpet"
           }
          ],
          "heatmap": [
           {
            "colorbar": {
             "outlinewidth": 0,
             "ticks": ""
            },
            "colorscale": [
             [
              0,
              "#0d0887"
             ],
             [
              0.1111111111111111,
              "#46039f"
             ],
             [
              0.2222222222222222,
              "#7201a8"
             ],
             [
              0.3333333333333333,
              "#9c179e"
             ],
             [
              0.4444444444444444,
              "#bd3786"
             ],
             [
              0.5555555555555556,
              "#d8576b"
             ],
             [
              0.6666666666666666,
              "#ed7953"
             ],
             [
              0.7777777777777778,
              "#fb9f3a"
             ],
             [
              0.8888888888888888,
              "#fdca26"
             ],
             [
              1,
              "#f0f921"
             ]
            ],
            "type": "heatmap"
           }
          ],
          "heatmapgl": [
           {
            "colorbar": {
             "outlinewidth": 0,
             "ticks": ""
            },
            "colorscale": [
             [
              0,
              "#0d0887"
             ],
             [
              0.1111111111111111,
              "#46039f"
             ],
             [
              0.2222222222222222,
              "#7201a8"
             ],
             [
              0.3333333333333333,
              "#9c179e"
             ],
             [
              0.4444444444444444,
              "#bd3786"
             ],
             [
              0.5555555555555556,
              "#d8576b"
             ],
             [
              0.6666666666666666,
              "#ed7953"
             ],
             [
              0.7777777777777778,
              "#fb9f3a"
             ],
             [
              0.8888888888888888,
              "#fdca26"
             ],
             [
              1,
              "#f0f921"
             ]
            ],
            "type": "heatmapgl"
           }
          ],
          "histogram": [
           {
            "marker": {
             "pattern": {
              "fillmode": "overlay",
              "size": 10,
              "solidity": 0.2
             }
            },
            "type": "histogram"
           }
          ],
          "histogram2d": [
           {
            "colorbar": {
             "outlinewidth": 0,
             "ticks": ""
            },
            "colorscale": [
             [
              0,
              "#0d0887"
             ],
             [
              0.1111111111111111,
              "#46039f"
             ],
             [
              0.2222222222222222,
              "#7201a8"
             ],
             [
              0.3333333333333333,
              "#9c179e"
             ],
             [
              0.4444444444444444,
              "#bd3786"
             ],
             [
              0.5555555555555556,
              "#d8576b"
             ],
             [
              0.6666666666666666,
              "#ed7953"
             ],
             [
              0.7777777777777778,
              "#fb9f3a"
             ],
             [
              0.8888888888888888,
              "#fdca26"
             ],
             [
              1,
              "#f0f921"
             ]
            ],
            "type": "histogram2d"
           }
          ],
          "histogram2dcontour": [
           {
            "colorbar": {
             "outlinewidth": 0,
             "ticks": ""
            },
            "colorscale": [
             [
              0,
              "#0d0887"
             ],
             [
              0.1111111111111111,
              "#46039f"
             ],
             [
              0.2222222222222222,
              "#7201a8"
             ],
             [
              0.3333333333333333,
              "#9c179e"
             ],
             [
              0.4444444444444444,
              "#bd3786"
             ],
             [
              0.5555555555555556,
              "#d8576b"
             ],
             [
              0.6666666666666666,
              "#ed7953"
             ],
             [
              0.7777777777777778,
              "#fb9f3a"
             ],
             [
              0.8888888888888888,
              "#fdca26"
             ],
             [
              1,
              "#f0f921"
             ]
            ],
            "type": "histogram2dcontour"
           }
          ],
          "mesh3d": [
           {
            "colorbar": {
             "outlinewidth": 0,
             "ticks": ""
            },
            "type": "mesh3d"
           }
          ],
          "parcoords": [
           {
            "line": {
             "colorbar": {
              "outlinewidth": 0,
              "ticks": ""
             }
            },
            "type": "parcoords"
           }
          ],
          "pie": [
           {
            "automargin": true,
            "type": "pie"
           }
          ],
          "scatter": [
           {
            "fillpattern": {
             "fillmode": "overlay",
             "size": 10,
             "solidity": 0.2
            },
            "type": "scatter"
           }
          ],
          "scatter3d": [
           {
            "line": {
             "colorbar": {
              "outlinewidth": 0,
              "ticks": ""
             }
            },
            "marker": {
             "colorbar": {
              "outlinewidth": 0,
              "ticks": ""
             }
            },
            "type": "scatter3d"
           }
          ],
          "scattercarpet": [
           {
            "marker": {
             "colorbar": {
              "outlinewidth": 0,
              "ticks": ""
             }
            },
            "type": "scattercarpet"
           }
          ],
          "scattergeo": [
           {
            "marker": {
             "colorbar": {
              "outlinewidth": 0,
              "ticks": ""
             }
            },
            "type": "scattergeo"
           }
          ],
          "scattergl": [
           {
            "marker": {
             "colorbar": {
              "outlinewidth": 0,
              "ticks": ""
             }
            },
            "type": "scattergl"
           }
          ],
          "scattermapbox": [
           {
            "marker": {
             "colorbar": {
              "outlinewidth": 0,
              "ticks": ""
             }
            },
            "type": "scattermapbox"
           }
          ],
          "scatterpolar": [
           {
            "marker": {
             "colorbar": {
              "outlinewidth": 0,
              "ticks": ""
             }
            },
            "type": "scatterpolar"
           }
          ],
          "scatterpolargl": [
           {
            "marker": {
             "colorbar": {
              "outlinewidth": 0,
              "ticks": ""
             }
            },
            "type": "scatterpolargl"
           }
          ],
          "scatterternary": [
           {
            "marker": {
             "colorbar": {
              "outlinewidth": 0,
              "ticks": ""
             }
            },
            "type": "scatterternary"
           }
          ],
          "surface": [
           {
            "colorbar": {
             "outlinewidth": 0,
             "ticks": ""
            },
            "colorscale": [
             [
              0,
              "#0d0887"
             ],
             [
              0.1111111111111111,
              "#46039f"
             ],
             [
              0.2222222222222222,
              "#7201a8"
             ],
             [
              0.3333333333333333,
              "#9c179e"
             ],
             [
              0.4444444444444444,
              "#bd3786"
             ],
             [
              0.5555555555555556,
              "#d8576b"
             ],
             [
              0.6666666666666666,
              "#ed7953"
             ],
             [
              0.7777777777777778,
              "#fb9f3a"
             ],
             [
              0.8888888888888888,
              "#fdca26"
             ],
             [
              1,
              "#f0f921"
             ]
            ],
            "type": "surface"
           }
          ],
          "table": [
           {
            "cells": {
             "fill": {
              "color": "#EBF0F8"
             },
             "line": {
              "color": "white"
             }
            },
            "header": {
             "fill": {
              "color": "#C8D4E3"
             },
             "line": {
              "color": "white"
             }
            },
            "type": "table"
           }
          ]
         },
         "layout": {
          "annotationdefaults": {
           "arrowcolor": "#2a3f5f",
           "arrowhead": 0,
           "arrowwidth": 1
          },
          "autotypenumbers": "strict",
          "coloraxis": {
           "colorbar": {
            "outlinewidth": 0,
            "ticks": ""
           }
          },
          "colorscale": {
           "diverging": [
            [
             0,
             "#8e0152"
            ],
            [
             0.1,
             "#c51b7d"
            ],
            [
             0.2,
             "#de77ae"
            ],
            [
             0.3,
             "#f1b6da"
            ],
            [
             0.4,
             "#fde0ef"
            ],
            [
             0.5,
             "#f7f7f7"
            ],
            [
             0.6,
             "#e6f5d0"
            ],
            [
             0.7,
             "#b8e186"
            ],
            [
             0.8,
             "#7fbc41"
            ],
            [
             0.9,
             "#4d9221"
            ],
            [
             1,
             "#276419"
            ]
           ],
           "sequential": [
            [
             0,
             "#0d0887"
            ],
            [
             0.1111111111111111,
             "#46039f"
            ],
            [
             0.2222222222222222,
             "#7201a8"
            ],
            [
             0.3333333333333333,
             "#9c179e"
            ],
            [
             0.4444444444444444,
             "#bd3786"
            ],
            [
             0.5555555555555556,
             "#d8576b"
            ],
            [
             0.6666666666666666,
             "#ed7953"
            ],
            [
             0.7777777777777778,
             "#fb9f3a"
            ],
            [
             0.8888888888888888,
             "#fdca26"
            ],
            [
             1,
             "#f0f921"
            ]
           ],
           "sequentialminus": [
            [
             0,
             "#0d0887"
            ],
            [
             0.1111111111111111,
             "#46039f"
            ],
            [
             0.2222222222222222,
             "#7201a8"
            ],
            [
             0.3333333333333333,
             "#9c179e"
            ],
            [
             0.4444444444444444,
             "#bd3786"
            ],
            [
             0.5555555555555556,
             "#d8576b"
            ],
            [
             0.6666666666666666,
             "#ed7953"
            ],
            [
             0.7777777777777778,
             "#fb9f3a"
            ],
            [
             0.8888888888888888,
             "#fdca26"
            ],
            [
             1,
             "#f0f921"
            ]
           ]
          },
          "colorway": [
           "#636efa",
           "#EF553B",
           "#00cc96",
           "#ab63fa",
           "#FFA15A",
           "#19d3f3",
           "#FF6692",
           "#B6E880",
           "#FF97FF",
           "#FECB52"
          ],
          "font": {
           "color": "#2a3f5f"
          },
          "geo": {
           "bgcolor": "white",
           "lakecolor": "white",
           "landcolor": "#E5ECF6",
           "showlakes": true,
           "showland": true,
           "subunitcolor": "white"
          },
          "hoverlabel": {
           "align": "left"
          },
          "hovermode": "closest",
          "mapbox": {
           "style": "light"
          },
          "paper_bgcolor": "white",
          "plot_bgcolor": "#E5ECF6",
          "polar": {
           "angularaxis": {
            "gridcolor": "white",
            "linecolor": "white",
            "ticks": ""
           },
           "bgcolor": "#E5ECF6",
           "radialaxis": {
            "gridcolor": "white",
            "linecolor": "white",
            "ticks": ""
           }
          },
          "scene": {
           "xaxis": {
            "backgroundcolor": "#E5ECF6",
            "gridcolor": "white",
            "gridwidth": 2,
            "linecolor": "white",
            "showbackground": true,
            "ticks": "",
            "zerolinecolor": "white"
           },
           "yaxis": {
            "backgroundcolor": "#E5ECF6",
            "gridcolor": "white",
            "gridwidth": 2,
            "linecolor": "white",
            "showbackground": true,
            "ticks": "",
            "zerolinecolor": "white"
           },
           "zaxis": {
            "backgroundcolor": "#E5ECF6",
            "gridcolor": "white",
            "gridwidth": 2,
            "linecolor": "white",
            "showbackground": true,
            "ticks": "",
            "zerolinecolor": "white"
           }
          },
          "shapedefaults": {
           "line": {
            "color": "#2a3f5f"
           }
          },
          "ternary": {
           "aaxis": {
            "gridcolor": "white",
            "linecolor": "white",
            "ticks": ""
           },
           "baxis": {
            "gridcolor": "white",
            "linecolor": "white",
            "ticks": ""
           },
           "bgcolor": "#E5ECF6",
           "caxis": {
            "gridcolor": "white",
            "linecolor": "white",
            "ticks": ""
           }
          },
          "title": {
           "x": 0.05
          },
          "xaxis": {
           "automargin": true,
           "gridcolor": "white",
           "linecolor": "white",
           "ticks": "",
           "title": {
            "standoff": 15
           },
           "zerolinecolor": "white",
           "zerolinewidth": 2
          },
          "yaxis": {
           "automargin": true,
           "gridcolor": "white",
           "linecolor": "white",
           "ticks": "",
           "title": {
            "standoff": 15
           },
           "zerolinecolor": "white",
           "zerolinewidth": 2
          }
         }
        },
        "width": 500,
        "xaxis": {
         "anchor": "y",
         "autorange": true,
         "domain": [
          0,
          1
         ],
         "gridcolor": "lightgrey",
         "linecolor": "black",
         "linewidth": 2,
         "range": [
          -9.219653313807575,
          119.38532666380758
         ],
         "showline": true,
         "title": {
          "text": "Cost ($)"
         },
         "type": "linear"
        },
        "yaxis": {
         "anchor": "x",
         "domain": [
          0,
          1
         ],
         "gridcolor": "lightgrey",
         "linecolor": "black",
         "linewidth": 2,
         "range": [
          0.74,
          0.795
         ],
         "showline": true,
         "title": {
          "text": "Accuracy"
         },
         "type": "linear"
        }
       }
      },
      "image/png": "[encoded data removed]",
      "text/html": [
       "<div>                            <div id=\"582d11c4-4bbe-4af1-8c41-ac0998c2a401\" class=\"plotly-graph-div\" style=\"height:400px; width:500px;\"></div>            <script type=\"text/javascript\">                require([\"plotly\"], function(Plotly) {                    window.PLOTLYENV=window.PLOTLYENV || {};                                    if (document.getElementById(\"582d11c4-4bbe-4af1-8c41-ac0998c2a401\")) {                    Plotly.newPlot(                        \"582d11c4-4bbe-4af1-8c41-ac0998c2a401\",                        [{\"hovertemplate\":\"Provider=Textsynth\\u003cbr\\u003eMarker=3\\u003cbr\\u003eTest_cost=%{x}\\u003cbr\\u003eTest_acc=%{y}\\u003cbr\\u003eMethod=%{text}\\u003cextra\\u003e\\u003c\\u002fextra\\u003e\",\"legendgroup\":\"Textsynth, 3\",\"marker\":{\"color\":\"#4C78A8\",\"symbol\":\"circle\",\"size\":15,\"opacity\":0.7},\"mode\":\"markers+text\",\"name\":\"Textsynth, 3\",\"orientation\":\"v\",\"showlegend\":false,\"text\":[\"GPT-Neo\",\"GPT-Neo\"],\"x\":[110.0,1.9486362],\"xaxis\":\"x\",\"y\":[0.1,0.1],\"yaxis\":\"y\",\"type\":\"scatter\",\"textposition\":[\"bottom center\",\"bottom center\",\"bottom center\",\"bottom center\",\"bottom center\",\"bottom center\",\"bottom center\",\"bottom center\",\"bottom center\",\"bottom center\",\"bottom center\",\"bottom center\",\"bottom center\",\"bottom center\",\"bottom center\",\"bottom center\",\"bottom center\",\"bottom center\",\"bottom center\",\"bottom center\",\"bottom center\",\"bottom center\",\"bottom center\",\"bottom center\",\"bottom center\",\"bottom center\",\"bottom center\",\"bottom center\",\"bottom center\",\"bottom center\",\"bottom center\",\"bottom center\",\"bottom center\",\"bottom center\"]},{\"hovertemplate\":\"Provider=Textsynth\\u003cbr\\u003eMarker=2\\u003cbr\\u003eTest_cost=%{x}\\u003cbr\\u003eTest_acc=%{y}\\u003cbr\\u003eMethod=%{text}\\u003cextra\\u003e\\u003c\\u002fextra\\u003e\",\"legendgroup\":\"Textsynth, 2\",\"marker\":{\"color\":\"#4C78A8\",\"symbol\":\"square\",\"size\":15,\"opacity\":0.7},\"mode\":\"markers+text\",\"name\":\"Textsynth, 2\",\"orientation\":\"v\",\"showlegend\":false,\"text\":[\"FSQ\",\"FSQ\"],\"x\":[0.8044752,0.8044752],\"xaxis\":\"x\",\"y\":[0.1,0.1],\"yaxis\":\"y\",\"type\":\"scatter\",\"textposition\":[\"bottom center\",\"bottom center\",\"bottom center\",\"bottom center\",\"bottom center\",\"bottom center\",\"bottom center\",\"bottom center\",\"bottom center\",\"bottom center\",\"bottom center\",\"bottom center\",\"bottom center\",\"bottom center\",\"bottom center\",\"bottom center\",\"bottom center\",\"bottom center\",\"bottom center\",\"bottom center\",\"bottom center\",\"bottom center\",\"bottom center\",\"bottom center\",\"bottom center\",\"bottom center\",\"bottom center\",\"bottom center\",\"bottom center\",\"bottom center\",\"bottom center\",\"bottom center\",\"bottom center\",\"bottom center\"]},{\"hovertemplate\":\"Provider=Textsynth\\u003cbr\\u003eMarker=1\\u003cbr\\u003eTest_cost=%{x}\\u003cbr\\u003eTest_acc=%{y}\\u003cbr\\u003eMethod=%{text}\\u003cextra\\u003e\\u003c\\u002fextra\\u003e\",\"legendgroup\":\"Textsynth, 1\",\"marker\":{\"color\":\"#4C78A8\",\"symbol\":\"diamond\",\"size\":15,\"opacity\":0.7},\"mode\":\"markers+text\",\"name\":\"Textsynth, 1\",\"orientation\":\"v\",\"showlegend\":false,\"text\":[\"GPT-J\",\"GPT-J\"],\"x\":[0.2773536,0.2773536],\"xaxis\":\"x\",\"y\":[0.1,0.1],\"yaxis\":\"y\",\"type\":\"scatter\",\"textposition\":[\"bottom center\",\"bottom center\",\"bottom center\",\"bottom center\",\"bottom center\",\"bottom center\",\"bottom center\",\"bottom center\",\"bottom center\",\"bottom center\",\"bottom center\",\"bottom center\",\"bottom center\",\"bottom center\",\"bottom center\",\"bottom center\",\"bottom center\",\"bottom center\",\"bottom center\",\"bottom center\",\"bottom center\",\"bottom center\",\"bottom center\",\"bottom center\",\"bottom center\",\"bottom center\",\"bottom center\",\"bottom center\",\"bottom center\",\"bottom center\",\"bottom center\",\"bottom center\",\"bottom center\",\"bottom center\"]},{\"hovertemplate\":\"Provider=AI21\\u003cbr\\u003eMarker=3\\u003cbr\\u003eTest_cost=%{x}\\u003cbr\\u003eTest_acc=%{y}\\u003cbr\\u003eMethod=%{text}\\u003cextra\\u003e\\u003c\\u002fextra\\u003e\",\"legendgroup\":\"AI21, 3\",\"marker\":{\"color\":\"#F58518\",\"symbol\":\"circle\",\"size\":15,\"opacity\":0.7},\"mode\":\"markers+text\",\"name\":\"AI21, 3\",\"orientation\":\"v\",\"showlegend\":false,\"text\":[\"   J1\",\"   J1\"],\"x\":[2.5,2.5],\"xaxis\":\"x\",\"y\":[0.1,0.1],\"yaxis\":\"y\",\"type\":\"scatter\",\"textposition\":[\"bottom center\",\"bottom center\",\"bottom center\",\"bottom center\",\"bottom center\",\"bottom center\",\"bottom center\",\"bottom center\",\"bottom center\",\"bottom center\",\"bottom center\",\"bottom center\",\"bottom center\",\"bottom center\",\"bottom center\",\"bottom center\",\"bottom center\",\"bottom center\",\"bottom center\",\"bottom center\",\"bottom center\",\"bottom center\",\"bottom center\",\"bottom center\",\"bottom center\",\"bottom center\",\"bottom center\",\"bottom center\",\"bottom center\",\"bottom center\",\"bottom center\",\"bottom center\",\"bottom center\",\"bottom center\"]},{\"hovertemplate\":\"Provider=AI21\\u003cbr\\u003eMarker=2\\u003cbr\\u003eTest_cost=%{x}\\u003cbr\\u003eTest_acc=%{y}\\u003cbr\\u003eMethod=%{text}\\u003cextra\\u003e\\u003c\\u002fextra\\u003e\",\"legendgroup\":\"AI21, 2\",\"marker\":{\"color\":\"#F58518\",\"symbol\":\"square\",\"size\":15,\"opacity\":0.7},\"mode\":\"markers+text\",\"name\":\"AI21, 2\",\"orientation\":\"v\",\"showlegend\":false,\"text\":[\"J1-G\",\"J1-G\"],\"x\":[4.80016,4.80016],\"xaxis\":\"x\",\"y\":[0.1,0.1],\"yaxis\":\"y\",\"type\":\"scatter\",\"textposition\":[\"bottom center\",\"bottom center\",\"bottom center\",\"bottom center\",\"bottom center\",\"bottom center\",\"bottom center\",\"bottom center\",\"bottom center\",\"bottom center\",\"bottom center\",\"bottom center\",\"bottom center\",\"bottom center\",\"bottom center\",\"bottom center\",\"bottom center\",\"bottom center\",\"bottom center\",\"bottom center\",\"bottom center\",\"bottom center\",\"bottom center\",\"bottom center\",\"bottom center\",\"bottom center\",\"bottom center\",\"bottom center\",\"bottom center\",\"bottom center\",\"bottom center\",\"bottom center\",\"bottom center\",\"bottom center\"]},{\"hovertemplate\":\"Provider=AI21\\u003cbr\\u003eMarker=1\\u003cbr\\u003eTest_cost=%{x}\\u003cbr\\u003eTest_acc=%{y}\\u003cbr\\u003eMethod=%{text}\\u003cextra\\u003e\\u003c\\u002fextra\\u003e\",\"legendgroup\":\"AI21, 1\",\"marker\":{\"color\":\"#F58518\",\"symbol\":\"diamond\",\"size\":15,\"opacity\":0.7},\"mode\":\"markers+text\",\"name\":\"AI21, 1\",\"orientation\":\"v\",\"showlegend\":false,\"text\":[\"J1-L\",\"J1-L\"],\"x\":[1.80042,1.80042],\"xaxis\":\"x\",\"y\":[0.1,0.1],\"yaxis\":\"y\",\"type\":\"scatter\",\"textposition\":[\"bottom center\",\"bottom center\",\"bottom center\",\"bottom center\",\"bottom center\",\"bottom center\",\"bottom center\",\"bottom center\",\"bottom center\",\"bottom center\",\"bottom center\",\"bottom center\",\"bottom center\",\"bottom center\",\"bottom center\",\"bottom center\",\"bottom center\",\"bottom center\",\"bottom center\",\"bottom center\",\"bottom center\",\"bottom center\",\"bottom center\",\"bottom center\",\"bottom center\",\"bottom center\",\"bottom center\",\"bottom center\",\"bottom center\",\"bottom center\",\"bottom center\",\"bottom center\",\"bottom center\",\"bottom center\"]},{\"hovertemplate\":\"Provider= CoHere\\u003cbr\\u003eMarker=2\\u003cbr\\u003eTest_cost=%{x}\\u003cbr\\u003eTest_acc=%{y}\\u003cbr\\u003eMethod=%{text}\\u003cextra\\u003e\\u003c\\u002fextra\\u003e\",\"legendgroup\":\" CoHere, 2\",\"marker\":{\"color\":\"#E45756\",\"symbol\":\"square\",\"size\":15,\"opacity\":0.7},\"mode\":\"markers+text\",\"name\":\" CoHere, 2\",\"orientation\":\"v\",\"showlegend\":false,\"text\":[\" CoHere\",\" CoHere\"],\"x\":[8.9586075,8.9586075],\"xaxis\":\"x\",\"y\":[0.1,0.1],\"yaxis\":\"y\",\"type\":\"scatter\",\"textposition\":[\"bottom center\",\"bottom center\",\"bottom center\",\"bottom center\",\"bottom center\",\"bottom center\",\"bottom center\",\"bottom center\",\"bottom center\",\"bottom center\",\"bottom center\",\"bottom center\",\"bottom center\",\"bottom center\",\"bottom center\",\"bottom center\",\"bottom center\",\"bottom center\",\"bottom center\",\"bottom center\",\"bottom center\",\"bottom center\",\"bottom center\",\"bottom center\",\"bottom center\",\"bottom center\",\"bottom center\",\"bottom center\",\"bottom center\",\"bottom center\",\"bottom center\",\"bottom center\",\"bottom center\",\"bottom center\"]},{\"hovertemplate\":\"Provider=FA\\u003cbr\\u003eMarker=1\\u003cbr\\u003eTest_cost=%{x}\\u003cbr\\u003eTest_acc=%{y}\\u003cbr\\u003eMethod=%{text}\\u003cextra\\u003e\\u003c\\u002fextra\\u003e\",\"legendgroup\":\"FA, 1\",\"marker\":{\"color\":\"#72B7B2\",\"symbol\":\"diamond\",\"size\":15,\"opacity\":0.7},\"mode\":\"markers+text\",\"name\":\"FA, 1\",\"orientation\":\"v\",\"showlegend\":false,\"text\":[\"FQ\",\"FQ\"],\"x\":[6.6724708,6.6724708],\"xaxis\":\"x\",\"y\":[0.1,0.1],\"yaxis\":\"y\",\"type\":\"scatter\",\"textposition\":[\"bottom center\",\"bottom center\",\"bottom center\",\"bottom center\",\"bottom center\",\"bottom center\",\"bottom center\",\"bottom center\",\"bottom center\",\"bottom center\",\"bottom center\",\"bottom center\",\"bottom center\",\"bottom center\",\"bottom center\",\"bottom center\",\"bottom center\",\"bottom center\",\"bottom center\",\"bottom center\",\"bottom center\",\"bottom center\",\"bottom center\",\"bottom center\",\"bottom center\",\"bottom center\",\"bottom center\",\"bottom center\",\"bottom center\",\"bottom center\",\"bottom center\",\"bottom center\",\"bottom center\",\"bottom center\"]},{\"hovertemplate\":\"Provider=OpenAI\\u003cbr\\u003eMarker=3\\u003cbr\\u003eTest_cost=%{x}\\u003cbr\\u003eTest_acc=%{y}\\u003cbr\\u003eMethod=%{text}\\u003cextra\\u003e\\u003c\\u002fextra\\u003e\",\"legendgroup\":\"OpenAI, 3\",\"marker\":{\"color\":\"#54A24B\",\"symbol\":\"circle\",\"size\":15,\"opacity\":0.7},\"mode\":\"markers+text\",\"name\":\"OpenAI, 3\",\"orientation\":\"v\",\"showlegend\":false,\"text\":[\"GPT-3\",\"GPT-4Turbo\",\"GPT-3\",\"GPT-4Turbo\"],\"x\":[2.1,94.991565,2.1,16.652775000000002],\"xaxis\":\"x\",\"y\":[0.1,0.7785579722555233,0.1,0.8558],\"yaxis\":\"y\",\"type\":\"scatter\",\"textposition\":[\"bottom center\",\"bottom center\",\"bottom center\",\"bottom center\",\"bottom center\",\"bottom center\",\"bottom center\",\"bottom center\",\"bottom center\",\"bottom center\",\"bottom center\",\"bottom center\",\"bottom center\",\"bottom center\",\"bottom center\",\"bottom center\",\"bottom center\",\"bottom center\",\"bottom center\",\"bottom center\",\"bottom center\",\"bottom center\",\"bottom center\",\"bottom center\",\"bottom center\",\"bottom center\",\"bottom center\",\"bottom center\",\"bottom center\",\"bottom center\",\"bottom center\",\"bottom center\",\"bottom center\",\"bottom center\"]},{\"hovertemplate\":\"Provider=OpenAI\\u003cbr\\u003eMarker=2\\u003cbr\\u003eTest_cost=%{x}\\u003cbr\\u003eTest_acc=%{y}\\u003cbr\\u003eMethod=%{text}\\u003cextra\\u003e\\u003c\\u002fextra\\u003e\",\"legendgroup\":\"OpenAI, 2\",\"marker\":{\"color\":\"#54A24B\",\"symbol\":\"square\",\"size\":15,\"opacity\":0.7},\"mode\":\"markers+text\",\"name\":\"OpenAI, 2\",\"orientation\":\"v\",\"showlegend\":false,\"text\":[\"ChatGPT\",\"             GPT-4o\",\"ChatGPT\",\"             GPT-4o\"],\"x\":[2.221348,31.56368000000001,2.221348,5.499465000000001],\"xaxis\":\"x\",\"y\":[0.1,0.7717074841582463,0.1,0.8324],\"yaxis\":\"y\",\"type\":\"scatter\",\"textposition\":[\"bottom center\",\"bottom center\",\"bottom center\",\"bottom center\",\"bottom center\",\"bottom center\",\"bottom center\",\"bottom center\",\"bottom center\",\"bottom center\",\"bottom center\",\"bottom center\",\"bottom center\",\"bottom center\",\"bottom center\",\"bottom center\",\"bottom center\",\"bottom center\",\"bottom center\",\"bottom center\",\"bottom center\",\"bottom center\",\"bottom center\",\"bottom center\",\"bottom center\",\"bottom center\",\"bottom center\",\"bottom center\",\"bottom center\",\"bottom center\",\"bottom center\",\"bottom center\",\"bottom center\",\"bottom center\"]},{\"hovertemplate\":\"Provider=OpenAI\\u003cbr\\u003eMarker=1\\u003cbr\\u003eTest_cost=%{x}\\u003cbr\\u003eTest_acc=%{y}\\u003cbr\\u003eMethod=%{text}\\u003cextra\\u003e\\u003c\\u002fextra\\u003e\",\"legendgroup\":\"OpenAI, 1\",\"marker\":{\"color\":\"#54A24B\",\"symbol\":\"diamond\",\"size\":15,\"opacity\":0.7},\"mode\":\"markers+text\",\"name\":\"OpenAI, 1\",\"orientation\":\"v\",\"showlegend\":false,\"text\":[\"GPT-C\",\"                                          GPT-4o-mini\",\"GPT-C\",\"                                          GPT-4o-mini\"],\"x\":[2.280752,0.9493557,2.280752,0.16567335],\"xaxis\":\"x\",\"y\":[0.1,0.7557800993320775,0.1,0.8478],\"yaxis\":\"y\",\"type\":\"scatter\",\"textposition\":[\"bottom center\",\"bottom center\",\"bottom center\",\"bottom center\",\"bottom center\",\"bottom center\",\"bottom center\",\"bottom center\",\"bottom center\",\"bottom center\",\"bottom center\",\"bottom center\",\"bottom center\",\"bottom center\",\"bottom center\",\"bottom center\",\"bottom center\",\"bottom center\",\"bottom center\",\"bottom center\",\"bottom center\",\"bottom center\",\"bottom center\",\"bottom center\",\"bottom center\",\"bottom center\",\"bottom center\",\"bottom center\",\"bottom center\",\"bottom center\",\"bottom center\",\"bottom center\",\"bottom center\",\"bottom center\"]},{\"hovertemplate\":\"Provider=OpenAI\\u003cbr\\u003eMarker=4\\u003cbr\\u003eTest_cost=%{x}\\u003cbr\\u003eTest_acc=%{y}\\u003cbr\\u003eMethod=%{text}\\u003cextra\\u003e\\u003c\\u002fextra\\u003e\",\"legendgroup\":\"OpenAI, 4\",\"marker\":{\"color\":\"#54A24B\",\"symbol\":\"star\",\"size\":15,\"opacity\":0.7},\"mode\":\"markers+text\",\"name\":\"OpenAI, 4\",\"orientation\":\"v\",\"showlegend\":false,\"text\":[\"GPT-4\",\"GPT-4\"],\"x\":[20.1,20.1],\"xaxis\":\"x\",\"y\":[0.1,0.1],\"yaxis\":\"y\",\"type\":\"scatter\",\"textposition\":[\"bottom center\",\"bottom center\",\"bottom center\",\"bottom center\",\"bottom center\",\"bottom center\",\"bottom center\",\"bottom center\",\"bottom center\",\"bottom center\",\"bottom center\",\"bottom center\",\"bottom center\",\"bottom center\",\"bottom center\",\"bottom center\",\"bottom center\",\"bottom center\",\"bottom center\",\"bottom center\",\"bottom center\",\"bottom center\",\"bottom center\",\"bottom center\",\"bottom center\",\"bottom center\",\"bottom center\",\"bottom center\",\"bottom center\",\"bottom center\",\"bottom center\",\"bottom center\",\"bottom center\",\"bottom center\"]},{\"hovertemplate\":\"Provider=togetherai\\u003cbr\\u003eMarker=2\\u003cbr\\u003eTest_cost=%{x}\\u003cbr\\u003eTest_acc=%{y}\\u003cbr\\u003eMethod=%{text}\\u003cextra\\u003e\\u003c\\u002fextra\\u003e\",\"legendgroup\":\"togetherai, 2\",\"marker\":{\"color\":\"#EECA3B\",\"symbol\":\"square\",\"size\":15,\"opacity\":0.7},\"mode\":\"markers+text\",\"name\":\"togetherai, 2\",\"orientation\":\"v\",\"showlegend\":false,\"text\":[\"      GM2 (9B)\",\"      GM2 (9B)\"],\"x\":[1.8594132,0.3520268999999999],\"xaxis\":\"x\",\"y\":[0.7535536907004624,0.832],\"yaxis\":\"y\",\"type\":\"scatter\",\"textposition\":[\"bottom center\",\"bottom center\",\"bottom center\",\"bottom center\",\"bottom center\",\"bottom center\",\"bottom center\",\"bottom center\",\"bottom center\",\"bottom center\",\"bottom center\",\"bottom center\",\"bottom center\",\"bottom center\",\"bottom center\",\"bottom center\",\"bottom center\",\"bottom center\",\"bottom center\",\"bottom center\",\"bottom center\",\"bottom center\",\"bottom center\",\"bottom center\",\"bottom center\",\"bottom center\",\"bottom center\",\"bottom center\",\"bottom center\",\"bottom center\",\"bottom center\",\"bottom center\",\"bottom center\",\"bottom center\"]},{\"hovertemplate\":\"Provider=togetherai\\u003cbr\\u003eMarker=1\\u003cbr\\u003eTest_cost=%{x}\\u003cbr\\u003eTest_acc=%{y}\\u003cbr\\u003eMethod=%{text}\\u003cextra\\u003e\\u003c\\u002fextra\\u003e\",\"legendgroup\":\"togetherai, 1\",\"marker\":{\"color\":\"#EECA3B\",\"symbol\":\"diamond\",\"size\":15,\"opacity\":0.7},\"mode\":\"markers+text\",\"name\":\"togetherai, 1\",\"orientation\":\"v\",\"showlegend\":false,\"text\":[\"              Llama 3 (70B)\",\"              Llama 3 (70B)\"],\"x\":[5.60205184,1.00351],\"xaxis\":\"x\",\"y\":[0.2411371810241479,0.8264],\"yaxis\":\"y\",\"type\":\"scatter\",\"textposition\":[\"bottom center\",\"bottom center\",\"bottom center\",\"bottom center\",\"bottom center\",\"bottom center\",\"bottom center\",\"bottom center\",\"bottom center\",\"bottom center\",\"bottom center\",\"bottom center\",\"bottom center\",\"bottom center\",\"bottom center\",\"bottom center\",\"bottom center\",\"bottom center\",\"bottom center\",\"bottom center\",\"bottom center\",\"bottom center\",\"bottom center\",\"bottom center\",\"bottom center\",\"bottom center\",\"bottom center\",\"bottom center\",\"bottom center\",\"bottom center\",\"bottom center\",\"bottom center\",\"bottom center\",\"bottom center\"]},{\"line\":{\"color\":\"red\",\"width\":5},\"marker\":{\"color\":\"red\",\"size\":15,\"opacity\":0.7},\"mode\":\"lines+markers\",\"name\":\"FrugalGPT\",\"showlegend\":true,\"x\":[0.9926300000000001,6.164751970999999,11.336879781,16.509001752,21.681129562,26.853251532999998,32.025379343,37.197501314,42.369629124,47.541751095,52.713878904999994,57.886000876000004,63.0581268421051,68.23025157894716,73.4023763157892,78.57450105263125,83.74662578947328,88.918750219,94.090878029,99.263],\"y\":[0.7557800993320775,0.7845521493406405,0.7845521493406405,0.7850659359479363,0.7850659359479363,0.7850659359479363,0.7850659359479363,0.7850659359479363,0.7850659359479363,0.7871210823771194,0.7871210823771194,0.7871210823771194,0.7871210823771194,0.7871210823771194,0.7871210823771194,0.7871210823771194,0.7871210823771194,0.7871210823771194,0.7871210823771194,0.7871210823771194],\"type\":\"scatter\"}],                        {\"template\":{\"data\":{\"histogram2dcontour\":[{\"type\":\"histogram2dcontour\",\"colorbar\":{\"outlinewidth\":0,\"ticks\":\"\"},\"colorscale\":[[0.0,\"#0d0887\"],[0.1111111111111111,\"#46039f\"],[0.2222222222222222,\"#7201a8\"],[0.3333333333333333,\"#9c179e\"],[0.4444444444444444,\"#bd3786\"],[0.5555555555555556,\"#d8576b\"],[0.6666666666666666,\"#ed7953\"],[0.7777777777777778,\"#fb9f3a\"],[0.8888888888888888,\"#fdca26\"],[1.0,\"#f0f921\"]]}],\"choropleth\":[{\"type\":\"choropleth\",\"colorbar\":{\"outlinewidth\":0,\"ticks\":\"\"}}],\"histogram2d\":[{\"type\":\"histogram2d\",\"colorbar\":{\"outlinewidth\":0,\"ticks\":\"\"},\"colorscale\":[[0.0,\"#0d0887\"],[0.1111111111111111,\"#46039f\"],[0.2222222222222222,\"#7201a8\"],[0.3333333333333333,\"#9c179e\"],[0.4444444444444444,\"#bd3786\"],[0.5555555555555556,\"#d8576b\"],[0.6666666666666666,\"#ed7953\"],[0.7777777777777778,\"#fb9f3a\"],[0.8888888888888888,\"#fdca26\"],[1.0,\"#f0f921\"]]}],\"heatmap\":[{\"type\":\"heatmap\",\"colorbar\":{\"outlinewidth\":0,\"ticks\":\"\"},\"colorscale\":[[0.0,\"#0d0887\"],[0.1111111111111111,\"#46039f\"],[0.2222222222222222,\"#7201a8\"],[0.3333333333333333,\"#9c179e\"],[0.4444444444444444,\"#bd3786\"],[0.5555555555555556,\"#d8576b\"],[0.6666666666666666,\"#ed7953\"],[0.7777777777777778,\"#fb9f3a\"],[0.8888888888888888,\"#fdca26\"],[1.0,\"#f0f921\"]]}],\"heatmapgl\":[{\"type\":\"heatmapgl\",\"colorbar\":{\"outlinewidth\":0,\"ticks\":\"\"},\"colorscale\":[[0.0,\"#0d0887\"],[0.1111111111111111,\"#46039f\"],[0.2222222222222222,\"#7201a8\"],[0.3333333333333333,\"#9c179e\"],[0.4444444444444444,\"#bd3786\"],[0.5555555555555556,\"#d8576b\"],[0.6666666666666666,\"#ed7953\"],[0.7777777777777778,\"#fb9f3a\"],[0.8888888888888888,\"#fdca26\"],[1.0,\"#f0f921\"]]}],\"contourcarpet\":[{\"type\":\"contourcarpet\",\"colorbar\":{\"outlinewidth\":0,\"ticks\":\"\"}}],\"contour\":[{\"type\":\"contour\",\"colorbar\":{\"outlinewidth\":0,\"ticks\":\"\"},\"colorscale\":[[0.0,\"#0d0887\"],[0.1111111111111111,\"#46039f\"],[0.2222222222222222,\"#7201a8\"],[0.3333333333333333,\"#9c179e\"],[0.4444444444444444,\"#bd3786\"],[0.5555555555555556,\"#d8576b\"],[0.6666666666666666,\"#ed7953\"],[0.7777777777777778,\"#fb9f3a\"],[0.8888888888888888,\"#fdca26\"],[1.0,\"#f0f921\"]]}],\"surface\":[{\"type\":\"surface\",\"colorbar\":{\"outlinewidth\":0,\"ticks\":\"\"},\"colorscale\":[[0.0,\"#0d0887\"],[0.1111111111111111,\"#46039f\"],[0.2222222222222222,\"#7201a8\"],[0.3333333333333333,\"#9c179e\"],[0.4444444444444444,\"#bd3786\"],[0.5555555555555556,\"#d8576b\"],[0.6666666666666666,\"#ed7953\"],[0.7777777777777778,\"#fb9f3a\"],[0.8888888888888888,\"#fdca26\"],[1.0,\"#f0f921\"]]}],\"mesh3d\":[{\"type\":\"mesh3d\",\"colorbar\":{\"outlinewidth\":0,\"ticks\":\"\"}}],\"scatter\":[{\"fillpattern\":{\"fillmode\":\"overlay\",\"size\":10,\"solidity\":0.2},\"type\":\"scatter\"}],\"parcoords\":[{\"type\":\"parcoords\",\"line\":{\"colorbar\":{\"outlinewidth\":0,\"ticks\":\"\"}}}],\"scatterpolargl\":[{\"type\":\"scatterpolargl\",\"marker\":{\"colorbar\":{\"outlinewidth\":0,\"ticks\":\"\"}}}],\"bar\":[{\"error_x\":{\"color\":\"#2a3f5f\"},\"error_y\":{\"color\":\"#2a3f5f\"},\"marker\":{\"line\":{\"color\":\"#E5ECF6\",\"width\":0.5},\"pattern\":{\"fillmode\":\"overlay\",\"size\":10,\"solidity\":0.2}},\"type\":\"bar\"}],\"scattergeo\":[{\"type\":\"scattergeo\",\"marker\":{\"colorbar\":{\"outlinewidth\":0,\"ticks\":\"\"}}}],\"scatterpolar\":[{\"type\":\"scatterpolar\",\"marker\":{\"colorbar\":{\"outlinewidth\":0,\"ticks\":\"\"}}}],\"histogram\":[{\"marker\":{\"pattern\":{\"fillmode\":\"overlay\",\"size\":10,\"solidity\":0.2}},\"type\":\"histogram\"}],\"scattergl\":[{\"type\":\"scattergl\",\"marker\":{\"colorbar\":{\"outlinewidth\":0,\"ticks\":\"\"}}}],\"scatter3d\":[{\"type\":\"scatter3d\",\"line\":{\"colorbar\":{\"outlinewidth\":0,\"ticks\":\"\"}},\"marker\":{\"colorbar\":{\"outlinewidth\":0,\"ticks\":\"\"}}}],\"scattermapbox\":[{\"type\":\"scattermapbox\",\"marker\":{\"colorbar\":{\"outlinewidth\":0,\"ticks\":\"\"}}}],\"scatterternary\":[{\"type\":\"scatterternary\",\"marker\":{\"colorbar\":{\"outlinewidth\":0,\"ticks\":\"\"}}}],\"scattercarpet\":[{\"type\":\"scattercarpet\",\"marker\":{\"colorbar\":{\"outlinewidth\":0,\"ticks\":\"\"}}}],\"carpet\":[{\"aaxis\":{\"endlinecolor\":\"#2a3f5f\",\"gridcolor\":\"white\",\"linecolor\":\"white\",\"minorgridcolor\":\"white\",\"startlinecolor\":\"#2a3f5f\"},\"baxis\":{\"endlinecolor\":\"#2a3f5f\",\"gridcolor\":\"white\",\"linecolor\":\"white\",\"minorgridcolor\":\"white\",\"startlinecolor\":\"#2a3f5f\"},\"type\":\"carpet\"}],\"table\":[{\"cells\":{\"fill\":{\"color\":\"#EBF0F8\"},\"line\":{\"color\":\"white\"}},\"header\":{\"fill\":{\"color\":\"#C8D4E3\"},\"line\":{\"color\":\"white\"}},\"type\":\"table\"}],\"barpolar\":[{\"marker\":{\"line\":{\"color\":\"#E5ECF6\",\"width\":0.5},\"pattern\":{\"fillmode\":\"overlay\",\"size\":10,\"solidity\":0.2}},\"type\":\"barpolar\"}],\"pie\":[{\"automargin\":true,\"type\":\"pie\"}]},\"layout\":{\"autotypenumbers\":\"strict\",\"colorway\":[\"#636efa\",\"#EF553B\",\"#00cc96\",\"#ab63fa\",\"#FFA15A\",\"#19d3f3\",\"#FF6692\",\"#B6E880\",\"#FF97FF\",\"#FECB52\"],\"font\":{\"color\":\"#2a3f5f\"},\"hovermode\":\"closest\",\"hoverlabel\":{\"align\":\"left\"},\"paper_bgcolor\":\"white\",\"plot_bgcolor\":\"#E5ECF6\",\"polar\":{\"bgcolor\":\"#E5ECF6\",\"angularaxis\":{\"gridcolor\":\"white\",\"linecolor\":\"white\",\"ticks\":\"\"},\"radialaxis\":{\"gridcolor\":\"white\",\"linecolor\":\"white\",\"ticks\":\"\"}},\"ternary\":{\"bgcolor\":\"#E5ECF6\",\"aaxis\":{\"gridcolor\":\"white\",\"linecolor\":\"white\",\"ticks\":\"\"},\"baxis\":{\"gridcolor\":\"white\",\"linecolor\":\"white\",\"ticks\":\"\"},\"caxis\":{\"gridcolor\":\"white\",\"linecolor\":\"white\",\"ticks\":\"\"}},\"coloraxis\":{\"colorbar\":{\"outlinewidth\":0,\"ticks\":\"\"}},\"colorscale\":{\"sequential\":[[0.0,\"#0d0887\"],[0.1111111111111111,\"#46039f\"],[0.2222222222222222,\"#7201a8\"],[0.3333333333333333,\"#9c179e\"],[0.4444444444444444,\"#bd3786\"],[0.5555555555555556,\"#d8576b\"],[0.6666666666666666,\"#ed7953\"],[0.7777777777777778,\"#fb9f3a\"],[0.8888888888888888,\"#fdca26\"],[1.0,\"#f0f921\"]],\"sequentialminus\":[[0.0,\"#0d0887\"],[0.1111111111111111,\"#46039f\"],[0.2222222222222222,\"#7201a8\"],[0.3333333333333333,\"#9c179e\"],[0.4444444444444444,\"#bd3786\"],[0.5555555555555556,\"#d8576b\"],[0.6666666666666666,\"#ed7953\"],[0.7777777777777778,\"#fb9f3a\"],[0.8888888888888888,\"#fdca26\"],[1.0,\"#f0f921\"]],\"diverging\":[[0,\"#8e0152\"],[0.1,\"#c51b7d\"],[0.2,\"#de77ae\"],[0.3,\"#f1b6da\"],[0.4,\"#fde0ef\"],[0.5,\"#f7f7f7\"],[0.6,\"#e6f5d0\"],[0.7,\"#b8e186\"],[0.8,\"#7fbc41\"],[0.9,\"#4d9221\"],[1,\"#276419\"]]},\"xaxis\":{\"gridcolor\":\"white\",\"linecolor\":\"white\",\"ticks\":\"\",\"title\":{\"standoff\":15},\"zerolinecolor\":\"white\",\"automargin\":true,\"zerolinewidth\":2},\"yaxis\":{\"gridcolor\":\"white\",\"linecolor\":\"white\",\"ticks\":\"\",\"title\":{\"standoff\":15},\"zerolinecolor\":\"white\",\"automargin\":true,\"zerolinewidth\":2},\"scene\":{\"xaxis\":{\"backgroundcolor\":\"#E5ECF6\",\"gridcolor\":\"white\",\"linecolor\":\"white\",\"showbackground\":true,\"ticks\":\"\",\"zerolinecolor\":\"white\",\"gridwidth\":2},\"yaxis\":{\"backgroundcolor\":\"#E5ECF6\",\"gridcolor\":\"white\",\"linecolor\":\"white\",\"showbackground\":true,\"ticks\":\"\",\"zerolinecolor\":\"white\",\"gridwidth\":2},\"zaxis\":{\"backgroundcolor\":\"#E5ECF6\",\"gridcolor\":\"white\",\"linecolor\":\"white\",\"showbackground\":true,\"ticks\":\"\",\"zerolinecolor\":\"white\",\"gridwidth\":2}},\"shapedefaults\":{\"line\":{\"color\":\"#2a3f5f\"}},\"annotationdefaults\":{\"arrowcolor\":\"#2a3f5f\",\"arrowhead\":0,\"arrowwidth\":1},\"geo\":{\"bgcolor\":\"white\",\"landcolor\":\"#E5ECF6\",\"subunitcolor\":\"white\",\"showland\":true,\"showlakes\":true,\"lakecolor\":\"white\"},\"title\":{\"x\":0.05},\"mapbox\":{\"style\":\"light\"}}},\"xaxis\":{\"anchor\":\"y\",\"domain\":[0.0,1.0],\"title\":{\"text\":\"Cost ($)\"},\"showline\":true,\"linewidth\":2,\"linecolor\":\"black\",\"gridcolor\":\"lightgrey\"},\"yaxis\":{\"anchor\":\"x\",\"domain\":[0.0,1.0],\"title\":{\"text\":\"Accuracy\"},\"showline\":true,\"linewidth\":2,\"linecolor\":\"black\",\"gridcolor\":\"lightgrey\",\"range\":[0.74,0.795]},\"legend\":{\"title\":{\"text\":\"\"},\"tracegroupgap\":0,\"yanchor\":\"top\",\"y\":1.1,\"xanchor\":\"center\",\"x\":0.5,\"traceorder\":\"reversed\"},\"margin\":{\"t\":0,\"l\":0,\"r\":0,\"b\":0},\"height\":400,\"width\":500,\"font\":{\"family\":\"Arial\",\"size\":25},\"plot_bgcolor\":\"white\"},                        {\"responsive\": true}                    ).then(function(){\n",
       "                            \n",
       "var gd = document.getElementById('582d11c4-4bbe-4af1-8c41-ac0998c2a401');\n",
       "var x = new MutationObserver(function (mutations, observer) {{\n",
       "        var display = window.getComputedStyle(gd).display;\n",
       "        if (!display || display === 'none') {{\n",
       "            console.log([gd, 'removed!']);\n",
       "            Plotly.purge(gd);\n",
       "            observer.disconnect();\n",
       "        }}\n",
       "}});\n",
       "\n",
       "// Listen for the removal of the full notebook cells\n",
       "var notebookContainer = gd.closest('#notebook-container');\n",
       "if (notebookContainer) {{\n",
       "    x.observe(notebookContainer, {childList: true});\n",
       "}}\n",
       "\n",
       "// Listen for the clearing of the current output cell\n",
       "var outputEl = gd.closest('.output');\n",
       "if (outputEl) {{\n",
       "    x.observe(outputEl, {childList: true});\n",
       "}}\n",
       "\n",
       "                        })                };                });            </script>        </div>"
      ]
     },
     "metadata": {},
     "output_type": "display_data"
    }
   ],
   "source": [
    "show_tradeoffs(SingleLLM = ['Meta-Llama-3-70B-Instruct-Turbo',\n",
    "    \"gpt-4o-mini\",\"gpt-4o\",\"gpt-4-turbo\",\"gemma-2-9b-it\",\"CHATGPT\",\"GPT-C\",\"GPT-3\",\"GPT-4\",\"GPT-Neo\",\"GPT-J\",\"GPT-FSQ\",\"CoHere\",\"J1\",\"J1-G\",\"J1-L\",\"FA-Q\"],\n",
    "              savepath=\"../../figures/SCIQ_2024updatemodel.pdf\",\n",
    "               datapath=\"../../summary/sciq_e8_perf_seed_9_2024updatedmodel.csv\",\n",
    "            datapath_FT='../../summary/headlines_e8_perf_seed_9_2024updatedmodel.csv',\n",
    "               legend=True,\n",
    "              LLM_Name_MAP={\n",
    "                  \"Meta-Llama-3-70B-Instruct-Turbo\":\"              Llama 3 (70B)\",\n",
    "                  \"gemma-2-9b-it\":\"      GM2 (9B)\",\n",
    "                  \"gpt-4o\":\"             GPT-4o\", \n",
    "                  \"gpt-4o-mini\":\"                                          GPT-4o-mini\",\n",
    "                  \"gpt-4-turbo\":\"GPT-4Turbo\",\n",
    "                  \"GPT-FSQ\":\"FSQ\",\"GPT-C\":\"GPT-C\",\"CoHere\":\" CoHere\",\"CoHere-M\":\"C-M\",\"FA-Q\":\"FQ\",\"FA-C\":\"FC\",\"FT-C\":\"FT\",\"CHATGPT\":\"ChatGPT\",\"J1\":\"   J1\"},\n",
    "              yrange=[0.74,0.795],\n",
    "                     width=500,\n",
    "                   height=400,\n",
    "              )"
   ]
  },
  {
   "cell_type": "code",
   "execution_count": null,
   "metadata": {},
   "outputs": [],
   "source": []
  }
 ],
 "metadata": {
  "kernelspec": {
   "display_name": "Python 3 (ipykernel)",
   "language": "python",
   "name": "python3"
  },
  "language_info": {
   "codemirror_mode": {
    "name": "ipython",
    "version": 3
   },
   "file_extension": ".py",
   "mimetype": "text/x-python",
   "name": "python",
   "nbconvert_exporter": "python",
   "pygments_lexer": "ipython3",
   "version": "3.9.19"
  }
 },
 "nbformat": 4,
 "nbformat_minor": 4
}
